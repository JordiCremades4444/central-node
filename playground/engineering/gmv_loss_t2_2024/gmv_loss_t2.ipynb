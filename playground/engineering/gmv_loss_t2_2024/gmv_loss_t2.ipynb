{
 "cells": [
  {
   "cell_type": "markdown",
   "metadata": {},
   "source": [
    "# GMV loss Tier 2 data product"
   ]
  },
  {
   "cell_type": "markdown",
   "metadata": {},
   "source": [
    "## Executive summary"
   ]
  },
  {
   "cell_type": "markdown",
   "metadata": {},
   "source": [
    "In this notebook, we will create the final logic for GMV loss and GMV saved \n",
    "\n",
    "Multiple data quality checks were performed, and there is no re"
   ]
  },
  {
   "cell_type": "markdown",
   "metadata": {},
   "source": [
    "## Plan"
   ]
  },
  {
   "cell_type": "markdown",
   "metadata": {},
   "source": [
    "Tasks\n",
    "- [X] Define query at a product level\n",
    "- [X] Define table for GMV loss at a product level\n",
    "- [X] Define query at an order level\n",
    "- [X] Define table for GMV loss at an order level\n",
    "- [X] Data quality checks\n",
    "\n",
    "Conclusions\n",
    "- [X] Anything to add to knowledge\n",
    "- [X] Any query to add to repo"
   ]
  },
  {
   "cell_type": "markdown",
   "metadata": {},
   "source": [
    "## Config"
   ]
  },
  {
   "cell_type": "code",
   "execution_count": 46,
   "metadata": {},
   "outputs": [],
   "source": [
    "# import matplotlib.pyplot as  plt\n",
    "import pandas as pd\n",
    "import sys\n",
    "\n",
    "sys.path.append('c:\\\\Users\\\\Jordi Cremades\\\\Documents\\\\Repository')\n",
    "\n",
    "# from utils import dataset_meta_stats\n",
    "# from utils import dataset_stats\n",
    "from utils import query_engines\n",
    "\n",
    "# dms = dataset_meta_stats.DatasetMetaStats() \n",
    "# ds = dataset_stats.DatasetStats()"
   ]
  },
  {
   "cell_type": "markdown",
   "metadata": {},
   "source": [
    "## Task 1: Define query at a product level"
   ]
  },
  {
   "cell_type": "code",
   "execution_count": 39,
   "metadata": {},
   "outputs": [
    {
     "name": "stderr",
     "output_type": "stream",
     "text": [
      "c:\\Users\\Jordi Cremades\\Documents\\Repository\\utils\\query_engines.py:145: UserWarning: pandas only supports SQLAlchemy connectable (engine/connection) or database string URI or sqlite3 DBAPI2 connection. Other DBAPI2 objects are not tested. Please consider using SQLAlchemy.\n",
      "  df = pd.read_sql(self.tp__read_query, conn)\n"
     ]
    },
    {
     "name": "stdout",
     "output_type": "stream",
     "text": [
      "Open the following URL in browser for the external authentication:\n",
      "https://starburst.g8s-data-platform-prod.glovoint.com/oauth2/token/initiate/f6958ce0e79770834ab8ccefdce2ae62a39047cf5186d5c3b22196068685810a\n"
     ]
    }
   ],
   "source": [
    "q = query_engines.QueryEngines(\n",
    "    query='pna_gmv_product.sql', \n",
    "    params=None,\n",
    "    load_from_output_file=None, #with no .csv\n",
    "    output_file=None, #with no .csv\n",
    "    printq=None\n",
    ")\n",
    "\n",
    "df = q.query_run_starbust()"
   ]
  },
  {
   "cell_type": "code",
   "execution_count": 23,
   "metadata": {},
   "outputs": [],
   "source": [
    "#addition\n",
    "\n",
    "#change scientific notation \n",
    "#the coerce makes sure that even if there is a NaN it is not modified\n",
    "df['replaced_bought_product_id'] = pd.to_numeric(df['replaced_bought_product_id'], errors='coerce').astype('Int64')\n",
    "df['replaced_by_bought_product_id'] = pd.to_numeric(df['replaced_by_bought_product_id'], errors='coerce').astype('Int64')\n",
    "\n",
    "cond = df['order_id'] == 628322096\n",
    "df[cond].sort_values(by='bought_product_id').to_csv('outputs/addition.csv')"
   ]
  },
  {
   "cell_type": "code",
   "execution_count": 22,
   "metadata": {},
   "outputs": [],
   "source": [
    "#partial removal\n",
    "\n",
    "cond = df['order_id'] == 100371685110\n",
    "df[cond].sort_values(by='bought_product_id').to_csv('outputs/partial_removal.csv')"
   ]
  },
  {
   "cell_type": "code",
   "execution_count": 40,
   "metadata": {},
   "outputs": [],
   "source": [
    "#replacement\n",
    "\n",
    "cond = df['order_id'] == 100328666927\n",
    "df[cond].sort_values(by='bought_product_id').to_csv('outputs/replacement_v2.csv')"
   ]
  },
  {
   "cell_type": "code",
   "execution_count": 20,
   "metadata": {},
   "outputs": [],
   "source": [
    "#price mismatch\n",
    "\n",
    "cond = df['order_id'] == 100382450564\n",
    "df[cond].sort_values(by='bought_product_id').to_csv('outputs/price_mismatch.csv')"
   ]
  },
  {
   "cell_type": "code",
   "execution_count": 21,
   "metadata": {},
   "outputs": [],
   "source": [
    "#total_removal\n",
    "\n",
    "cond = df['order_id'] == 2747551\n",
    "df[cond].sort_values(by='bought_product_id').to_csv('outputs/total_removal.csv')"
   ]
  },
  {
   "cell_type": "markdown",
   "metadata": {},
   "source": [
    "## Task 2: Define query at an order level"
   ]
  },
  {
   "cell_type": "code",
   "execution_count": 35,
   "metadata": {},
   "outputs": [
    {
     "name": "stderr",
     "output_type": "stream",
     "text": [
      "c:\\Users\\Jordi Cremades\\Documents\\Repository\\utils\\query_engines.py:145: UserWarning: pandas only supports SQLAlchemy connectable (engine/connection) or database string URI or sqlite3 DBAPI2 connection. Other DBAPI2 objects are not tested. Please consider using SQLAlchemy.\n",
      "  df = pd.read_sql(self.tp__read_query, conn)\n"
     ]
    },
    {
     "name": "stdout",
     "output_type": "stream",
     "text": [
      "Open the following URL in browser for the external authentication:\n",
      "https://starburst.g8s-data-platform-prod.glovoint.com/oauth2/token/initiate/7a7a463babf48d7693e7c7991ff9dcde59b8761df9c7d29c30dfa1d3a9301e7b\n"
     ]
    }
   ],
   "source": [
    "q = query_engines.QueryEngines(\n",
    "    query='pna_gmv_order.sql', \n",
    "    params=None,\n",
    "    load_from_output_file=None, #with no .csv\n",
    "    output_file=None, #with no .csv\n",
    "    printq=None\n",
    ")\n",
    "\n",
    "df = q.query_run_starbust()"
   ]
  },
  {
   "cell_type": "code",
   "execution_count": 37,
   "metadata": {},
   "outputs": [],
   "source": [
    "#all orders\n",
    "df.sort_values(by='order_id').to_csv('outputs/orders.csv')"
   ]
  },
  {
   "cell_type": "markdown",
   "metadata": {},
   "source": [
    "## Task 3: Data quality checks"
   ]
  },
  {
   "cell_type": "markdown",
   "metadata": {},
   "source": [
    "Same ordres in gmv orders and orders descriptors"
   ]
  },
  {
   "cell_type": "code",
   "execution_count": 35,
   "metadata": {},
   "outputs": [
    {
     "name": "stderr",
     "output_type": "stream",
     "text": [
      "c:\\Users\\Jordi Cremades\\Documents\\Repository\\utils\\query_engines.py:145: UserWarning: pandas only supports SQLAlchemy connectable (engine/connection) or database string URI or sqlite3 DBAPI2 connection. Other DBAPI2 objects are not tested. Please consider using SQLAlchemy.\n",
      "  df = pd.read_sql(self.tp__read_query, conn)\n"
     ]
    },
    {
     "name": "stdout",
     "output_type": "stream",
     "text": [
      "Open the following URL in browser for the external authentication:\n",
      "https://starburst.g8s-data-platform-prod.glovoint.com/oauth2/token/initiate/566f0b47c49c3530a4ed8107ee381a4aa7a86a8d3600ccfd7e7c28d6448bb286\n"
     ]
    },
    {
     "data": {
      "text/html": [
       "<div>\n",
       "<style scoped>\n",
       "    .dataframe tbody tr th:only-of-type {\n",
       "        vertical-align: middle;\n",
       "    }\n",
       "\n",
       "    .dataframe tbody tr th {\n",
       "        vertical-align: top;\n",
       "    }\n",
       "\n",
       "    .dataframe thead th {\n",
       "        text-align: right;\n",
       "    }\n",
       "</style>\n",
       "<table border=\"1\" class=\"dataframe\">\n",
       "  <thead>\n",
       "    <tr style=\"text-align: right;\">\n",
       "      <th></th>\n",
       "      <th>_col0</th>\n",
       "      <th>_col1</th>\n",
       "    </tr>\n",
       "  </thead>\n",
       "  <tbody>\n",
       "    <tr>\n",
       "      <th>0</th>\n",
       "      <td>794943291</td>\n",
       "      <td>794943291</td>\n",
       "    </tr>\n",
       "  </tbody>\n",
       "</table>\n",
       "</div>"
      ],
      "text/plain": [
       "       _col0      _col1\n",
       "0  794943291  794943291"
      ]
     },
     "execution_count": 35,
     "metadata": {},
     "output_type": "execute_result"
    }
   ],
   "source": [
    "q = query_engines.QueryEngines(\n",
    "    query='dq/count_orders.sql', \n",
    "    params=None,\n",
    "    load_from_output_file=None, #with no .csv\n",
    "    output_file=None, #with no .csv\n",
    "    printq=None\n",
    ")\n",
    "\n",
    "df = q.query_run_starbust()\n",
    "df"
   ]
  },
  {
   "cell_type": "code",
   "execution_count": 36,
   "metadata": {},
   "outputs": [
    {
     "name": "stderr",
     "output_type": "stream",
     "text": [
      "c:\\Users\\Jordi Cremades\\Documents\\Repository\\utils\\query_engines.py:145: UserWarning: pandas only supports SQLAlchemy connectable (engine/connection) or database string URI or sqlite3 DBAPI2 connection. Other DBAPI2 objects are not tested. Please consider using SQLAlchemy.\n",
      "  df = pd.read_sql(self.tp__read_query, conn)\n"
     ]
    },
    {
     "name": "stdout",
     "output_type": "stream",
     "text": [
      "Open the following URL in browser for the external authentication:\n",
      "https://starburst.g8s-data-platform-prod.glovoint.com/oauth2/token/initiate/3b56d0cef3a46e9023648ab78bcca8bdba8bb1f3eef02a3b37b4b48e4a8503b0\n"
     ]
    },
    {
     "data": {
      "text/html": [
       "<div>\n",
       "<style scoped>\n",
       "    .dataframe tbody tr th:only-of-type {\n",
       "        vertical-align: middle;\n",
       "    }\n",
       "\n",
       "    .dataframe tbody tr th {\n",
       "        vertical-align: top;\n",
       "    }\n",
       "\n",
       "    .dataframe thead th {\n",
       "        text-align: right;\n",
       "    }\n",
       "</style>\n",
       "<table border=\"1\" class=\"dataframe\">\n",
       "  <thead>\n",
       "    <tr style=\"text-align: right;\">\n",
       "      <th></th>\n",
       "      <th>_col0</th>\n",
       "      <th>_col1</th>\n",
       "    </tr>\n",
       "  </thead>\n",
       "  <tbody>\n",
       "    <tr>\n",
       "      <th>0</th>\n",
       "      <td>794943291</td>\n",
       "      <td>794943291</td>\n",
       "    </tr>\n",
       "  </tbody>\n",
       "</table>\n",
       "</div>"
      ],
      "text/plain": [
       "       _col0      _col1\n",
       "0  794943291  794943291"
      ]
     },
     "execution_count": 36,
     "metadata": {},
     "output_type": "execute_result"
    }
   ],
   "source": [
    "q = query_engines.QueryEngines(\n",
    "    query='dq/count_orders_descriptors.sql', \n",
    "    params=None,\n",
    "    load_from_output_file=None, #with no .csv\n",
    "    output_file=None, #with no .csv\n",
    "    printq=None\n",
    ")\n",
    "\n",
    "df = q.query_run_starbust()\n",
    "df"
   ]
  },
  {
   "cell_type": "markdown",
   "metadata": {},
   "source": [
    "Same bought products gmv and bought products"
   ]
  },
  {
   "cell_type": "code",
   "execution_count": 37,
   "metadata": {},
   "outputs": [
    {
     "name": "stderr",
     "output_type": "stream",
     "text": [
      "c:\\Users\\Jordi Cremades\\Documents\\Repository\\utils\\query_engines.py:145: UserWarning: pandas only supports SQLAlchemy connectable (engine/connection) or database string URI or sqlite3 DBAPI2 connection. Other DBAPI2 objects are not tested. Please consider using SQLAlchemy.\n",
      "  df = pd.read_sql(self.tp__read_query, conn)\n"
     ]
    },
    {
     "name": "stdout",
     "output_type": "stream",
     "text": [
      "Open the following URL in browser for the external authentication:\n",
      "https://starburst.g8s-data-platform-prod.glovoint.com/oauth2/token/initiate/bc86ea4c6252dbd29ba4a7cfb401eb1f6cb46f9c87245be2468837e3f146b8c1\n"
     ]
    },
    {
     "data": {
      "text/html": [
       "<div>\n",
       "<style scoped>\n",
       "    .dataframe tbody tr th:only-of-type {\n",
       "        vertical-align: middle;\n",
       "    }\n",
       "\n",
       "    .dataframe tbody tr th {\n",
       "        vertical-align: top;\n",
       "    }\n",
       "\n",
       "    .dataframe thead th {\n",
       "        text-align: right;\n",
       "    }\n",
       "</style>\n",
       "<table border=\"1\" class=\"dataframe\">\n",
       "  <thead>\n",
       "    <tr style=\"text-align: right;\">\n",
       "      <th></th>\n",
       "      <th>_col0</th>\n",
       "      <th>_col1</th>\n",
       "    </tr>\n",
       "  </thead>\n",
       "  <tbody>\n",
       "    <tr>\n",
       "      <th>0</th>\n",
       "      <td>2230020913</td>\n",
       "      <td>2230020913</td>\n",
       "    </tr>\n",
       "  </tbody>\n",
       "</table>\n",
       "</div>"
      ],
      "text/plain": [
       "        _col0       _col1\n",
       "0  2230020913  2230020913"
      ]
     },
     "execution_count": 37,
     "metadata": {},
     "output_type": "execute_result"
    }
   ],
   "source": [
    "q = query_engines.QueryEngines(\n",
    "    query='dq/count_products.sql', \n",
    "    params=None,\n",
    "    load_from_output_file=None, #with no .csv\n",
    "    output_file=None, #with no .csv\n",
    "    printq=None\n",
    ")\n",
    "\n",
    "df = q.query_run_starbust()\n",
    "df"
   ]
  },
  {
   "cell_type": "code",
   "execution_count": 38,
   "metadata": {},
   "outputs": [
    {
     "name": "stderr",
     "output_type": "stream",
     "text": [
      "c:\\Users\\Jordi Cremades\\Documents\\Repository\\utils\\query_engines.py:145: UserWarning: pandas only supports SQLAlchemy connectable (engine/connection) or database string URI or sqlite3 DBAPI2 connection. Other DBAPI2 objects are not tested. Please consider using SQLAlchemy.\n",
      "  df = pd.read_sql(self.tp__read_query, conn)\n"
     ]
    },
    {
     "name": "stdout",
     "output_type": "stream",
     "text": [
      "Open the following URL in browser for the external authentication:\n",
      "https://starburst.g8s-data-platform-prod.glovoint.com/oauth2/token/initiate/7d0d8c99ea8319b9a922487d16346a6933dee52a7d142d6faddb237b3abd3399\n"
     ]
    },
    {
     "data": {
      "text/html": [
       "<div>\n",
       "<style scoped>\n",
       "    .dataframe tbody tr th:only-of-type {\n",
       "        vertical-align: middle;\n",
       "    }\n",
       "\n",
       "    .dataframe tbody tr th {\n",
       "        vertical-align: top;\n",
       "    }\n",
       "\n",
       "    .dataframe thead th {\n",
       "        text-align: right;\n",
       "    }\n",
       "</style>\n",
       "<table border=\"1\" class=\"dataframe\">\n",
       "  <thead>\n",
       "    <tr style=\"text-align: right;\">\n",
       "      <th></th>\n",
       "      <th>_col0</th>\n",
       "      <th>_col1</th>\n",
       "    </tr>\n",
       "  </thead>\n",
       "  <tbody>\n",
       "    <tr>\n",
       "      <th>0</th>\n",
       "      <td>2230020913</td>\n",
       "      <td>2230020913</td>\n",
       "    </tr>\n",
       "  </tbody>\n",
       "</table>\n",
       "</div>"
      ],
      "text/plain": [
       "        _col0       _col1\n",
       "0  2230020913  2230020913"
      ]
     },
     "execution_count": 38,
     "metadata": {},
     "output_type": "execute_result"
    }
   ],
   "source": [
    "q = query_engines.QueryEngines(\n",
    "    query='dq/count_products_bought_products.sql', \n",
    "    params=None,\n",
    "    load_from_output_file=None, #with no .csv\n",
    "    output_file=None, #with no .csv\n",
    "    printq=None\n",
    ")\n",
    "\n",
    "df = q.query_run_starbust()\n",
    "df"
   ]
  },
  {
   "cell_type": "markdown",
   "metadata": {},
   "source": [
    "Distinct ordres in products is lower than ordres"
   ]
  },
  {
   "cell_type": "code",
   "execution_count": 39,
   "metadata": {},
   "outputs": [
    {
     "name": "stderr",
     "output_type": "stream",
     "text": [
      "c:\\Users\\Jordi Cremades\\Documents\\Repository\\utils\\query_engines.py:145: UserWarning: pandas only supports SQLAlchemy connectable (engine/connection) or database string URI or sqlite3 DBAPI2 connection. Other DBAPI2 objects are not tested. Please consider using SQLAlchemy.\n",
      "  df = pd.read_sql(self.tp__read_query, conn)\n"
     ]
    },
    {
     "name": "stdout",
     "output_type": "stream",
     "text": [
      "Open the following URL in browser for the external authentication:\n",
      "https://starburst.g8s-data-platform-prod.glovoint.com/oauth2/token/initiate/94721465528fae285a5ea78d00305a1ea3531aa225ceab1668f8c32409a8843f\n"
     ]
    },
    {
     "data": {
      "text/html": [
       "<div>\n",
       "<style scoped>\n",
       "    .dataframe tbody tr th:only-of-type {\n",
       "        vertical-align: middle;\n",
       "    }\n",
       "\n",
       "    .dataframe tbody tr th {\n",
       "        vertical-align: top;\n",
       "    }\n",
       "\n",
       "    .dataframe thead th {\n",
       "        text-align: right;\n",
       "    }\n",
       "</style>\n",
       "<table border=\"1\" class=\"dataframe\">\n",
       "  <thead>\n",
       "    <tr style=\"text-align: right;\">\n",
       "      <th></th>\n",
       "      <th>_col0</th>\n",
       "      <th>_col1</th>\n",
       "    </tr>\n",
       "  </thead>\n",
       "  <tbody>\n",
       "    <tr>\n",
       "      <th>0</th>\n",
       "      <td>794943291</td>\n",
       "      <td>794943291</td>\n",
       "    </tr>\n",
       "  </tbody>\n",
       "</table>\n",
       "</div>"
      ],
      "text/plain": [
       "       _col0      _col1\n",
       "0  794943291  794943291"
      ]
     },
     "execution_count": 39,
     "metadata": {},
     "output_type": "execute_result"
    }
   ],
   "source": [
    "q = query_engines.QueryEngines(\n",
    "    query='dq/count_orders.sql', \n",
    "    params=None,\n",
    "    load_from_output_file=None, #with no .csv\n",
    "    output_file=None, #with no .csv\n",
    "    printq=None\n",
    ")\n",
    "\n",
    "df = q.query_run_starbust()\n",
    "df"
   ]
  },
  {
   "cell_type": "code",
   "execution_count": 41,
   "metadata": {},
   "outputs": [
    {
     "name": "stderr",
     "output_type": "stream",
     "text": [
      "c:\\Users\\Jordi Cremades\\Documents\\Repository\\utils\\query_engines.py:145: UserWarning: pandas only supports SQLAlchemy connectable (engine/connection) or database string URI or sqlite3 DBAPI2 connection. Other DBAPI2 objects are not tested. Please consider using SQLAlchemy.\n",
      "  df = pd.read_sql(self.tp__read_query, conn)\n"
     ]
    },
    {
     "name": "stdout",
     "output_type": "stream",
     "text": [
      "Open the following URL in browser for the external authentication:\n",
      "https://starburst.g8s-data-platform-prod.glovoint.com/oauth2/token/initiate/780be2d40b7066d5061968d56c360c8ffb52bae3e3c9fcd0bd2bc2c738401591\n"
     ]
    },
    {
     "data": {
      "text/html": [
       "<div>\n",
       "<style scoped>\n",
       "    .dataframe tbody tr th:only-of-type {\n",
       "        vertical-align: middle;\n",
       "    }\n",
       "\n",
       "    .dataframe tbody tr th {\n",
       "        vertical-align: top;\n",
       "    }\n",
       "\n",
       "    .dataframe thead th {\n",
       "        text-align: right;\n",
       "    }\n",
       "</style>\n",
       "<table border=\"1\" class=\"dataframe\">\n",
       "  <thead>\n",
       "    <tr style=\"text-align: right;\">\n",
       "      <th></th>\n",
       "      <th>_col0</th>\n",
       "    </tr>\n",
       "  </thead>\n",
       "  <tbody>\n",
       "    <tr>\n",
       "      <th>0</th>\n",
       "      <td>756139882</td>\n",
       "    </tr>\n",
       "  </tbody>\n",
       "</table>\n",
       "</div>"
      ],
      "text/plain": [
       "       _col0\n",
       "0  756139882"
      ]
     },
     "execution_count": 41,
     "metadata": {},
     "output_type": "execute_result"
    }
   ],
   "source": [
    "q = query_engines.QueryEngines(\n",
    "    query='dq/count_distinct_orders_in_products.sql', \n",
    "    params=None,\n",
    "    load_from_output_file=None, #with no .csv\n",
    "    output_file=None, #with no .csv\n",
    "    printq=None\n",
    ")\n",
    "\n",
    "df = q.query_run_starbust()\n",
    "df"
   ]
  },
  {
   "cell_type": "markdown",
   "metadata": {},
   "source": [
    "Examples of each type"
   ]
  },
  {
   "cell_type": "code",
   "execution_count": 54,
   "metadata": {},
   "outputs": [],
   "source": [
    "partial_removal = [100380267191,100365649314,100399726924,100400421244,100337438447]\n",
    "total_removal = [100347902252,100348456378,100347588028,100348056064,100348420516]\n",
    "replacement = [100375914105,100389275524,100345382266,100346274072,100361213045]\n",
    "additions = [100380590636,100396193925,100395495892,100395502068,100395688663]\n",
    "pna_cx = [100404806178,100404775887,100405019297,100404981087,100404508168]\n",
    "refund = [100364610738,100364102442,100404555503,100405228398,100405613920]\n",
    "# to check for additions correction 100396193925"
   ]
  },
  {
   "cell_type": "code",
   "execution_count": 49,
   "metadata": {},
   "outputs": [
    {
     "name": "stderr",
     "output_type": "stream",
     "text": [
      "c:\\Users\\Jordi Cremades\\Documents\\Repository\\utils\\query_engines.py:145: UserWarning: pandas only supports SQLAlchemy connectable (engine/connection) or database string URI or sqlite3 DBAPI2 connection. Other DBAPI2 objects are not tested. Please consider using SQLAlchemy.\n",
      "  df = pd.read_sql(self.tp__read_query, conn)\n"
     ]
    },
    {
     "name": "stdout",
     "output_type": "stream",
     "text": [
      "Open the following URL in browser for the external authentication:\n",
      "https://starburst.g8s-data-platform-prod.glovoint.com/oauth2/token/initiate/26d3e8e24b1c138571dc7f89054acf5733896c932c75d046f8444eac6cde797f\n"
     ]
    },
    {
     "data": {
      "text/html": [
       "<div>\n",
       "<style scoped>\n",
       "    .dataframe tbody tr th:only-of-type {\n",
       "        vertical-align: middle;\n",
       "    }\n",
       "\n",
       "    .dataframe tbody tr th {\n",
       "        vertical-align: top;\n",
       "    }\n",
       "\n",
       "    .dataframe thead th {\n",
       "        text-align: right;\n",
       "    }\n",
       "</style>\n",
       "<table border=\"1\" class=\"dataframe\">\n",
       "  <thead>\n",
       "    <tr style=\"text-align: right;\">\n",
       "      <th></th>\n",
       "      <th>p_creation_date</th>\n",
       "      <th>order_id</th>\n",
       "      <th>order_final_status</th>\n",
       "      <th>order_cancel_reason</th>\n",
       "      <th>customer_id</th>\n",
       "      <th>store_address_id</th>\n",
       "      <th>order_vertical</th>\n",
       "      <th>order_city_code</th>\n",
       "      <th>order_country_code</th>\n",
       "      <th>order_exchange_rate_to_eur</th>\n",
       "      <th>...</th>\n",
       "      <th>gmv_variation_total_removal_local</th>\n",
       "      <th>gmv_variation_total_removal_eur</th>\n",
       "      <th>gmv_variation_partial_removal_local</th>\n",
       "      <th>gmv_variation_partial_removal_eur</th>\n",
       "      <th>gmv_variation_replacement_local</th>\n",
       "      <th>gmv_variation_replacement_eur</th>\n",
       "      <th>gmv_variation_cx_pna_local</th>\n",
       "      <th>gmv_variation_cx_pna_eur</th>\n",
       "      <th>refunded_to_customer_local</th>\n",
       "      <th>refunded_to_customer_eur</th>\n",
       "    </tr>\n",
       "  </thead>\n",
       "  <tbody>\n",
       "    <tr>\n",
       "      <th>0</th>\n",
       "      <td>2024-01-26</td>\n",
       "      <td>100375914105</td>\n",
       "      <td>DeliveredStatus</td>\n",
       "      <td>None</td>\n",
       "      <td>34010857</td>\n",
       "      <td>525710</td>\n",
       "      <td>QCommerce</td>\n",
       "      <td>SBU</td>\n",
       "      <td>RO</td>\n",
       "      <td>0.200948</td>\n",
       "      <td>...</td>\n",
       "      <td>NaN</td>\n",
       "      <td>NaN</td>\n",
       "      <td>NaN</td>\n",
       "      <td>NaN</td>\n",
       "      <td>-2.19</td>\n",
       "      <td>-0.440076</td>\n",
       "      <td>NaN</td>\n",
       "      <td>NaN</td>\n",
       "      <td>NaN</td>\n",
       "      <td>NaN</td>\n",
       "    </tr>\n",
       "    <tr>\n",
       "      <th>1</th>\n",
       "      <td>2024-01-12</td>\n",
       "      <td>100346274072</td>\n",
       "      <td>DeliveredStatus</td>\n",
       "      <td>None</td>\n",
       "      <td>150333884</td>\n",
       "      <td>491758</td>\n",
       "      <td>QCommerce</td>\n",
       "      <td>FCS</td>\n",
       "      <td>RO</td>\n",
       "      <td>0.201141</td>\n",
       "      <td>...</td>\n",
       "      <td>NaN</td>\n",
       "      <td>NaN</td>\n",
       "      <td>NaN</td>\n",
       "      <td>NaN</td>\n",
       "      <td>-10.35</td>\n",
       "      <td>-2.081809</td>\n",
       "      <td>NaN</td>\n",
       "      <td>NaN</td>\n",
       "      <td>NaN</td>\n",
       "      <td>NaN</td>\n",
       "    </tr>\n",
       "    <tr>\n",
       "      <th>2</th>\n",
       "      <td>2024-01-19</td>\n",
       "      <td>100361213045</td>\n",
       "      <td>DeliveredStatus</td>\n",
       "      <td>None</td>\n",
       "      <td>43717859</td>\n",
       "      <td>142104</td>\n",
       "      <td>QCommerce</td>\n",
       "      <td>TIM</td>\n",
       "      <td>RO</td>\n",
       "      <td>0.200956</td>\n",
       "      <td>...</td>\n",
       "      <td>-20.78</td>\n",
       "      <td>-4.175866</td>\n",
       "      <td>NaN</td>\n",
       "      <td>NaN</td>\n",
       "      <td>1.10</td>\n",
       "      <td>0.221052</td>\n",
       "      <td>NaN</td>\n",
       "      <td>NaN</td>\n",
       "      <td>NaN</td>\n",
       "      <td>NaN</td>\n",
       "    </tr>\n",
       "    <tr>\n",
       "      <th>3</th>\n",
       "      <td>2024-01-12</td>\n",
       "      <td>100345382266</td>\n",
       "      <td>DeliveredStatus</td>\n",
       "      <td>None</td>\n",
       "      <td>12311682</td>\n",
       "      <td>474441</td>\n",
       "      <td>QCommerce</td>\n",
       "      <td>BUC</td>\n",
       "      <td>RO</td>\n",
       "      <td>0.201141</td>\n",
       "      <td>...</td>\n",
       "      <td>NaN</td>\n",
       "      <td>NaN</td>\n",
       "      <td>NaN</td>\n",
       "      <td>NaN</td>\n",
       "      <td>0.00</td>\n",
       "      <td>0.000000</td>\n",
       "      <td>NaN</td>\n",
       "      <td>NaN</td>\n",
       "      <td>NaN</td>\n",
       "      <td>NaN</td>\n",
       "    </tr>\n",
       "    <tr>\n",
       "      <th>4</th>\n",
       "      <td>2024-01-28</td>\n",
       "      <td>100380267191</td>\n",
       "      <td>DeliveredStatus</td>\n",
       "      <td>None</td>\n",
       "      <td>41040381</td>\n",
       "      <td>139767</td>\n",
       "      <td>QCommerce</td>\n",
       "      <td>SZZ</td>\n",
       "      <td>PL</td>\n",
       "      <td>0.228785</td>\n",
       "      <td>...</td>\n",
       "      <td>NaN</td>\n",
       "      <td>NaN</td>\n",
       "      <td>-1.05</td>\n",
       "      <td>-0.240224</td>\n",
       "      <td>NaN</td>\n",
       "      <td>NaN</td>\n",
       "      <td>NaN</td>\n",
       "      <td>NaN</td>\n",
       "      <td>NaN</td>\n",
       "      <td>NaN</td>\n",
       "    </tr>\n",
       "  </tbody>\n",
       "</table>\n",
       "<p>5 rows × 29 columns</p>\n",
       "</div>"
      ],
      "text/plain": [
       "  p_creation_date      order_id order_final_status order_cancel_reason  \\\n",
       "0      2024-01-26  100375914105    DeliveredStatus                None   \n",
       "1      2024-01-12  100346274072    DeliveredStatus                None   \n",
       "2      2024-01-19  100361213045    DeliveredStatus                None   \n",
       "3      2024-01-12  100345382266    DeliveredStatus                None   \n",
       "4      2024-01-28  100380267191    DeliveredStatus                None   \n",
       "\n",
       "   customer_id  store_address_id order_vertical order_city_code  \\\n",
       "0     34010857            525710      QCommerce             SBU   \n",
       "1    150333884            491758      QCommerce             FCS   \n",
       "2     43717859            142104      QCommerce             TIM   \n",
       "3     12311682            474441      QCommerce             BUC   \n",
       "4     41040381            139767      QCommerce             SZZ   \n",
       "\n",
       "  order_country_code  order_exchange_rate_to_eur  ...  \\\n",
       "0                 RO                    0.200948  ...   \n",
       "1                 RO                    0.201141  ...   \n",
       "2                 RO                    0.200956  ...   \n",
       "3                 RO                    0.201141  ...   \n",
       "4                 PL                    0.228785  ...   \n",
       "\n",
       "  gmv_variation_total_removal_local  gmv_variation_total_removal_eur  \\\n",
       "0                               NaN                              NaN   \n",
       "1                               NaN                              NaN   \n",
       "2                            -20.78                        -4.175866   \n",
       "3                               NaN                              NaN   \n",
       "4                               NaN                              NaN   \n",
       "\n",
       "   gmv_variation_partial_removal_local  gmv_variation_partial_removal_eur  \\\n",
       "0                                  NaN                                NaN   \n",
       "1                                  NaN                                NaN   \n",
       "2                                  NaN                                NaN   \n",
       "3                                  NaN                                NaN   \n",
       "4                                -1.05                          -0.240224   \n",
       "\n",
       "   gmv_variation_replacement_local  gmv_variation_replacement_eur  \\\n",
       "0                            -2.19                      -0.440076   \n",
       "1                           -10.35                      -2.081809   \n",
       "2                             1.10                       0.221052   \n",
       "3                             0.00                       0.000000   \n",
       "4                              NaN                            NaN   \n",
       "\n",
       "   gmv_variation_cx_pna_local  gmv_variation_cx_pna_eur  \\\n",
       "0                         NaN                       NaN   \n",
       "1                         NaN                       NaN   \n",
       "2                         NaN                       NaN   \n",
       "3                         NaN                       NaN   \n",
       "4                         NaN                       NaN   \n",
       "\n",
       "   refunded_to_customer_local  refunded_to_customer_eur  \n",
       "0                         NaN                       NaN  \n",
       "1                         NaN                       NaN  \n",
       "2                         NaN                       NaN  \n",
       "3                         NaN                       NaN  \n",
       "4                         NaN                       NaN  \n",
       "\n",
       "[5 rows x 29 columns]"
      ]
     },
     "execution_count": 49,
     "metadata": {},
     "output_type": "execute_result"
    }
   ],
   "source": [
    "q = query_engines.QueryEngines(\n",
    "    query='dq/gather_order_ids_examples.sql', \n",
    "    params=None,\n",
    "    load_from_output_file=None, #with no .csv\n",
    "    output_file=None, #with no .csv\n",
    "    printq=None\n",
    ")\n",
    "\n",
    "df = q.query_run_starbust()\n",
    "df.head()"
   ]
  },
  {
   "cell_type": "markdown",
   "metadata": {},
   "source": [
    "Compare with looker "
   ]
  },
  {
   "cell_type": "code",
   "execution_count": 57,
   "metadata": {},
   "outputs": [
    {
     "name": "stderr",
     "output_type": "stream",
     "text": [
      "c:\\Users\\Jordi Cremades\\Documents\\Repository\\utils\\query_engines.py:145: UserWarning: pandas only supports SQLAlchemy connectable (engine/connection) or database string URI or sqlite3 DBAPI2 connection. Other DBAPI2 objects are not tested. Please consider using SQLAlchemy.\n",
      "  df = pd.read_sql(self.tp__read_query, conn)\n"
     ]
    },
    {
     "name": "stdout",
     "output_type": "stream",
     "text": [
      "Open the following URL in browser for the external authentication:\n",
      "https://starburst.g8s-data-platform-prod.glovoint.com/oauth2/token/initiate/0002169e68fee505537d3c07a89b3ee53313daf0b0b1e293a857c915b95d0f0a\n"
     ]
    },
    {
     "data": {
      "text/html": [
       "<div>\n",
       "<style scoped>\n",
       "    .dataframe tbody tr th:only-of-type {\n",
       "        vertical-align: middle;\n",
       "    }\n",
       "\n",
       "    .dataframe tbody tr th {\n",
       "        vertical-align: top;\n",
       "    }\n",
       "\n",
       "    .dataframe thead th {\n",
       "        text-align: right;\n",
       "    }\n",
       "</style>\n",
       "<table border=\"1\" class=\"dataframe\">\n",
       "  <thead>\n",
       "    <tr style=\"text-align: right;\">\n",
       "      <th></th>\n",
       "      <th>order_id</th>\n",
       "      <th>gmv_variation_additions_local</th>\n",
       "      <th>gmv_variation_total_removal_local</th>\n",
       "      <th>gmv_variation_partial_removal_local</th>\n",
       "      <th>gmv_variation_replacement_local</th>\n",
       "      <th>gmv_variation_cx_pna_local</th>\n",
       "      <th>refunded_to_customer_local</th>\n",
       "      <th>gmv_variation_additions_eur</th>\n",
       "      <th>gmv_variation_total_removal_eur</th>\n",
       "      <th>gmv_variation_partial_removal_eur</th>\n",
       "      <th>gmv_variation_replacement_eur</th>\n",
       "      <th>gmv_variation_cx_pna_eur</th>\n",
       "      <th>refunded_to_customer_eur</th>\n",
       "    </tr>\n",
       "  </thead>\n",
       "  <tbody>\n",
       "    <tr>\n",
       "      <th>0</th>\n",
       "      <td>100337438447</td>\n",
       "      <td>NaN</td>\n",
       "      <td>NaN</td>\n",
       "      <td>-2040.0</td>\n",
       "      <td>NaN</td>\n",
       "      <td>NaN</td>\n",
       "      <td>NaN</td>\n",
       "      <td>NaN</td>\n",
       "      <td>NaN</td>\n",
       "      <td>-4.1208</td>\n",
       "      <td>NaN</td>\n",
       "      <td>NaN</td>\n",
       "      <td>NaN</td>\n",
       "    </tr>\n",
       "    <tr>\n",
       "      <th>1</th>\n",
       "      <td>100361213045</td>\n",
       "      <td>NaN</td>\n",
       "      <td>-20.78</td>\n",
       "      <td>NaN</td>\n",
       "      <td>1.10</td>\n",
       "      <td>NaN</td>\n",
       "      <td>NaN</td>\n",
       "      <td>NaN</td>\n",
       "      <td>-4.175866</td>\n",
       "      <td>NaN</td>\n",
       "      <td>0.221052</td>\n",
       "      <td>NaN</td>\n",
       "      <td>NaN</td>\n",
       "    </tr>\n",
       "    <tr>\n",
       "      <th>2</th>\n",
       "      <td>100345382266</td>\n",
       "      <td>NaN</td>\n",
       "      <td>NaN</td>\n",
       "      <td>NaN</td>\n",
       "      <td>0.00</td>\n",
       "      <td>NaN</td>\n",
       "      <td>NaN</td>\n",
       "      <td>NaN</td>\n",
       "      <td>NaN</td>\n",
       "      <td>NaN</td>\n",
       "      <td>0.000000</td>\n",
       "      <td>NaN</td>\n",
       "      <td>NaN</td>\n",
       "    </tr>\n",
       "    <tr>\n",
       "      <th>3</th>\n",
       "      <td>100375914105</td>\n",
       "      <td>NaN</td>\n",
       "      <td>NaN</td>\n",
       "      <td>NaN</td>\n",
       "      <td>-2.19</td>\n",
       "      <td>NaN</td>\n",
       "      <td>NaN</td>\n",
       "      <td>NaN</td>\n",
       "      <td>NaN</td>\n",
       "      <td>NaN</td>\n",
       "      <td>-0.440076</td>\n",
       "      <td>NaN</td>\n",
       "      <td>NaN</td>\n",
       "    </tr>\n",
       "    <tr>\n",
       "      <th>4</th>\n",
       "      <td>100389275524</td>\n",
       "      <td>NaN</td>\n",
       "      <td>-18.76</td>\n",
       "      <td>NaN</td>\n",
       "      <td>-3.89</td>\n",
       "      <td>NaN</td>\n",
       "      <td>NaN</td>\n",
       "      <td>NaN</td>\n",
       "      <td>-3.770160</td>\n",
       "      <td>NaN</td>\n",
       "      <td>-0.781766</td>\n",
       "      <td>NaN</td>\n",
       "      <td>NaN</td>\n",
       "    </tr>\n",
       "  </tbody>\n",
       "</table>\n",
       "</div>"
      ],
      "text/plain": [
       "       order_id  gmv_variation_additions_local  \\\n",
       "0  100337438447                            NaN   \n",
       "1  100361213045                            NaN   \n",
       "2  100345382266                            NaN   \n",
       "3  100375914105                            NaN   \n",
       "4  100389275524                            NaN   \n",
       "\n",
       "   gmv_variation_total_removal_local  gmv_variation_partial_removal_local  \\\n",
       "0                                NaN                              -2040.0   \n",
       "1                             -20.78                                  NaN   \n",
       "2                                NaN                                  NaN   \n",
       "3                                NaN                                  NaN   \n",
       "4                             -18.76                                  NaN   \n",
       "\n",
       "   gmv_variation_replacement_local  gmv_variation_cx_pna_local  \\\n",
       "0                              NaN                         NaN   \n",
       "1                             1.10                         NaN   \n",
       "2                             0.00                         NaN   \n",
       "3                            -2.19                         NaN   \n",
       "4                            -3.89                         NaN   \n",
       "\n",
       "   refunded_to_customer_local  gmv_variation_additions_eur  \\\n",
       "0                         NaN                          NaN   \n",
       "1                         NaN                          NaN   \n",
       "2                         NaN                          NaN   \n",
       "3                         NaN                          NaN   \n",
       "4                         NaN                          NaN   \n",
       "\n",
       "   gmv_variation_total_removal_eur  gmv_variation_partial_removal_eur  \\\n",
       "0                              NaN                            -4.1208   \n",
       "1                        -4.175866                                NaN   \n",
       "2                              NaN                                NaN   \n",
       "3                              NaN                                NaN   \n",
       "4                        -3.770160                                NaN   \n",
       "\n",
       "   gmv_variation_replacement_eur  gmv_variation_cx_pna_eur  \\\n",
       "0                            NaN                       NaN   \n",
       "1                       0.221052                       NaN   \n",
       "2                       0.000000                       NaN   \n",
       "3                      -0.440076                       NaN   \n",
       "4                      -0.781766                       NaN   \n",
       "\n",
       "   refunded_to_customer_eur  \n",
       "0                       NaN  \n",
       "1                       NaN  \n",
       "2                       NaN  \n",
       "3                       NaN  \n",
       "4                       NaN  "
      ]
     },
     "execution_count": 57,
     "metadata": {},
     "output_type": "execute_result"
    }
   ],
   "source": [
    "# to compare in previous looker https://glovoapp2.cloud.looker.com/explore/central_dm/bought_products?qid=ojJYSQOblvJcrwTQVDnv1M&origin_space=3957\n",
    "q = query_engines.QueryEngines(\n",
    "    query='dq/compare_with_looker.sql', \n",
    "    params=None,\n",
    "    load_from_output_file=None, #with no .csv\n",
    "    output_file=None, #with no .csv\n",
    "    printq=None\n",
    ")\n",
    "\n",
    "df = q.query_run_starbust()\n",
    "df.head()"
   ]
  }
 ],
 "metadata": {
  "kernelspec": {
   "display_name": ".venv",
   "language": "python",
   "name": "python3"
  },
  "language_info": {
   "codemirror_mode": {
    "name": "ipython",
    "version": 3
   },
   "file_extension": ".py",
   "mimetype": "text/x-python",
   "name": "python",
   "nbconvert_exporter": "python",
   "pygments_lexer": "ipython3",
   "version": "3.12.0"
  }
 },
 "nbformat": 4,
 "nbformat_minor": 2
}
