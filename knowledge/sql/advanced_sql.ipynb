{
 "cells": [
  {
   "cell_type": "markdown",
   "metadata": {},
   "source": [
    "# Advanced SQL"
   ]
  },
  {
   "cell_type": "markdown",
   "metadata": {},
   "source": [
    "## Executive summary"
   ]
  },
  {
   "cell_type": "markdown",
   "metadata": {},
   "source": [
    "This notebook will group all related functionalities for advanced SQL in Starburst"
   ]
  },
  {
   "cell_type": "markdown",
   "metadata": {},
   "source": [
    "## Plan"
   ]
  },
  {
   "cell_type": "markdown",
   "metadata": {},
   "source": [
    "Business question to answer\n",
    "- [ ] Test functionalities in Starburst\n",
    "- [ ] Group related functionalities"
   ]
  },
  {
   "cell_type": "markdown",
   "metadata": {},
   "source": [
    "## Task 1: General Starburst information"
   ]
  },
  {
   "cell_type": "markdown",
   "metadata": {},
   "source": [
    "There are Catalogs --> Schemas --> Tables\n",
    "\n",
    "#### For Starburst: \n",
    "\n",
    "        - Catalog --> delta\n",
    "        - Schema --> one of the data products\n",
    "        - Structure: \n",
    "```sql \n",
    "select * from delta.INFORMATION_SCHEMA.COLUMNS limit 10\n",
    "```\n",
    "\n",
    "#### For LiveDB\n",
    "\n",
    "        - Catalog --> not defined\n",
    "        - Schema --> glovo_live\n",
    "\n",
    "#### Explore schemas:\n",
    "\n",
    "```sql\n",
    "show schemas from delta like '%XXX%' --for Starburst\n",
    "```\n",
    "\n",
    "```sql\n",
    "show schemas --for LiveDB\n",
    "```\n",
    "\n",
    "#### Explore tables inside schemas:\n",
    "\n",
    "```sql\n",
    "show tables from delta.mfc__pna__odp --for Starburst\n",
    "```\n",
    "\n",
    "```sql\n",
    "show tables from glovo_live --for LiveDB\n",
    "```\n",
    "\n",
    "#### To search for an specific column:\n",
    "\n",
    "```sql\n",
    "select column_name from delta.INFORMATION_SCHEMA.COLUMNS where table_name='XXX' limit 10 --for Starburst specifying the table\n",
    "```\n",
    "\n",
    "```sql select column_name, table_name\n",
    "from information_schema.columns\n",
    "where 1=1\n",
    "    and table_schema = 'glovo_live'\n",
    "    and column_name like '%XXX%'\n",
    "limit 10 --for LiveDB\n",
    "```\n"
   ]
  },
  {
   "cell_type": "markdown",
   "metadata": {},
   "source": [
    "## Task 2: Arrays"
   ]
  },
  {
   "cell_type": "markdown",
   "metadata": {},
   "source": [
    "**Array conditions**\n",
    "\n",
    "`all_match(array_agg(feedback_selected_option),x -> x='ORDER_STATUS')` --> Check if all elements of the array equal ORDER_STATUS\n",
    "\n",
    "\n",
    "\n",
    "`any_match(array_agg(feedback_selected_option),x -> x='ORDER_STATUS')` --> Check if any elements of the array equal ORDER_STATUS\n",
    "\n",
    "\n",
    "`arrays_overlap(a1,a2)` --> returns true/false if an element of one array exists on the other. Null if anyo contains nulls"
   ]
  },
  {
   "cell_type": "markdown",
   "metadata": {},
   "source": [
    "**Array definition**\n",
    "\n",
    "`array_agg(feedback_selected_option)` --> This will results in order id --> [FFF1,FFF2,FF3,...]\n",
    "\n",
    "`array_distinct(array_agg(feedback_selected_option))` --> this will result in a new array containing the distinct elmenents of the passed array\n",
    "\n",
    "`array_sort(a1)` --> sorts the eleements of the array in asc\n",
    "\n",
    "`array_remove(a, 'XXX')` --> returns the original array without the elements that match the parameter"
   ]
  },
  {
   "cell_type": "markdown",
   "metadata": {},
   "source": [
    "**Array elements**\n",
    "\n",
    "`array_join(a, '_', 'null_element')` --> outputs the value of an array with all the elements concatenated. If used, there is an optional parameter to substitute null values in the array"
   ]
  },
  {
   "cell_type": "markdown",
   "metadata": {},
   "source": [
    "**Array interaction**\n",
    "\n",
    "`array_except(a1, a2)` --> ouptuts the elemenents that are in the first array but not in the second\n",
    "\n",
    "`array_intersect(a1,a2)` --> outputs the elements that are in both arrays\n",
    "\n",
    "`array_union(a1, a2)` --> returns the union of two arrays with no duplicates\n"
   ]
  },
  {
   "cell_type": "markdown",
   "metadata": {},
   "source": [
    "**Array metadata**\n",
    "\n",
    "`array_position(a, 'xxx')` --> returns the position of the first occurrence of a given value. The first position of an array is the cell 1."
   ]
  },
  {
   "cell_type": "markdown",
   "metadata": {},
   "source": [
    "**Array statistics**\n",
    "\n",
    "`array_histogram(a)` --> outputs a frquency histogram of the array elements in map format. We can later unnest it to work with each element's frequencies\n",
    "\n",
    "```sql\n",
    "with a as (select \n",
    "    histogram(feedback_selected_option) as feedback_selected_options\n",
    "from delta.contact_contact_intent_odp.fct_contact_intent\n",
    "where 1=1\n",
    "    and p_created_date >= date('2024-01-01')\n",
    "    and order_id in (100385003913,100384688076)\n",
    "limit 10)\n",
    "\n",
    "OUTPUT\n",
    "{ CONTACT_SUPPORT = 3, CHANGE_ITEMS = 1, ORDER_STATUS = 2 }\n",
    "```\n",
    "\n",
    "`array_max(a)` --> outputs the array_max or array_min of the array"
   ]
  }
 ],
 "metadata": {
  "kernelspec": {
   "display_name": ".venv",
   "language": "python",
   "name": "python3"
  },
  "language_info": {
   "codemirror_mode": {
    "name": "ipython",
    "version": 3
   },
   "file_extension": ".py",
   "mimetype": "text/x-python",
   "name": "python",
   "nbconvert_exporter": "python",
   "pygments_lexer": "ipython3",
   "version": "3.12.0"
  }
 },
 "nbformat": 4,
 "nbformat_minor": 2
}
