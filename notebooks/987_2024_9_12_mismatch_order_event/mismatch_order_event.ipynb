{
 "cells": [
  {
   "cell_type": "markdown",
   "metadata": {},
   "source": [
    "# Mismatch Order Event"
   ]
  },
  {
   "cell_type": "markdown",
   "metadata": {},
   "source": [
    "## Config"
   ]
  },
  {
   "cell_type": "code",
   "execution_count": 37,
   "metadata": {},
   "outputs": [],
   "source": [
    "import pandas as pd\n",
    "import sys\n",
    "\n",
    "sys.path.append('c:/Users/Jordi Cremades/Documents/Repos/central-node')\n",
    "\n",
    "from src import query_engines\n",
    "\n",
    "q = query_engines.QueryEngines()"
   ]
  },
  {
   "cell_type": "markdown",
   "metadata": {},
   "source": [
    "## Parameters"
   ]
  },
  {
   "cell_type": "code",
   "execution_count": 9,
   "metadata": {},
   "outputs": [],
   "source": [
    "DAY = \"'2024-09-01'\"\n",
    "DAY_1 = \"2024-09-01\"\n",
    "DAY_2 = \"2024-09-02\"\n",
    "\n",
    "params = [\n",
    "    {'name':'day', 'value': DAY},\n",
    "    {'name':'day_1', 'value': DAY_1},\n",
    "    {'name':'day_2', 'value': DAY_2},]"
   ]
  },
  {
   "cell_type": "markdown",
   "metadata": {},
   "source": [
    "## Queries"
   ]
  },
  {
   "cell_type": "code",
   "execution_count": 11,
   "metadata": {},
   "outputs": [
    {
     "name": "stderr",
     "output_type": "stream",
     "text": [
      "c:\\Users/Jordi Cremades/Documents/Repos/central-node\\src\\query_engines.py:197: UserWarning: pandas only supports SQLAlchemy connectable (engine/connection) or database string URI or sqlite3 DBAPI2 connection. Other DBAPI2 objects are not tested. Please consider using SQLAlchemy.\n",
      "  df = pd.read_sql(self.tp__read_query, conn)\n"
     ]
    },
    {
     "data": {
      "text/html": [
       "<div>\n",
       "<style scoped>\n",
       "    .dataframe tbody tr th:only-of-type {\n",
       "        vertical-align: middle;\n",
       "    }\n",
       "\n",
       "    .dataframe tbody tr th {\n",
       "        vertical-align: top;\n",
       "    }\n",
       "\n",
       "    .dataframe thead th {\n",
       "        text-align: right;\n",
       "    }\n",
       "</style>\n",
       "<table border=\"1\" class=\"dataframe\">\n",
       "  <thead>\n",
       "    <tr style=\"text-align: right;\">\n",
       "      <th></th>\n",
       "      <th>creation_date</th>\n",
       "      <th>count_order_sensitive</th>\n",
       "    </tr>\n",
       "  </thead>\n",
       "  <tbody>\n",
       "    <tr>\n",
       "      <th>0</th>\n",
       "      <td>2024-09-01</td>\n",
       "      <td>901568</td>\n",
       "    </tr>\n",
       "  </tbody>\n",
       "</table>\n",
       "</div>"
      ],
      "text/plain": [
       "  creation_date  count_order_sensitive\n",
       "0    2024-09-01                 901568"
      ]
     },
     "execution_count": 11,
     "metadata": {},
     "output_type": "execute_result"
    }
   ],
   "source": [
    "# orders from sensitive without taking into account anything from loyalty cards\n",
    "q.prepare_query(\n",
    "    query_file='n_orders_sensitive.sql'\n",
    "    ,params=params\n",
    "    ,to_load_file=None\n",
    "    ,load_from_to_load_file=None\n",
    ")\n",
    "\n",
    "n_orders_sensitive = q.query_run_starburst()\n",
    "n_orders_sensitive"
   ]
  },
  {
   "cell_type": "code",
   "execution_count": 12,
   "metadata": {},
   "outputs": [
    {
     "name": "stderr",
     "output_type": "stream",
     "text": [
      "c:\\Users/Jordi Cremades/Documents/Repos/central-node\\src\\query_engines.py:197: UserWarning: pandas only supports SQLAlchemy connectable (engine/connection) or database string URI or sqlite3 DBAPI2 connection. Other DBAPI2 objects are not tested. Please consider using SQLAlchemy.\n",
      "  df = pd.read_sql(self.tp__read_query, conn)\n"
     ]
    },
    {
     "data": {
      "text/plain": [
       "901568"
      ]
     },
     "execution_count": 12,
     "metadata": {},
     "output_type": "execute_result"
    }
   ],
   "source": [
    "# orders from sensitive taking into account loyalty cards factor\n",
    "q.prepare_query(\n",
    "    query_file='n_orders_sensitive_loyalty.sql'\n",
    "    ,params=params\n",
    "    ,to_load_file=None\n",
    "    ,load_from_to_load_file=None\n",
    ")\n",
    "\n",
    "n_orders_sensitive_loyalty = q.query_run_starburst()\n",
    "n_orders_sensitive_loyalty\n",
    "\n",
    "n_orders_sensitive['count_order_sensitive'].sum()"
   ]
  },
  {
   "cell_type": "code",
   "execution_count": 23,
   "metadata": {},
   "outputs": [
    {
     "data": {
      "text/html": [
       "<div>\n",
       "<style scoped>\n",
       "    .dataframe tbody tr th:only-of-type {\n",
       "        vertical-align: middle;\n",
       "    }\n",
       "\n",
       "    .dataframe tbody tr th {\n",
       "        vertical-align: top;\n",
       "    }\n",
       "\n",
       "    .dataframe thead th {\n",
       "        text-align: right;\n",
       "    }\n",
       "</style>\n",
       "<table border=\"1\" class=\"dataframe\">\n",
       "  <thead>\n",
       "    <tr style=\"text-align: right;\">\n",
       "      <th></th>\n",
       "      <th>creation_date</th>\n",
       "      <th>custom_attributes__is_loyalty_card_added</th>\n",
       "      <th>count_order_sensitive</th>\n",
       "    </tr>\n",
       "  </thead>\n",
       "  <tbody>\n",
       "    <tr>\n",
       "      <th>0</th>\n",
       "      <td>2024-09-01</td>\n",
       "      <td>None</td>\n",
       "      <td>896211</td>\n",
       "    </tr>\n",
       "    <tr>\n",
       "      <th>1</th>\n",
       "      <td>2024-09-01</td>\n",
       "      <td>false</td>\n",
       "      <td>4323</td>\n",
       "    </tr>\n",
       "    <tr>\n",
       "      <th>2</th>\n",
       "      <td>2024-09-01</td>\n",
       "      <td>true</td>\n",
       "      <td>1039</td>\n",
       "    </tr>\n",
       "  </tbody>\n",
       "</table>\n",
       "</div>"
      ],
      "text/plain": [
       "  creation_date custom_attributes__is_loyalty_card_added  \\\n",
       "0    2024-09-01                                     None   \n",
       "1    2024-09-01                                    false   \n",
       "2    2024-09-01                                     true   \n",
       "\n",
       "   count_order_sensitive  \n",
       "0                 896211  \n",
       "1                   4323  \n",
       "2                   1039  "
      ]
     },
     "execution_count": 23,
     "metadata": {},
     "output_type": "execute_result"
    }
   ],
   "source": [
    "n_orders_sensitive_loyalty"
   ]
  },
  {
   "cell_type": "code",
   "execution_count": 13,
   "metadata": {},
   "outputs": [
    {
     "name": "stderr",
     "output_type": "stream",
     "text": [
      "c:\\Users/Jordi Cremades/Documents/Repos/central-node\\src\\query_engines.py:197: UserWarning: pandas only supports SQLAlchemy connectable (engine/connection) or database string URI or sqlite3 DBAPI2 connection. Other DBAPI2 objects are not tested. Please consider using SQLAlchemy.\n",
      "  df = pd.read_sql(self.tp__read_query, conn)\n"
     ]
    },
    {
     "data": {
      "text/html": [
       "<div>\n",
       "<style scoped>\n",
       "    .dataframe tbody tr th:only-of-type {\n",
       "        vertical-align: middle;\n",
       "    }\n",
       "\n",
       "    .dataframe tbody tr th {\n",
       "        vertical-align: top;\n",
       "    }\n",
       "\n",
       "    .dataframe thead th {\n",
       "        text-align: right;\n",
       "    }\n",
       "</style>\n",
       "<table border=\"1\" class=\"dataframe\">\n",
       "  <thead>\n",
       "    <tr style=\"text-align: right;\">\n",
       "      <th></th>\n",
       "      <th>p_creation_date</th>\n",
       "      <th>count_order</th>\n",
       "    </tr>\n",
       "  </thead>\n",
       "  <tbody>\n",
       "    <tr>\n",
       "      <th>0</th>\n",
       "      <td>2024-09-01</td>\n",
       "      <td>937203</td>\n",
       "    </tr>\n",
       "  </tbody>\n",
       "</table>\n",
       "</div>"
      ],
      "text/plain": [
       "  p_creation_date  count_order\n",
       "0      2024-09-01       937203"
      ]
     },
     "execution_count": 13,
     "metadata": {},
     "output_type": "execute_result"
    }
   ],
   "source": [
    "# orders from orders desriptors\n",
    "q.prepare_query(\n",
    "    query_file='order_descriptors.sql'\n",
    "    ,params=params\n",
    "    ,to_load_file=None\n",
    "    ,load_from_to_load_file=None\n",
    ")\n",
    "\n",
    "order_descriptors = q.query_run_starburst()\n",
    "order_descriptors"
   ]
  },
  {
   "cell_type": "code",
   "execution_count": 14,
   "metadata": {},
   "outputs": [
    {
     "data": {
      "text/html": [
       "<div>\n",
       "<style scoped>\n",
       "    .dataframe tbody tr th:only-of-type {\n",
       "        vertical-align: middle;\n",
       "    }\n",
       "\n",
       "    .dataframe tbody tr th {\n",
       "        vertical-align: top;\n",
       "    }\n",
       "\n",
       "    .dataframe thead th {\n",
       "        text-align: right;\n",
       "    }\n",
       "</style>\n",
       "<table border=\"1\" class=\"dataframe\">\n",
       "  <thead>\n",
       "    <tr style=\"text-align: right;\">\n",
       "      <th></th>\n",
       "      <th>date(creation_time)</th>\n",
       "      <th>count_order</th>\n",
       "    </tr>\n",
       "  </thead>\n",
       "  <tbody>\n",
       "    <tr>\n",
       "      <th>0</th>\n",
       "      <td>2024-09-01</td>\n",
       "      <td>937205</td>\n",
       "    </tr>\n",
       "  </tbody>\n",
       "</table>\n",
       "</div>"
      ],
      "text/plain": [
       "  date(creation_time)  count_order\n",
       "0          2024-09-01       937205"
      ]
     },
     "execution_count": 14,
     "metadata": {},
     "output_type": "execute_result"
    }
   ],
   "source": [
    "# orders from live db \n",
    "q.prepare_query(\n",
    "    query_file='orders_livedb.sql'\n",
    "    ,params=params\n",
    "    ,to_load_file=None\n",
    "    ,load_from_to_load_file=None\n",
    ")\n",
    "\n",
    "orders_livedb = q.query_run_livedb()\n",
    "orders_livedb"
   ]
  },
  {
   "cell_type": "code",
   "execution_count": 21,
   "metadata": {},
   "outputs": [
    {
     "name": "stderr",
     "output_type": "stream",
     "text": [
      "c:\\Users/Jordi Cremades/Documents/Repos/central-node\\src\\query_engines.py:197: UserWarning: pandas only supports SQLAlchemy connectable (engine/connection) or database string URI or sqlite3 DBAPI2 connection. Other DBAPI2 objects are not tested. Please consider using SQLAlchemy.\n",
      "  df = pd.read_sql(self.tp__read_query, conn)\n"
     ]
    },
    {
     "data": {
      "text/html": [
       "<div>\n",
       "<style scoped>\n",
       "    .dataframe tbody tr th:only-of-type {\n",
       "        vertical-align: middle;\n",
       "    }\n",
       "\n",
       "    .dataframe tbody tr th {\n",
       "        vertical-align: top;\n",
       "    }\n",
       "\n",
       "    .dataframe thead th {\n",
       "        text-align: right;\n",
       "    }\n",
       "</style>\n",
       "<table border=\"1\" class=\"dataframe\">\n",
       "  <thead>\n",
       "    <tr style=\"text-align: right;\">\n",
       "      <th></th>\n",
       "      <th>p_creation_date</th>\n",
       "      <th>count_order</th>\n",
       "    </tr>\n",
       "  </thead>\n",
       "  <tbody>\n",
       "    <tr>\n",
       "      <th>0</th>\n",
       "      <td>2024-09-01</td>\n",
       "      <td>3114</td>\n",
       "    </tr>\n",
       "  </tbody>\n",
       "</table>\n",
       "</div>"
      ],
      "text/plain": [
       "  p_creation_date  count_order\n",
       "0      2024-09-01         3114"
      ]
     },
     "execution_count": 21,
     "metadata": {},
     "output_type": "execute_result"
    }
   ],
   "source": [
    "# orders_loyalty_cards from \n",
    "q.prepare_query(\n",
    "    query_file='orders_with_loyalty_cards.sql'\n",
    "    ,params=params\n",
    "    ,to_load_file=None\n",
    "    ,load_from_to_load_file=None\n",
    ")\n",
    "\n",
    "orders_with_loyalty_cards = q.query_run_starburst()\n",
    "orders_with_loyalty_cards"
   ]
  },
  {
   "cell_type": "markdown",
   "metadata": {},
   "source": [
    "In summary for date 2024-09-01:\n",
    "- 901568 orders from orders in sensitive event Order Created\n",
    "\n",
    "- 901568 orders from orders in sensitive event Order Created when we split per LC added or not\n",
    "\n",
    "- 937203 orders in order descriptors\n",
    "\n",
    "- 937205 orders in live db\n",
    "\n",
    "Focusing on the orders with loyalty cards\n",
    "\n",
    "- 3114 orders with with loyalty card using temp_order_loyalty_cards_enriched\n",
    "- 1039 ordres with loyalty card using sensitive envent Order Created and is_loyalty_card_added not null"
   ]
  },
  {
   "cell_type": "markdown",
   "metadata": {},
   "source": [
    "## Compare at order level"
   ]
  },
  {
   "cell_type": "code",
   "execution_count": 52,
   "metadata": {},
   "outputs": [
    {
     "name": "stderr",
     "output_type": "stream",
     "text": [
      "c:\\Users/Jordi Cremades/Documents/Repos/central-node\\src\\query_engines.py:197: UserWarning: pandas only supports SQLAlchemy connectable (engine/connection) or database string URI or sqlite3 DBAPI2 connection. Other DBAPI2 objects are not tested. Please consider using SQLAlchemy.\n",
      "  df = pd.read_sql(self.tp__read_query, conn)\n"
     ]
    },
    {
     "data": {
      "text/html": [
       "<div>\n",
       "<style scoped>\n",
       "    .dataframe tbody tr th:only-of-type {\n",
       "        vertical-align: middle;\n",
       "    }\n",
       "\n",
       "    .dataframe tbody tr th {\n",
       "        vertical-align: top;\n",
       "    }\n",
       "\n",
       "    .dataframe thead th {\n",
       "        text-align: right;\n",
       "    }\n",
       "</style>\n",
       "<table border=\"1\" class=\"dataframe\">\n",
       "  <thead>\n",
       "    <tr style=\"text-align: right;\">\n",
       "      <th></th>\n",
       "      <th>p_creation_date</th>\n",
       "      <th>order_id</th>\n",
       "      <th>is_loyalty_card_added</th>\n",
       "    </tr>\n",
       "  </thead>\n",
       "  <tbody>\n",
       "    <tr>\n",
       "      <th>0</th>\n",
       "      <td>2024-09-01</td>\n",
       "      <td>100839362715</td>\n",
       "      <td>true</td>\n",
       "    </tr>\n",
       "    <tr>\n",
       "      <th>1</th>\n",
       "      <td>2024-09-01</td>\n",
       "      <td>100839322378</td>\n",
       "      <td>true</td>\n",
       "    </tr>\n",
       "    <tr>\n",
       "      <th>2</th>\n",
       "      <td>2024-09-01</td>\n",
       "      <td>100839207603</td>\n",
       "      <td>true</td>\n",
       "    </tr>\n",
       "    <tr>\n",
       "      <th>3</th>\n",
       "      <td>2024-09-01</td>\n",
       "      <td>100839296570</td>\n",
       "      <td>true</td>\n",
       "    </tr>\n",
       "    <tr>\n",
       "      <th>4</th>\n",
       "      <td>2024-09-01</td>\n",
       "      <td>100839253315</td>\n",
       "      <td>true</td>\n",
       "    </tr>\n",
       "  </tbody>\n",
       "</table>\n",
       "</div>"
      ],
      "text/plain": [
       "  p_creation_date      order_id is_loyalty_card_added\n",
       "0      2024-09-01  100839362715                  true\n",
       "1      2024-09-01  100839322378                  true\n",
       "2      2024-09-01  100839207603                  true\n",
       "3      2024-09-01  100839296570                  true\n",
       "4      2024-09-01  100839253315                  true"
      ]
     },
     "execution_count": 52,
     "metadata": {},
     "output_type": "execute_result"
    }
   ],
   "source": [
    "# Order Level. Ordres with loyalty cards from sensitive custom event\n",
    "q.prepare_query(\n",
    "    query_file='n_orders_sensitive_loyalty_order_level.sql'\n",
    "    ,params=params\n",
    "    ,to_load_file=None\n",
    "    ,load_from_to_load_file=None\n",
    ")\n",
    "\n",
    "sensitive = q.query_run_starburst()\n",
    "sensitive.head()"
   ]
  },
  {
   "cell_type": "code",
   "execution_count": 66,
   "metadata": {},
   "outputs": [
    {
     "name": "stderr",
     "output_type": "stream",
     "text": [
      "c:\\Users/Jordi Cremades/Documents/Repos/central-node\\src\\query_engines.py:197: UserWarning: pandas only supports SQLAlchemy connectable (engine/connection) or database string URI or sqlite3 DBAPI2 connection. Other DBAPI2 objects are not tested. Please consider using SQLAlchemy.\n",
      "  df = pd.read_sql(self.tp__read_query, conn)\n"
     ]
    },
    {
     "data": {
      "text/html": [
       "<div>\n",
       "<style scoped>\n",
       "    .dataframe tbody tr th:only-of-type {\n",
       "        vertical-align: middle;\n",
       "    }\n",
       "\n",
       "    .dataframe tbody tr th {\n",
       "        vertical-align: top;\n",
       "    }\n",
       "\n",
       "    .dataframe thead th {\n",
       "        text-align: right;\n",
       "    }\n",
       "</style>\n",
       "<table border=\"1\" class=\"dataframe\">\n",
       "  <thead>\n",
       "    <tr style=\"text-align: right;\">\n",
       "      <th></th>\n",
       "      <th>p_creation_date</th>\n",
       "      <th>order_id</th>\n",
       "      <th>order_subvertical</th>\n",
       "    </tr>\n",
       "  </thead>\n",
       "  <tbody>\n",
       "    <tr>\n",
       "      <th>0</th>\n",
       "      <td>2024-09-01</td>\n",
       "      <td>100838429322</td>\n",
       "      <td>QCPartners</td>\n",
       "    </tr>\n",
       "    <tr>\n",
       "      <th>1</th>\n",
       "      <td>2024-09-01</td>\n",
       "      <td>100838029504</td>\n",
       "      <td>QCPartners</td>\n",
       "    </tr>\n",
       "    <tr>\n",
       "      <th>2</th>\n",
       "      <td>2024-09-01</td>\n",
       "      <td>100837609194</td>\n",
       "      <td>QCPartners</td>\n",
       "    </tr>\n",
       "    <tr>\n",
       "      <th>3</th>\n",
       "      <td>2024-09-01</td>\n",
       "      <td>100837836495</td>\n",
       "      <td>QCPartners</td>\n",
       "    </tr>\n",
       "    <tr>\n",
       "      <th>4</th>\n",
       "      <td>2024-09-01</td>\n",
       "      <td>100839046804</td>\n",
       "      <td>Food - Food</td>\n",
       "    </tr>\n",
       "  </tbody>\n",
       "</table>\n",
       "</div>"
      ],
      "text/plain": [
       "  p_creation_date      order_id order_subvertical\n",
       "0      2024-09-01  100838429322        QCPartners\n",
       "1      2024-09-01  100838029504        QCPartners\n",
       "2      2024-09-01  100837609194        QCPartners\n",
       "3      2024-09-01  100837836495        QCPartners\n",
       "4      2024-09-01  100839046804       Food - Food"
      ]
     },
     "execution_count": 66,
     "metadata": {},
     "output_type": "execute_result"
    }
   ],
   "source": [
    "# Order Level. Ordres with loyalty cards from sensitive custom event\n",
    "q.prepare_query(\n",
    "    query_file='n_orders_delta_loyalty_order_level.sql'\n",
    "    ,params=params\n",
    "    ,to_load_file=None\n",
    "    ,load_from_to_load_file=None\n",
    ")\n",
    "\n",
    "delta = q.query_run_starburst()\n",
    "delta.head()"
   ]
  },
  {
   "cell_type": "code",
   "execution_count": 67,
   "metadata": {},
   "outputs": [
    {
     "data": {
      "text/html": [
       "<div>\n",
       "<style scoped>\n",
       "    .dataframe tbody tr th:only-of-type {\n",
       "        vertical-align: middle;\n",
       "    }\n",
       "\n",
       "    .dataframe tbody tr th {\n",
       "        vertical-align: top;\n",
       "    }\n",
       "\n",
       "    .dataframe thead th {\n",
       "        text-align: right;\n",
       "    }\n",
       "</style>\n",
       "<table border=\"1\" class=\"dataframe\">\n",
       "  <thead>\n",
       "    <tr style=\"text-align: right;\">\n",
       "      <th></th>\n",
       "      <th>p_creation_date</th>\n",
       "      <th>order_id</th>\n",
       "      <th>is_loyalty_card_added</th>\n",
       "    </tr>\n",
       "  </thead>\n",
       "  <tbody>\n",
       "    <tr>\n",
       "      <th>count</th>\n",
       "      <td>1039</td>\n",
       "      <td>1039</td>\n",
       "      <td>1039</td>\n",
       "    </tr>\n",
       "    <tr>\n",
       "      <th>unique</th>\n",
       "      <td>1</td>\n",
       "      <td>1039</td>\n",
       "      <td>1</td>\n",
       "    </tr>\n",
       "    <tr>\n",
       "      <th>top</th>\n",
       "      <td>2024-09-01</td>\n",
       "      <td>100839362715</td>\n",
       "      <td>true</td>\n",
       "    </tr>\n",
       "    <tr>\n",
       "      <th>freq</th>\n",
       "      <td>1039</td>\n",
       "      <td>1</td>\n",
       "      <td>1039</td>\n",
       "    </tr>\n",
       "  </tbody>\n",
       "</table>\n",
       "</div>"
      ],
      "text/plain": [
       "       p_creation_date      order_id is_loyalty_card_added\n",
       "count             1039          1039                  1039\n",
       "unique               1          1039                     1\n",
       "top         2024-09-01  100839362715                  true\n",
       "freq              1039             1                  1039"
      ]
     },
     "execution_count": 67,
     "metadata": {},
     "output_type": "execute_result"
    }
   ],
   "source": [
    "sensitive.describe()"
   ]
  },
  {
   "cell_type": "code",
   "execution_count": 68,
   "metadata": {},
   "outputs": [
    {
     "data": {
      "text/html": [
       "<div>\n",
       "<style scoped>\n",
       "    .dataframe tbody tr th:only-of-type {\n",
       "        vertical-align: middle;\n",
       "    }\n",
       "\n",
       "    .dataframe tbody tr th {\n",
       "        vertical-align: top;\n",
       "    }\n",
       "\n",
       "    .dataframe thead th {\n",
       "        text-align: right;\n",
       "    }\n",
       "</style>\n",
       "<table border=\"1\" class=\"dataframe\">\n",
       "  <thead>\n",
       "    <tr style=\"text-align: right;\">\n",
       "      <th></th>\n",
       "      <th>p_creation_date</th>\n",
       "      <th>order_id</th>\n",
       "      <th>order_subvertical</th>\n",
       "    </tr>\n",
       "  </thead>\n",
       "  <tbody>\n",
       "    <tr>\n",
       "      <th>count</th>\n",
       "      <td>3114</td>\n",
       "      <td>3114</td>\n",
       "      <td>3114</td>\n",
       "    </tr>\n",
       "    <tr>\n",
       "      <th>unique</th>\n",
       "      <td>1</td>\n",
       "      <td>3114</td>\n",
       "      <td>2</td>\n",
       "    </tr>\n",
       "    <tr>\n",
       "      <th>top</th>\n",
       "      <td>2024-09-01</td>\n",
       "      <td>100838429322</td>\n",
       "      <td>QCPartners</td>\n",
       "    </tr>\n",
       "    <tr>\n",
       "      <th>freq</th>\n",
       "      <td>3114</td>\n",
       "      <td>1</td>\n",
       "      <td>2343</td>\n",
       "    </tr>\n",
       "  </tbody>\n",
       "</table>\n",
       "</div>"
      ],
      "text/plain": [
       "       p_creation_date      order_id order_subvertical\n",
       "count             3114          3114              3114\n",
       "unique               1          3114                 2\n",
       "top         2024-09-01  100838429322        QCPartners\n",
       "freq              3114             1              2343"
      ]
     },
     "execution_count": 68,
     "metadata": {},
     "output_type": "execute_result"
    }
   ],
   "source": [
    "delta.describe()"
   ]
  },
  {
   "cell_type": "code",
   "execution_count": 69,
   "metadata": {},
   "outputs": [
    {
     "data": {
      "text/html": [
       "<div>\n",
       "<style scoped>\n",
       "    .dataframe tbody tr th:only-of-type {\n",
       "        vertical-align: middle;\n",
       "    }\n",
       "\n",
       "    .dataframe tbody tr th {\n",
       "        vertical-align: top;\n",
       "    }\n",
       "\n",
       "    .dataframe thead th {\n",
       "        text-align: right;\n",
       "    }\n",
       "</style>\n",
       "<table border=\"1\" class=\"dataframe\">\n",
       "  <thead>\n",
       "    <tr style=\"text-align: right;\">\n",
       "      <th></th>\n",
       "      <th>p_creation_date_delta</th>\n",
       "      <th>order_id</th>\n",
       "      <th>order_subvertical</th>\n",
       "      <th>p_creation_date_sensitive</th>\n",
       "      <th>is_loyalty_card_added</th>\n",
       "    </tr>\n",
       "  </thead>\n",
       "  <tbody>\n",
       "    <tr>\n",
       "      <th>0</th>\n",
       "      <td>2024-09-01</td>\n",
       "      <td>100838429322</td>\n",
       "      <td>QCPartners</td>\n",
       "      <td>NaN</td>\n",
       "      <td>NaN</td>\n",
       "    </tr>\n",
       "    <tr>\n",
       "      <th>1</th>\n",
       "      <td>2024-09-01</td>\n",
       "      <td>100838029504</td>\n",
       "      <td>QCPartners</td>\n",
       "      <td>2024-09-01</td>\n",
       "      <td>true</td>\n",
       "    </tr>\n",
       "    <tr>\n",
       "      <th>2</th>\n",
       "      <td>2024-09-01</td>\n",
       "      <td>100837609194</td>\n",
       "      <td>QCPartners</td>\n",
       "      <td>NaN</td>\n",
       "      <td>NaN</td>\n",
       "    </tr>\n",
       "    <tr>\n",
       "      <th>3</th>\n",
       "      <td>2024-09-01</td>\n",
       "      <td>100837836495</td>\n",
       "      <td>QCPartners</td>\n",
       "      <td>NaN</td>\n",
       "      <td>NaN</td>\n",
       "    </tr>\n",
       "    <tr>\n",
       "      <th>4</th>\n",
       "      <td>2024-09-01</td>\n",
       "      <td>100839046804</td>\n",
       "      <td>Food - Food</td>\n",
       "      <td>NaN</td>\n",
       "      <td>NaN</td>\n",
       "    </tr>\n",
       "    <tr>\n",
       "      <th>...</th>\n",
       "      <td>...</td>\n",
       "      <td>...</td>\n",
       "      <td>...</td>\n",
       "      <td>...</td>\n",
       "      <td>...</td>\n",
       "    </tr>\n",
       "    <tr>\n",
       "      <th>3109</th>\n",
       "      <td>2024-09-01</td>\n",
       "      <td>100838662797</td>\n",
       "      <td>QCPartners</td>\n",
       "      <td>NaN</td>\n",
       "      <td>NaN</td>\n",
       "    </tr>\n",
       "    <tr>\n",
       "      <th>3110</th>\n",
       "      <td>2024-09-01</td>\n",
       "      <td>100837661690</td>\n",
       "      <td>QCPartners</td>\n",
       "      <td>NaN</td>\n",
       "      <td>NaN</td>\n",
       "    </tr>\n",
       "    <tr>\n",
       "      <th>3111</th>\n",
       "      <td>2024-09-01</td>\n",
       "      <td>100838327799</td>\n",
       "      <td>QCPartners</td>\n",
       "      <td>NaN</td>\n",
       "      <td>NaN</td>\n",
       "    </tr>\n",
       "    <tr>\n",
       "      <th>3112</th>\n",
       "      <td>2024-09-01</td>\n",
       "      <td>100837420141</td>\n",
       "      <td>QCPartners</td>\n",
       "      <td>2024-09-01</td>\n",
       "      <td>true</td>\n",
       "    </tr>\n",
       "    <tr>\n",
       "      <th>3113</th>\n",
       "      <td>2024-09-01</td>\n",
       "      <td>100837577762</td>\n",
       "      <td>Food - Food</td>\n",
       "      <td>NaN</td>\n",
       "      <td>NaN</td>\n",
       "    </tr>\n",
       "  </tbody>\n",
       "</table>\n",
       "<p>3114 rows × 5 columns</p>\n",
       "</div>"
      ],
      "text/plain": [
       "     p_creation_date_delta      order_id order_subvertical  \\\n",
       "0               2024-09-01  100838429322        QCPartners   \n",
       "1               2024-09-01  100838029504        QCPartners   \n",
       "2               2024-09-01  100837609194        QCPartners   \n",
       "3               2024-09-01  100837836495        QCPartners   \n",
       "4               2024-09-01  100839046804       Food - Food   \n",
       "...                    ...           ...               ...   \n",
       "3109            2024-09-01  100838662797        QCPartners   \n",
       "3110            2024-09-01  100837661690        QCPartners   \n",
       "3111            2024-09-01  100838327799        QCPartners   \n",
       "3112            2024-09-01  100837420141        QCPartners   \n",
       "3113            2024-09-01  100837577762       Food - Food   \n",
       "\n",
       "     p_creation_date_sensitive is_loyalty_card_added  \n",
       "0                          NaN                   NaN  \n",
       "1                   2024-09-01                  true  \n",
       "2                          NaN                   NaN  \n",
       "3                          NaN                   NaN  \n",
       "4                          NaN                   NaN  \n",
       "...                        ...                   ...  \n",
       "3109                       NaN                   NaN  \n",
       "3110                       NaN                   NaN  \n",
       "3111                       NaN                   NaN  \n",
       "3112                2024-09-01                  true  \n",
       "3113                       NaN                   NaN  \n",
       "\n",
       "[3114 rows x 5 columns]"
      ]
     },
     "execution_count": 69,
     "metadata": {},
     "output_type": "execute_result"
    }
   ],
   "source": [
    "# merged\n",
    "tmp = pd.merge(delta,sensitive, on='order_id', how='left', suffixes=('_delta','_sensitive'))\n",
    "tmp"
   ]
  },
  {
   "cell_type": "code",
   "execution_count": 70,
   "metadata": {},
   "outputs": [
    {
     "name": "stdout",
     "output_type": "stream",
     "text": [
      "2087 Orders that appear as with loyalty in the delta but not in sensitive\n"
     ]
    }
   ],
   "source": [
    "# keep only the ones that were not found\n",
    "cond = tmp['p_creation_date_sensitive'].isnull()\n",
    "\n",
    "print(tmp['order_id'][cond].nunique(), 'Orders that appear as with loyalty in the delta but not in sensitive')"
   ]
  },
  {
   "cell_type": "code",
   "execution_count": 72,
   "metadata": {},
   "outputs": [
    {
     "data": {
      "text/html": [
       "<div>\n",
       "<style scoped>\n",
       "    .dataframe tbody tr th:only-of-type {\n",
       "        vertical-align: middle;\n",
       "    }\n",
       "\n",
       "    .dataframe tbody tr th {\n",
       "        vertical-align: top;\n",
       "    }\n",
       "\n",
       "    .dataframe thead th {\n",
       "        text-align: right;\n",
       "    }\n",
       "</style>\n",
       "<table border=\"1\" class=\"dataframe\">\n",
       "  <thead>\n",
       "    <tr style=\"text-align: right;\">\n",
       "      <th></th>\n",
       "      <th>p_creation_date_delta</th>\n",
       "      <th>order_id</th>\n",
       "      <th>order_subvertical</th>\n",
       "      <th>p_creation_date_sensitive</th>\n",
       "      <th>is_loyalty_card_added</th>\n",
       "    </tr>\n",
       "  </thead>\n",
       "  <tbody>\n",
       "    <tr>\n",
       "      <th>0</th>\n",
       "      <td>2024-09-01</td>\n",
       "      <td>100838429322</td>\n",
       "      <td>QCPartners</td>\n",
       "      <td>NaN</td>\n",
       "      <td>NaN</td>\n",
       "    </tr>\n",
       "    <tr>\n",
       "      <th>2</th>\n",
       "      <td>2024-09-01</td>\n",
       "      <td>100837609194</td>\n",
       "      <td>QCPartners</td>\n",
       "      <td>NaN</td>\n",
       "      <td>NaN</td>\n",
       "    </tr>\n",
       "    <tr>\n",
       "      <th>3</th>\n",
       "      <td>2024-09-01</td>\n",
       "      <td>100837836495</td>\n",
       "      <td>QCPartners</td>\n",
       "      <td>NaN</td>\n",
       "      <td>NaN</td>\n",
       "    </tr>\n",
       "    <tr>\n",
       "      <th>4</th>\n",
       "      <td>2024-09-01</td>\n",
       "      <td>100839046804</td>\n",
       "      <td>Food - Food</td>\n",
       "      <td>NaN</td>\n",
       "      <td>NaN</td>\n",
       "    </tr>\n",
       "    <tr>\n",
       "      <th>5</th>\n",
       "      <td>2024-09-01</td>\n",
       "      <td>100837392202</td>\n",
       "      <td>QCPartners</td>\n",
       "      <td>NaN</td>\n",
       "      <td>NaN</td>\n",
       "    </tr>\n",
       "    <tr>\n",
       "      <th>...</th>\n",
       "      <td>...</td>\n",
       "      <td>...</td>\n",
       "      <td>...</td>\n",
       "      <td>...</td>\n",
       "      <td>...</td>\n",
       "    </tr>\n",
       "    <tr>\n",
       "      <th>3108</th>\n",
       "      <td>2024-09-01</td>\n",
       "      <td>100837616977</td>\n",
       "      <td>QCPartners</td>\n",
       "      <td>NaN</td>\n",
       "      <td>NaN</td>\n",
       "    </tr>\n",
       "    <tr>\n",
       "      <th>3109</th>\n",
       "      <td>2024-09-01</td>\n",
       "      <td>100838662797</td>\n",
       "      <td>QCPartners</td>\n",
       "      <td>NaN</td>\n",
       "      <td>NaN</td>\n",
       "    </tr>\n",
       "    <tr>\n",
       "      <th>3110</th>\n",
       "      <td>2024-09-01</td>\n",
       "      <td>100837661690</td>\n",
       "      <td>QCPartners</td>\n",
       "      <td>NaN</td>\n",
       "      <td>NaN</td>\n",
       "    </tr>\n",
       "    <tr>\n",
       "      <th>3111</th>\n",
       "      <td>2024-09-01</td>\n",
       "      <td>100838327799</td>\n",
       "      <td>QCPartners</td>\n",
       "      <td>NaN</td>\n",
       "      <td>NaN</td>\n",
       "    </tr>\n",
       "    <tr>\n",
       "      <th>3113</th>\n",
       "      <td>2024-09-01</td>\n",
       "      <td>100837577762</td>\n",
       "      <td>Food - Food</td>\n",
       "      <td>NaN</td>\n",
       "      <td>NaN</td>\n",
       "    </tr>\n",
       "  </tbody>\n",
       "</table>\n",
       "<p>2087 rows × 5 columns</p>\n",
       "</div>"
      ],
      "text/plain": [
       "     p_creation_date_delta      order_id order_subvertical  \\\n",
       "0               2024-09-01  100838429322        QCPartners   \n",
       "2               2024-09-01  100837609194        QCPartners   \n",
       "3               2024-09-01  100837836495        QCPartners   \n",
       "4               2024-09-01  100839046804       Food - Food   \n",
       "5               2024-09-01  100837392202        QCPartners   \n",
       "...                    ...           ...               ...   \n",
       "3108            2024-09-01  100837616977        QCPartners   \n",
       "3109            2024-09-01  100838662797        QCPartners   \n",
       "3110            2024-09-01  100837661690        QCPartners   \n",
       "3111            2024-09-01  100838327799        QCPartners   \n",
       "3113            2024-09-01  100837577762       Food - Food   \n",
       "\n",
       "     p_creation_date_sensitive is_loyalty_card_added  \n",
       "0                          NaN                   NaN  \n",
       "2                          NaN                   NaN  \n",
       "3                          NaN                   NaN  \n",
       "4                          NaN                   NaN  \n",
       "5                          NaN                   NaN  \n",
       "...                        ...                   ...  \n",
       "3108                       NaN                   NaN  \n",
       "3109                       NaN                   NaN  \n",
       "3110                       NaN                   NaN  \n",
       "3111                       NaN                   NaN  \n",
       "3113                       NaN                   NaN  \n",
       "\n",
       "[2087 rows x 5 columns]"
      ]
     },
     "execution_count": 72,
     "metadata": {},
     "output_type": "execute_result"
    }
   ],
   "source": [
    "# all these orders do not appear in the custom event with loyalty card added. They appear as order_id, but the field\n",
    "# of loyalty card added does not.\n",
    "tmp[cond]"
   ]
  }
 ],
 "metadata": {
  "kernelspec": {
   "display_name": ".venv",
   "language": "python",
   "name": "python3"
  },
  "language_info": {
   "codemirror_mode": {
    "name": "ipython",
    "version": 3
   },
   "file_extension": ".py",
   "mimetype": "text/x-python",
   "name": "python",
   "nbconvert_exporter": "python",
   "pygments_lexer": "ipython3",
   "version": "3.12.0"
  }
 },
 "nbformat": 4,
 "nbformat_minor": 2
}
