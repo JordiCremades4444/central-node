{
 "cells": [
  {
   "cell_type": "markdown",
   "metadata": {},
   "source": [
    "# Fresh Products"
   ]
  },
  {
   "cell_type": "code",
   "execution_count": 6,
   "metadata": {},
   "outputs": [],
   "source": [
    "import matplotlib.pyplot as plt\n",
    "import os\n",
    "import pandas as pd\n",
    "import seaborn as sns\n",
    "import sys\n",
    "\n",
    "# Move two levels up (to the project root) and append the `src` folder\n",
    "src_path = os.path.abspath(os.path.join(os.getcwd(), '..', '..'))\n",
    "\n",
    "# Append src to sys.path\n",
    "sys.path.append(src_path)\n",
    "\n",
    "from src import query_engines, dataframe_visualizer\n",
    "\n",
    "q = query_engines.QueryEngines()"
   ]
  },
  {
   "cell_type": "markdown",
   "metadata": {},
   "source": [
    "## Q1: Identify all kinds of segmentation\n",
    "\n",
    "In this first part I want to segment all the possible partners. In Specialties, TP, NTP, MFCs and All groceries. We also check what is the perc of migrated Store Address Ids for each of them."
   ]
  },
  {
   "cell_type": "markdown",
   "metadata": {},
   "source": [
    "### What is the distribution of segments_lvl 1?"
   ]
  },
  {
   "cell_type": "code",
   "execution_count": 8,
   "metadata": {},
   "outputs": [
    {
     "data": {
      "text/html": [
       "<div>\n",
       "<style scoped>\n",
       "    .dataframe tbody tr th:only-of-type {\n",
       "        vertical-align: middle;\n",
       "    }\n",
       "\n",
       "    .dataframe tbody tr th {\n",
       "        vertical-align: top;\n",
       "    }\n",
       "\n",
       "    .dataframe thead th {\n",
       "        text-align: right;\n",
       "    }\n",
       "</style>\n",
       "<table border=\"1\" class=\"dataframe\">\n",
       "  <thead>\n",
       "    <tr style=\"text-align: right;\">\n",
       "      <th></th>\n",
       "      <th>segment_1</th>\n",
       "      <th>distinct_sad_id</th>\n",
       "      <th>migrated_sad_id</th>\n",
       "      <th>perc_m</th>\n",
       "    </tr>\n",
       "  </thead>\n",
       "  <tbody>\n",
       "    <tr>\n",
       "      <th>2</th>\n",
       "      <td>Specialties</td>\n",
       "      <td>15387</td>\n",
       "      <td>1442</td>\n",
       "      <td>0.093715</td>\n",
       "    </tr>\n",
       "    <tr>\n",
       "      <th>3</th>\n",
       "      <td>Top Partner</td>\n",
       "      <td>10546</td>\n",
       "      <td>8496</td>\n",
       "      <td>0.805614</td>\n",
       "    </tr>\n",
       "    <tr>\n",
       "      <th>1</th>\n",
       "      <td>Non Top Partner</td>\n",
       "      <td>5850</td>\n",
       "      <td>1682</td>\n",
       "      <td>0.287521</td>\n",
       "    </tr>\n",
       "    <tr>\n",
       "      <th>0</th>\n",
       "      <td>MFC</td>\n",
       "      <td>256</td>\n",
       "      <td>245</td>\n",
       "      <td>0.957031</td>\n",
       "    </tr>\n",
       "  </tbody>\n",
       "</table>\n",
       "</div>"
      ],
      "text/plain": [
       "         segment_1  distinct_sad_id  migrated_sad_id    perc_m\n",
       "2      Specialties            15387             1442  0.093715\n",
       "3      Top Partner            10546             8496  0.805614\n",
       "1  Non Top Partner             5850             1682  0.287521\n",
       "0              MFC              256              245  0.957031"
      ]
     },
     "execution_count": 8,
     "metadata": {},
     "output_type": "execute_result"
    }
   ],
   "source": [
    "q.prepare_query(\n",
    "    'backup/possible_segmentations.sql'\n",
    "    ,params=None\n",
    "    ,to_load_file='possible_segmentations'\n",
    "    ,load_from_to_load_file='possible_segmentations'\n",
    ")\n",
    "\n",
    "possible_segmentations  = q.query_run_starburst()\n",
    "\n",
    "grouped = possible_segmentations.groupby('segment_1').agg(\n",
    "    distinct_sad_id = ('store_address_id','nunique'),\n",
    "    migrated_sad_id = ('is_migrated', lambda x: x.sum())\n",
    ").reset_index()\n",
    "\n",
    "grouped['perc_m'] = grouped['migrated_sad_id']/grouped['distinct_sad_id']\n",
    "grouped.sort_values(by='distinct_sad_id', ascending=False)"
   ]
  },
  {
   "cell_type": "markdown",
   "metadata": {},
   "source": [
    "### What is the distribution of segment_lvl 2?"
   ]
  },
  {
   "cell_type": "code",
   "execution_count": 9,
   "metadata": {},
   "outputs": [
    {
     "data": {
      "text/html": [
       "<div>\n",
       "<style scoped>\n",
       "    .dataframe tbody tr th:only-of-type {\n",
       "        vertical-align: middle;\n",
       "    }\n",
       "\n",
       "    .dataframe tbody tr th {\n",
       "        vertical-align: top;\n",
       "    }\n",
       "\n",
       "    .dataframe thead th {\n",
       "        text-align: right;\n",
       "    }\n",
       "</style>\n",
       "<table border=\"1\" class=\"dataframe\">\n",
       "  <thead>\n",
       "    <tr style=\"text-align: right;\">\n",
       "      <th></th>\n",
       "      <th>segment_2</th>\n",
       "      <th>distinct_sad_id</th>\n",
       "      <th>migrated_sad_id</th>\n",
       "      <th>perc_m</th>\n",
       "    </tr>\n",
       "  </thead>\n",
       "  <tbody>\n",
       "    <tr>\n",
       "      <th>0</th>\n",
       "      <td>Groceries Partner</td>\n",
       "      <td>16396</td>\n",
       "      <td>10178</td>\n",
       "      <td>0.620761</td>\n",
       "    </tr>\n",
       "    <tr>\n",
       "      <th>2</th>\n",
       "      <td>Specialties</td>\n",
       "      <td>15387</td>\n",
       "      <td>1442</td>\n",
       "      <td>0.093715</td>\n",
       "    </tr>\n",
       "    <tr>\n",
       "      <th>1</th>\n",
       "      <td>MFC</td>\n",
       "      <td>256</td>\n",
       "      <td>245</td>\n",
       "      <td>0.957031</td>\n",
       "    </tr>\n",
       "  </tbody>\n",
       "</table>\n",
       "</div>"
      ],
      "text/plain": [
       "           segment_2  distinct_sad_id  migrated_sad_id    perc_m\n",
       "0  Groceries Partner            16396            10178  0.620761\n",
       "2        Specialties            15387             1442  0.093715\n",
       "1                MFC              256              245  0.957031"
      ]
     },
     "execution_count": 9,
     "metadata": {},
     "output_type": "execute_result"
    }
   ],
   "source": [
    "grouped = possible_segmentations.groupby('segment_2').agg(\n",
    "    distinct_sad_id = ('store_address_id','nunique'),\n",
    "    migrated_sad_id = ('is_migrated', lambda x: x.sum())\n",
    ").reset_index()\n",
    "\n",
    "grouped['perc_m'] = grouped['migrated_sad_id']/grouped['distinct_sad_id']\n",
    "grouped.sort_values(by='distinct_sad_id', ascending=False)"
   ]
  },
  {
   "cell_type": "markdown",
   "metadata": {},
   "source": [
    "# Q2: Rest of metrics"
   ]
  },
  {
   "cell_type": "code",
   "execution_count": 18,
   "metadata": {},
   "outputs": [
    {
     "name": "stderr",
     "output_type": "stream",
     "text": [
      "/Users/jordicremades/Documents/repos/central-node/src/query_engines.py:138: UserWarning: pandas only supports SQLAlchemy connectable (engine/connection) or database string URI or sqlite3 DBAPI2 connection. Other DBAPI2 objects are not tested. Please consider using SQLAlchemy.\n",
      "  df = pd.read_sql(self.tp__read_query, conn)\n"
     ]
    },
    {
     "name": "stdout",
     "output_type": "stream",
     "text": [
      "Open the following URL in browser for the external authentication:\n",
      "https://starburst.g8s-data-platform-prod.glovoint.com/oauth2/token/initiate/e70ac55989bc2570ee8599905e8577e98ff58320a3c32b52915b93f397e61a42\n"
     ]
    }
   ],
   "source": [
    "START_DATE = \"'2024-07-01'\"\n",
    "END_DATE = \"'2024-09-15'\"\n",
    "\n",
    "params = [\n",
    "    {'name':'start_date','value':START_DATE},\n",
    "    {'name':'end_date','value':END_DATE}\n",
    "]\n",
    "\n",
    "q.prepare_query(\n",
    "    'metrics.sql'\n",
    "    ,params=params\n",
    "    ,to_load_file='metrics'\n",
    "    ,load_from_to_load_file=None\n",
    ")\n",
    "\n",
    "metrics  = q.query_run_starburst()\n",
    "metrics.to_csv('metrics.csv')"
   ]
  }
 ],
 "metadata": {
  "kernelspec": {
   "display_name": "venv",
   "language": "python",
   "name": "python3"
  },
  "language_info": {
   "codemirror_mode": {
    "name": "ipython",
    "version": 3
   },
   "file_extension": ".py",
   "mimetype": "text/x-python",
   "name": "python",
   "nbconvert_exporter": "python",
   "pygments_lexer": "ipython3",
   "version": "3.12.6"
  }
 },
 "nbformat": 4,
 "nbformat_minor": 2
}
