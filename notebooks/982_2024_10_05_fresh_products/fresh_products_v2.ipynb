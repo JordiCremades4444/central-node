{
 "cells": [
  {
   "cell_type": "markdown",
   "metadata": {},
   "source": [
    "# Fresh Products"
   ]
  },
  {
   "cell_type": "code",
   "execution_count": 1,
   "metadata": {},
   "outputs": [],
   "source": [
    "import matplotlib.pyplot as plt\n",
    "import os\n",
    "import pandas as pd\n",
    "import seaborn as sns\n",
    "import sys\n",
    "\n",
    "# Move two levels up (to the project root) and append the `src` folder\n",
    "src_path = os.path.abspath(os.path.join(os.getcwd(), '..', '..'))\n",
    "\n",
    "# Append src to sys.path\n",
    "sys.path.append(src_path)\n",
    "\n",
    "from src import query_engines, dataframe_visualizer\n",
    "\n",
    "q = query_engines.QueryEngines()"
   ]
  },
  {
   "cell_type": "markdown",
   "metadata": {},
   "source": [
    "# Current Picture"
   ]
  },
  {
   "cell_type": "markdown",
   "metadata": {},
   "source": [
    "## Q1: Identify all kinds of segmentation\n",
    "\n",
    "The first part is to make sure that we can identify the 5 different segments. These are Non top Partners, Top Partners, MFCs, Specialties and all Groceries partners together\n"
   ]
  },
  {
   "cell_type": "code",
   "execution_count": 13,
   "metadata": {},
   "outputs": [
    {
     "name": "stdout",
     "output_type": "stream",
     "text": [
      "Open the following URL in browser for the external authentication:\n",
      "https://starburst.g8s-data-platform-prod.glovoint.com/oauth2/token/initiate/84d0964672c5501c80e7a2cb69ea46b2c0133fa9d749c61aa53090d47d7a5c38\n"
     ]
    },
    {
     "data": {
      "text/html": [
       "<div>\n",
       "<style scoped>\n",
       "    .dataframe tbody tr th:only-of-type {\n",
       "        vertical-align: middle;\n",
       "    }\n",
       "\n",
       "    .dataframe tbody tr th {\n",
       "        vertical-align: top;\n",
       "    }\n",
       "\n",
       "    .dataframe thead th {\n",
       "        text-align: right;\n",
       "    }\n",
       "</style>\n",
       "<table border=\"1\" class=\"dataframe\">\n",
       "  <thead>\n",
       "    <tr style=\"text-align: right;\">\n",
       "      <th></th>\n",
       "      <th>segment</th>\n",
       "      <th>n_store_id</th>\n",
       "      <th>n_store_address_id</th>\n",
       "    </tr>\n",
       "  </thead>\n",
       "  <tbody>\n",
       "    <tr>\n",
       "      <th>2</th>\n",
       "      <td>Specialties</td>\n",
       "      <td>8348</td>\n",
       "      <td>15346</td>\n",
       "    </tr>\n",
       "    <tr>\n",
       "      <th>3</th>\n",
       "      <td>Non Top Partner</td>\n",
       "      <td>2723</td>\n",
       "      <td>6043</td>\n",
       "    </tr>\n",
       "    <tr>\n",
       "      <th>0</th>\n",
       "      <td>Top Partner</td>\n",
       "      <td>2279</td>\n",
       "      <td>10823</td>\n",
       "    </tr>\n",
       "    <tr>\n",
       "      <th>1</th>\n",
       "      <td>MFC</td>\n",
       "      <td>104</td>\n",
       "      <td>256</td>\n",
       "    </tr>\n",
       "  </tbody>\n",
       "</table>\n",
       "</div>"
      ],
      "text/plain": [
       "           segment  n_store_id  n_store_address_id\n",
       "2      Specialties        8348               15346\n",
       "3  Non Top Partner        2723                6043\n",
       "0      Top Partner        2279               10823\n",
       "1              MFC         104                 256"
      ]
     },
     "execution_count": 13,
     "metadata": {},
     "output_type": "execute_result"
    }
   ],
   "source": [
    "q.prepare_query(\n",
    "    'possible_segmentations.sql'\n",
    "    ,params=None\n",
    "    ,to_load_file='possible_segmentations'\n",
    "    ,load_from_to_load_file=None\n",
    ")\n",
    "\n",
    "possible_segmentations  = q.query_run_starburst()\n",
    "possible_segmentations.sort_values(by='n_store_id', ascending=False)"
   ]
  },
  {
   "cell_type": "markdown",
   "metadata": {},
   "source": [
    "### Q1.1 How many of them are migrated"
   ]
  },
  {
   "cell_type": "code",
   "execution_count": 20,
   "metadata": {},
   "outputs": [
    {
     "data": {
      "text/html": [
       "<div>\n",
       "<style scoped>\n",
       "    .dataframe tbody tr th:only-of-type {\n",
       "        vertical-align: middle;\n",
       "    }\n",
       "\n",
       "    .dataframe tbody tr th {\n",
       "        vertical-align: top;\n",
       "    }\n",
       "\n",
       "    .dataframe thead th {\n",
       "        text-align: right;\n",
       "    }\n",
       "</style>\n",
       "<table border=\"1\" class=\"dataframe\">\n",
       "  <thead>\n",
       "    <tr style=\"text-align: right;\">\n",
       "      <th></th>\n",
       "      <th>segment</th>\n",
       "      <th>n_store_id</th>\n",
       "      <th>n_store_id_m</th>\n",
       "      <th>perc_m</th>\n",
       "    </tr>\n",
       "  </thead>\n",
       "  <tbody>\n",
       "    <tr>\n",
       "      <th>3</th>\n",
       "      <td>Specialties</td>\n",
       "      <td>8348</td>\n",
       "      <td>480</td>\n",
       "      <td>0.06</td>\n",
       "    </tr>\n",
       "    <tr>\n",
       "      <th>1</th>\n",
       "      <td>Non Top Partner</td>\n",
       "      <td>2723</td>\n",
       "      <td>729</td>\n",
       "      <td>0.27</td>\n",
       "    </tr>\n",
       "    <tr>\n",
       "      <th>2</th>\n",
       "      <td>Top Partner</td>\n",
       "      <td>2279</td>\n",
       "      <td>1802</td>\n",
       "      <td>0.79</td>\n",
       "    </tr>\n",
       "    <tr>\n",
       "      <th>0</th>\n",
       "      <td>MFC</td>\n",
       "      <td>104</td>\n",
       "      <td>102</td>\n",
       "      <td>0.98</td>\n",
       "    </tr>\n",
       "  </tbody>\n",
       "</table>\n",
       "</div>"
      ],
      "text/plain": [
       "           segment  n_store_id  n_store_id_m  perc_m\n",
       "3      Specialties        8348           480    0.06\n",
       "1  Non Top Partner        2723           729    0.27\n",
       "2      Top Partner        2279          1802    0.79\n",
       "0              MFC         104           102    0.98"
      ]
     },
     "execution_count": 20,
     "metadata": {},
     "output_type": "execute_result"
    }
   ],
   "source": [
    "q.prepare_query(\n",
    "    'possible_segmentations_m.sql'\n",
    "    ,params=None\n",
    "    ,to_load_file='possible_segmentations_m'\n",
    "    ,load_from_to_load_file='possible_segmentations_m'\n",
    ")\n",
    "\n",
    "possible_segmentations_m  = q.query_run_starburst()\n",
    "possible_segmentations_m.sort_values(by='n_store_id', ascending=False)"
   ]
  }
 ],
 "metadata": {
  "kernelspec": {
   "display_name": "venv",
   "language": "python",
   "name": "python3"
  },
  "language_info": {
   "codemirror_mode": {
    "name": "ipython",
    "version": 3
   },
   "file_extension": ".py",
   "mimetype": "text/x-python",
   "name": "python",
   "nbconvert_exporter": "python",
   "pygments_lexer": "ipython3",
   "version": "3.12.6"
  }
 },
 "nbformat": 4,
 "nbformat_minor": 2
}
