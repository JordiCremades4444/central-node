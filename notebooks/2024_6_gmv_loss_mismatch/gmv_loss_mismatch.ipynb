{
 "cells": [
  {
   "cell_type": "markdown",
   "metadata": {},
   "source": [
    "# GMV Loss mismatch"
   ]
  },
  {
   "cell_type": "markdown",
   "metadata": {},
   "source": [
    "## Executive summary"
   ]
  },
  {
   "cell_type": "markdown",
   "metadata": {},
   "source": [
    "## Config"
   ]
  },
  {
   "cell_type": "code",
   "execution_count": 99,
   "metadata": {},
   "outputs": [],
   "source": [
    "# import matplotlib.pyplot as  plt\n",
    "# import numpy as np\n",
    "import pandas as pd\n",
    "# import seaborn as sns\n",
    "import sys\n",
    "\n",
    "sys.path.append('c:\\\\Users\\\\Jordi Cremades\\\\Documents\\\\Repos\\\\central-node')\n",
    "\n",
    "from utils import dataset_meta_stats\n",
    "from utils import dataset_stats\n",
    "from utils import query_engines\n",
    "\n",
    "dms = dataset_meta_stats.DatasetMetaStats() \n",
    "ds = dataset_stats.DatasetStats()"
   ]
  },
  {
   "cell_type": "markdown",
   "metadata": {},
   "source": [
    "## [X] Task 1: My query"
   ]
  },
  {
   "cell_type": "code",
   "execution_count": 59,
   "metadata": {},
   "outputs": [
    {
     "data": {
      "text/html": [
       "<div>\n",
       "<style scoped>\n",
       "    .dataframe tbody tr th:only-of-type {\n",
       "        vertical-align: middle;\n",
       "    }\n",
       "\n",
       "    .dataframe tbody tr th {\n",
       "        vertical-align: top;\n",
       "    }\n",
       "\n",
       "    .dataframe thead th {\n",
       "        text-align: right;\n",
       "    }\n",
       "</style>\n",
       "<table border=\"1\" class=\"dataframe\">\n",
       "  <thead>\n",
       "    <tr style=\"text-align: right;\">\n",
       "      <th></th>\n",
       "      <th>country_code</th>\n",
       "      <th>week_num</th>\n",
       "      <th>order_id</th>\n",
       "      <th>refunds_to_customer</th>\n",
       "      <th>cancellations_to_pna</th>\n",
       "      <th>gmv_loss_numerator</th>\n",
       "      <th>gmv_loss_denominator</th>\n",
       "      <th>perc_gmv</th>\n",
       "    </tr>\n",
       "  </thead>\n",
       "  <tbody>\n",
       "    <tr>\n",
       "      <th>0</th>\n",
       "      <td>ES</td>\n",
       "      <td>22</td>\n",
       "      <td>100639317184</td>\n",
       "      <td>0.0</td>\n",
       "      <td>0.0</td>\n",
       "      <td>0.00</td>\n",
       "      <td>26.93</td>\n",
       "      <td>0.000000</td>\n",
       "    </tr>\n",
       "    <tr>\n",
       "      <th>1</th>\n",
       "      <td>ES</td>\n",
       "      <td>22</td>\n",
       "      <td>100626176781</td>\n",
       "      <td>0.0</td>\n",
       "      <td>0.0</td>\n",
       "      <td>-1.19</td>\n",
       "      <td>15.24</td>\n",
       "      <td>-0.078084</td>\n",
       "    </tr>\n",
       "    <tr>\n",
       "      <th>2</th>\n",
       "      <td>ES</td>\n",
       "      <td>22</td>\n",
       "      <td>100628765696</td>\n",
       "      <td>0.0</td>\n",
       "      <td>0.0</td>\n",
       "      <td>0.00</td>\n",
       "      <td>37.00</td>\n",
       "      <td>0.000000</td>\n",
       "    </tr>\n",
       "    <tr>\n",
       "      <th>3</th>\n",
       "      <td>ES</td>\n",
       "      <td>22</td>\n",
       "      <td>100628559550</td>\n",
       "      <td>0.0</td>\n",
       "      <td>0.0</td>\n",
       "      <td>-1.29</td>\n",
       "      <td>26.69</td>\n",
       "      <td>-0.048333</td>\n",
       "    </tr>\n",
       "    <tr>\n",
       "      <th>4</th>\n",
       "      <td>ES</td>\n",
       "      <td>22</td>\n",
       "      <td>100639832338</td>\n",
       "      <td>0.0</td>\n",
       "      <td>0.0</td>\n",
       "      <td>0.00</td>\n",
       "      <td>15.80</td>\n",
       "      <td>0.000000</td>\n",
       "    </tr>\n",
       "  </tbody>\n",
       "</table>\n",
       "</div>"
      ],
      "text/plain": [
       "  country_code  week_num      order_id  refunds_to_customer  \\\n",
       "0           ES        22  100639317184                  0.0   \n",
       "1           ES        22  100626176781                  0.0   \n",
       "2           ES        22  100628765696                  0.0   \n",
       "3           ES        22  100628559550                  0.0   \n",
       "4           ES        22  100639832338                  0.0   \n",
       "\n",
       "   cancellations_to_pna  gmv_loss_numerator  gmv_loss_denominator  perc_gmv  \n",
       "0                   0.0                0.00                 26.93  0.000000  \n",
       "1                   0.0               -1.19                 15.24 -0.078084  \n",
       "2                   0.0                0.00                 37.00  0.000000  \n",
       "3                   0.0               -1.29                 26.69 -0.048333  \n",
       "4                   0.0                0.00                 15.80  0.000000  "
      ]
     },
     "execution_count": 59,
     "metadata": {},
     "output_type": "execute_result"
    }
   ],
   "source": [
    "q = query_engines.QueryEngines(\n",
    "    query='gmv_loss.sql',\n",
    "    output_file='gmv_loss_query',\n",
    "    load_from_output_file='gmv_loss_query'\n",
    ")\n",
    "\n",
    "df1 = q.query_run_starbust()\n",
    "df1.head()"
   ]
  },
  {
   "cell_type": "markdown",
   "metadata": {},
   "source": [
    "## [X] Task 2: Looker query"
   ]
  },
  {
   "cell_type": "code",
   "execution_count": 77,
   "metadata": {},
   "outputs": [
    {
     "data": {
      "text/html": [
       "<div>\n",
       "<style scoped>\n",
       "    .dataframe tbody tr th:only-of-type {\n",
       "        vertical-align: middle;\n",
       "    }\n",
       "\n",
       "    .dataframe tbody tr th {\n",
       "        vertical-align: top;\n",
       "    }\n",
       "\n",
       "    .dataframe thead th {\n",
       "        text-align: right;\n",
       "    }\n",
       "</style>\n",
       "<table border=\"1\" class=\"dataframe\">\n",
       "  <thead>\n",
       "    <tr style=\"text-align: right;\">\n",
       "      <th></th>\n",
       "      <th>bought_products.order_id</th>\n",
       "      <th>bought_products.products_value_eur</th>\n",
       "      <th>bought_products.products_value_delivered_eur</th>\n",
       "      <th>placed_value</th>\n",
       "      <th>pna_canx</th>\n",
       "      <th>refunds_due_to_wm</th>\n",
       "      <th>product_pna.number_of_products_with_replacement</th>\n",
       "      <th>product_pna.number_of_products_with_pna_1</th>\n",
       "      <th>product_pna.percentage_of_products_with_pna</th>\n",
       "    </tr>\n",
       "  </thead>\n",
       "  <tbody>\n",
       "    <tr>\n",
       "      <th>0</th>\n",
       "      <td>100640666640</td>\n",
       "      <td>540.299996</td>\n",
       "      <td>382.689998</td>\n",
       "      <td>540.299996</td>\n",
       "      <td>0.0</td>\n",
       "      <td>0.0</td>\n",
       "      <td>0</td>\n",
       "      <td>11</td>\n",
       "      <td>0.2075</td>\n",
       "    </tr>\n",
       "    <tr>\n",
       "      <th>1</th>\n",
       "      <td>100631747449</td>\n",
       "      <td>500.189999</td>\n",
       "      <td>486.819998</td>\n",
       "      <td>500.189999</td>\n",
       "      <td>0.0</td>\n",
       "      <td>0.0</td>\n",
       "      <td>0</td>\n",
       "      <td>1</td>\n",
       "      <td>0.1000</td>\n",
       "    </tr>\n",
       "    <tr>\n",
       "      <th>2</th>\n",
       "      <td>100639627464</td>\n",
       "      <td>499.390000</td>\n",
       "      <td>486.390000</td>\n",
       "      <td>499.390000</td>\n",
       "      <td>0.0</td>\n",
       "      <td>0.0</td>\n",
       "      <td>1</td>\n",
       "      <td>1</td>\n",
       "      <td>0.0625</td>\n",
       "    </tr>\n",
       "    <tr>\n",
       "      <th>3</th>\n",
       "      <td>100625672469</td>\n",
       "      <td>491.889999</td>\n",
       "      <td>474.639999</td>\n",
       "      <td>491.889999</td>\n",
       "      <td>0.0</td>\n",
       "      <td>0.0</td>\n",
       "      <td>0</td>\n",
       "      <td>4</td>\n",
       "      <td>0.0714</td>\n",
       "    </tr>\n",
       "    <tr>\n",
       "      <th>4</th>\n",
       "      <td>100637383499</td>\n",
       "      <td>462.000000</td>\n",
       "      <td>462.000000</td>\n",
       "      <td>462.000000</td>\n",
       "      <td>0.0</td>\n",
       "      <td>0.0</td>\n",
       "      <td>0</td>\n",
       "      <td>0</td>\n",
       "      <td>0.0000</td>\n",
       "    </tr>\n",
       "  </tbody>\n",
       "</table>\n",
       "</div>"
      ],
      "text/plain": [
       "   bought_products.order_id  bought_products.products_value_eur  \\\n",
       "0              100640666640                          540.299996   \n",
       "1              100631747449                          500.189999   \n",
       "2              100639627464                          499.390000   \n",
       "3              100625672469                          491.889999   \n",
       "4              100637383499                          462.000000   \n",
       "\n",
       "   bought_products.products_value_delivered_eur  placed_value  pna_canx  \\\n",
       "0                                    382.689998    540.299996       0.0   \n",
       "1                                    486.819998    500.189999       0.0   \n",
       "2                                    486.390000    499.390000       0.0   \n",
       "3                                    474.639999    491.889999       0.0   \n",
       "4                                    462.000000    462.000000       0.0   \n",
       "\n",
       "   refunds_due_to_wm  product_pna.number_of_products_with_replacement  \\\n",
       "0                0.0                                                0   \n",
       "1                0.0                                                0   \n",
       "2                0.0                                                1   \n",
       "3                0.0                                                0   \n",
       "4                0.0                                                0   \n",
       "\n",
       "   product_pna.number_of_products_with_pna_1  \\\n",
       "0                                         11   \n",
       "1                                          1   \n",
       "2                                          1   \n",
       "3                                          4   \n",
       "4                                          0   \n",
       "\n",
       "   product_pna.percentage_of_products_with_pna  \n",
       "0                                       0.2075  \n",
       "1                                       0.1000  \n",
       "2                                       0.0625  \n",
       "3                                       0.0714  \n",
       "4                                       0.0000  "
      ]
     },
     "execution_count": 77,
     "metadata": {},
     "output_type": "execute_result"
    }
   ],
   "source": [
    "q = query_engines.QueryEngines(\n",
    "    query='gmv_loss_looker.sql',\n",
    "    output_file='gmv_loss_looker',\n",
    "    load_from_output_file='gmv_loss_looker'\n",
    ")\n",
    "\n",
    "df2 = q.query_run_starbust()\n",
    "df2.head()"
   ]
  },
  {
   "cell_type": "code",
   "execution_count": 78,
   "metadata": {},
   "outputs": [],
   "source": [
    "df_final = pd.merge(df1,df2, left_on='order_id', right_on='bought_products.order_id')"
   ]
  },
  {
   "cell_type": "code",
   "execution_count": 106,
   "metadata": {},
   "outputs": [
    {
     "data": {
      "text/html": [
       "<div>\n",
       "<style scoped>\n",
       "    .dataframe tbody tr th:only-of-type {\n",
       "        vertical-align: middle;\n",
       "    }\n",
       "\n",
       "    .dataframe tbody tr th {\n",
       "        vertical-align: top;\n",
       "    }\n",
       "\n",
       "    .dataframe thead th {\n",
       "        text-align: right;\n",
       "    }\n",
       "</style>\n",
       "<table border=\"1\" class=\"dataframe\">\n",
       "  <thead>\n",
       "    <tr style=\"text-align: right;\">\n",
       "      <th></th>\n",
       "      <th>order_id</th>\n",
       "      <th>refunds_to_customer</th>\n",
       "      <th>cancellations_to_pna</th>\n",
       "      <th>gmv_loss_numerator</th>\n",
       "      <th>gmv_loss_denominator</th>\n",
       "      <th>perc_gmv</th>\n",
       "      <th>bought_products.products_value_eur</th>\n",
       "      <th>pna_canx</th>\n",
       "      <th>refunds_due_to_wm</th>\n",
       "    </tr>\n",
       "  </thead>\n",
       "  <tbody>\n",
       "    <tr>\n",
       "      <th>0</th>\n",
       "      <td>100639317184</td>\n",
       "      <td>0.0</td>\n",
       "      <td>0.0</td>\n",
       "      <td>0.00</td>\n",
       "      <td>26.93</td>\n",
       "      <td>0.000000</td>\n",
       "      <td>26.930000</td>\n",
       "      <td>0.0</td>\n",
       "      <td>0.0</td>\n",
       "    </tr>\n",
       "    <tr>\n",
       "      <th>1</th>\n",
       "      <td>100626176781</td>\n",
       "      <td>0.0</td>\n",
       "      <td>0.0</td>\n",
       "      <td>-1.19</td>\n",
       "      <td>15.24</td>\n",
       "      <td>-0.078084</td>\n",
       "      <td>15.239999</td>\n",
       "      <td>0.0</td>\n",
       "      <td>0.0</td>\n",
       "    </tr>\n",
       "    <tr>\n",
       "      <th>2</th>\n",
       "      <td>100628765696</td>\n",
       "      <td>0.0</td>\n",
       "      <td>0.0</td>\n",
       "      <td>0.00</td>\n",
       "      <td>37.00</td>\n",
       "      <td>0.000000</td>\n",
       "      <td>37.000000</td>\n",
       "      <td>0.0</td>\n",
       "      <td>0.0</td>\n",
       "    </tr>\n",
       "    <tr>\n",
       "      <th>3</th>\n",
       "      <td>100628559550</td>\n",
       "      <td>0.0</td>\n",
       "      <td>0.0</td>\n",
       "      <td>-1.29</td>\n",
       "      <td>26.69</td>\n",
       "      <td>-0.048333</td>\n",
       "      <td>26.689999</td>\n",
       "      <td>0.0</td>\n",
       "      <td>0.0</td>\n",
       "    </tr>\n",
       "    <tr>\n",
       "      <th>4</th>\n",
       "      <td>100639832338</td>\n",
       "      <td>0.0</td>\n",
       "      <td>0.0</td>\n",
       "      <td>0.00</td>\n",
       "      <td>15.80</td>\n",
       "      <td>0.000000</td>\n",
       "      <td>15.800000</td>\n",
       "      <td>0.0</td>\n",
       "      <td>0.0</td>\n",
       "    </tr>\n",
       "    <tr>\n",
       "      <th>...</th>\n",
       "      <td>...</td>\n",
       "      <td>...</td>\n",
       "      <td>...</td>\n",
       "      <td>...</td>\n",
       "      <td>...</td>\n",
       "      <td>...</td>\n",
       "      <td>...</td>\n",
       "      <td>...</td>\n",
       "      <td>...</td>\n",
       "    </tr>\n",
       "    <tr>\n",
       "      <th>152131</th>\n",
       "      <td>100635319834</td>\n",
       "      <td>0.0</td>\n",
       "      <td>0.0</td>\n",
       "      <td>0.00</td>\n",
       "      <td>23.47</td>\n",
       "      <td>0.000000</td>\n",
       "      <td>23.470000</td>\n",
       "      <td>0.0</td>\n",
       "      <td>0.0</td>\n",
       "    </tr>\n",
       "    <tr>\n",
       "      <th>152132</th>\n",
       "      <td>100627185273</td>\n",
       "      <td>0.0</td>\n",
       "      <td>0.0</td>\n",
       "      <td>0.00</td>\n",
       "      <td>19.27</td>\n",
       "      <td>0.000000</td>\n",
       "      <td>19.270000</td>\n",
       "      <td>0.0</td>\n",
       "      <td>0.0</td>\n",
       "    </tr>\n",
       "    <tr>\n",
       "      <th>152133</th>\n",
       "      <td>100626390230</td>\n",
       "      <td>0.0</td>\n",
       "      <td>0.0</td>\n",
       "      <td>0.00</td>\n",
       "      <td>65.87</td>\n",
       "      <td>0.000000</td>\n",
       "      <td>65.869998</td>\n",
       "      <td>0.0</td>\n",
       "      <td>0.0</td>\n",
       "    </tr>\n",
       "    <tr>\n",
       "      <th>152134</th>\n",
       "      <td>100626875623</td>\n",
       "      <td>0.0</td>\n",
       "      <td>0.0</td>\n",
       "      <td>0.00</td>\n",
       "      <td>48.92</td>\n",
       "      <td>0.000000</td>\n",
       "      <td>48.919998</td>\n",
       "      <td>0.0</td>\n",
       "      <td>0.0</td>\n",
       "    </tr>\n",
       "    <tr>\n",
       "      <th>152135</th>\n",
       "      <td>100627036975</td>\n",
       "      <td>0.0</td>\n",
       "      <td>0.0</td>\n",
       "      <td>0.00</td>\n",
       "      <td>20.60</td>\n",
       "      <td>0.000000</td>\n",
       "      <td>20.600000</td>\n",
       "      <td>0.0</td>\n",
       "      <td>0.0</td>\n",
       "    </tr>\n",
       "  </tbody>\n",
       "</table>\n",
       "<p>152136 rows × 9 columns</p>\n",
       "</div>"
      ],
      "text/plain": [
       "            order_id  refunds_to_customer  cancellations_to_pna  \\\n",
       "0       100639317184                  0.0                   0.0   \n",
       "1       100626176781                  0.0                   0.0   \n",
       "2       100628765696                  0.0                   0.0   \n",
       "3       100628559550                  0.0                   0.0   \n",
       "4       100639832338                  0.0                   0.0   \n",
       "...              ...                  ...                   ...   \n",
       "152131  100635319834                  0.0                   0.0   \n",
       "152132  100627185273                  0.0                   0.0   \n",
       "152133  100626390230                  0.0                   0.0   \n",
       "152134  100626875623                  0.0                   0.0   \n",
       "152135  100627036975                  0.0                   0.0   \n",
       "\n",
       "        gmv_loss_numerator  gmv_loss_denominator  perc_gmv  \\\n",
       "0                     0.00                 26.93  0.000000   \n",
       "1                    -1.19                 15.24 -0.078084   \n",
       "2                     0.00                 37.00  0.000000   \n",
       "3                    -1.29                 26.69 -0.048333   \n",
       "4                     0.00                 15.80  0.000000   \n",
       "...                    ...                   ...       ...   \n",
       "152131                0.00                 23.47  0.000000   \n",
       "152132                0.00                 19.27  0.000000   \n",
       "152133                0.00                 65.87  0.000000   \n",
       "152134                0.00                 48.92  0.000000   \n",
       "152135                0.00                 20.60  0.000000   \n",
       "\n",
       "        bought_products.products_value_eur  pna_canx  refunds_due_to_wm  \n",
       "0                                26.930000       0.0                0.0  \n",
       "1                                15.239999       0.0                0.0  \n",
       "2                                37.000000       0.0                0.0  \n",
       "3                                26.689999       0.0                0.0  \n",
       "4                                15.800000       0.0                0.0  \n",
       "...                                    ...       ...                ...  \n",
       "152131                           23.470000       0.0                0.0  \n",
       "152132                           19.270000       0.0                0.0  \n",
       "152133                           65.869998       0.0                0.0  \n",
       "152134                           48.919998       0.0                0.0  \n",
       "152135                           20.600000       0.0                0.0  \n",
       "\n",
       "[152136 rows x 9 columns]"
      ]
     },
     "execution_count": 106,
     "metadata": {},
     "output_type": "execute_result"
    }
   ],
   "source": [
    "columns_to_delete = ['country_code'\n",
    "                     ,'week_num'\n",
    "                     ,'bought_products.order_id'\n",
    "                     ,'bought_products.products_value_delivered_eur'\n",
    "                     ,'placed_value'\n",
    "                     ,'product_pna.number_of_products_with_replacement'\n",
    "                     ,'product_pna.number_of_products_with_pna_1'\n",
    "                     ,'product_pna.percentage_of_products_with_pna']\n",
    "\n",
    "tmp = df_final.drop(columns=columns_to_delete)\n",
    "\n",
    "tmp"
   ]
  },
  {
   "cell_type": "code",
   "execution_count": 102,
   "metadata": {},
   "outputs": [
    {
     "name": "stdout",
     "output_type": "stream",
     "text": [
      "Number of items in order_id in d1: 164337\n",
      "Number of items in bought_products.order_id in d2: 152144\n",
      "----------------------------------------\n",
      "Shared items in both d1 and d2: 152136\n",
      "Items in order_id only in d1: 12201\n",
      "Items in bought_products.order_id only in d2: 8\n",
      "----------------------------------------\n",
      "% in d1 also in d2: 0.9257562204494423\n",
      "% in d2 also in d1: 0.9999474182353559\n"
     ]
    }
   ],
   "source": [
    "d1, d2 = dms.compare_colums(df1,df2,'order_id','bought_products.order_id')"
   ]
  },
  {
   "cell_type": "code",
   "execution_count": 104,
   "metadata": {},
   "outputs": [
    {
     "data": {
      "text/html": [
       "<div>\n",
       "<style scoped>\n",
       "    .dataframe tbody tr th:only-of-type {\n",
       "        vertical-align: middle;\n",
       "    }\n",
       "\n",
       "    .dataframe tbody tr th {\n",
       "        vertical-align: top;\n",
       "    }\n",
       "\n",
       "    .dataframe thead th {\n",
       "        text-align: right;\n",
       "    }\n",
       "</style>\n",
       "<table border=\"1\" class=\"dataframe\">\n",
       "  <thead>\n",
       "    <tr style=\"text-align: right;\">\n",
       "      <th></th>\n",
       "      <th>week_num</th>\n",
       "      <th>order_id</th>\n",
       "      <th>refunds_to_customer</th>\n",
       "      <th>cancellations_to_pna</th>\n",
       "      <th>gmv_loss_numerator</th>\n",
       "      <th>gmv_loss_denominator</th>\n",
       "      <th>perc_gmv</th>\n",
       "    </tr>\n",
       "  </thead>\n",
       "  <tbody>\n",
       "    <tr>\n",
       "      <th>count</th>\n",
       "      <td>12201.0</td>\n",
       "      <td>1.220100e+04</td>\n",
       "      <td>12201.0</td>\n",
       "      <td>12201.0</td>\n",
       "      <td>12201.0</td>\n",
       "      <td>12201.0</td>\n",
       "      <td>0.0</td>\n",
       "    </tr>\n",
       "    <tr>\n",
       "      <th>mean</th>\n",
       "      <td>22.0</td>\n",
       "      <td>1.006323e+11</td>\n",
       "      <td>0.0</td>\n",
       "      <td>0.0</td>\n",
       "      <td>0.0</td>\n",
       "      <td>0.0</td>\n",
       "      <td>NaN</td>\n",
       "    </tr>\n",
       "    <tr>\n",
       "      <th>std</th>\n",
       "      <td>0.0</td>\n",
       "      <td>4.241254e+06</td>\n",
       "      <td>0.0</td>\n",
       "      <td>0.0</td>\n",
       "      <td>0.0</td>\n",
       "      <td>0.0</td>\n",
       "      <td>NaN</td>\n",
       "    </tr>\n",
       "    <tr>\n",
       "      <th>min</th>\n",
       "      <td>22.0</td>\n",
       "      <td>1.006257e+11</td>\n",
       "      <td>0.0</td>\n",
       "      <td>0.0</td>\n",
       "      <td>0.0</td>\n",
       "      <td>0.0</td>\n",
       "      <td>NaN</td>\n",
       "    </tr>\n",
       "    <tr>\n",
       "      <th>25%</th>\n",
       "      <td>22.0</td>\n",
       "      <td>1.006284e+11</td>\n",
       "      <td>0.0</td>\n",
       "      <td>0.0</td>\n",
       "      <td>0.0</td>\n",
       "      <td>0.0</td>\n",
       "      <td>NaN</td>\n",
       "    </tr>\n",
       "    <tr>\n",
       "      <th>50%</th>\n",
       "      <td>22.0</td>\n",
       "      <td>1.006322e+11</td>\n",
       "      <td>0.0</td>\n",
       "      <td>0.0</td>\n",
       "      <td>0.0</td>\n",
       "      <td>0.0</td>\n",
       "      <td>NaN</td>\n",
       "    </tr>\n",
       "    <tr>\n",
       "      <th>75%</th>\n",
       "      <td>22.0</td>\n",
       "      <td>1.006364e+11</td>\n",
       "      <td>0.0</td>\n",
       "      <td>0.0</td>\n",
       "      <td>0.0</td>\n",
       "      <td>0.0</td>\n",
       "      <td>NaN</td>\n",
       "    </tr>\n",
       "    <tr>\n",
       "      <th>max</th>\n",
       "      <td>22.0</td>\n",
       "      <td>1.006414e+11</td>\n",
       "      <td>0.0</td>\n",
       "      <td>0.0</td>\n",
       "      <td>0.0</td>\n",
       "      <td>0.0</td>\n",
       "      <td>NaN</td>\n",
       "    </tr>\n",
       "  </tbody>\n",
       "</table>\n",
       "</div>"
      ],
      "text/plain": [
       "       week_num      order_id  refunds_to_customer  cancellations_to_pna  \\\n",
       "count   12201.0  1.220100e+04              12201.0               12201.0   \n",
       "mean       22.0  1.006323e+11                  0.0                   0.0   \n",
       "std         0.0  4.241254e+06                  0.0                   0.0   \n",
       "min        22.0  1.006257e+11                  0.0                   0.0   \n",
       "25%        22.0  1.006284e+11                  0.0                   0.0   \n",
       "50%        22.0  1.006322e+11                  0.0                   0.0   \n",
       "75%        22.0  1.006364e+11                  0.0                   0.0   \n",
       "max        22.0  1.006414e+11                  0.0                   0.0   \n",
       "\n",
       "       gmv_loss_numerator  gmv_loss_denominator  perc_gmv  \n",
       "count             12201.0               12201.0       0.0  \n",
       "mean                  0.0                   0.0       NaN  \n",
       "std                   0.0                   0.0       NaN  \n",
       "min                   0.0                   0.0       NaN  \n",
       "25%                   0.0                   0.0       NaN  \n",
       "50%                   0.0                   0.0       NaN  \n",
       "75%                   0.0                   0.0       NaN  \n",
       "max                   0.0                   0.0       NaN  "
      ]
     },
     "execution_count": 104,
     "metadata": {},
     "output_type": "execute_result"
    }
   ],
   "source": [
    "d1.describe()"
   ]
  },
  {
   "cell_type": "code",
   "execution_count": 105,
   "metadata": {},
   "outputs": [
    {
     "name": "stdout",
     "output_type": "stream",
     "text": [
      "Number of items in order_id in d1: 694\n",
      "Number of items in bought_products.order_id in d2: 694\n",
      "----------------------------------------\n",
      "Shared items in both d1 and d2: 694\n",
      "Items in order_id only in d1: 0\n",
      "Items in bought_products.order_id only in d2: 0\n",
      "----------------------------------------\n",
      "% in d1 also in d2: 1.0\n",
      "% in d2 also in d1: 1.0\n"
     ]
    }
   ],
   "source": [
    "tmp1 = df1[df1['cancellations_to_pna']>0]\n",
    "tmp2 = df2[df2['pna_canx']>0]\n",
    "\n",
    "d1, d2 = dms.compare_colums(tmp1,tmp2,'order_id','bought_products.order_id')"
   ]
  },
  {
   "cell_type": "code",
   "execution_count": 108,
   "metadata": {},
   "outputs": [
    {
     "data": {
      "text/plain": [
       "4219420.190000001"
      ]
     },
     "execution_count": 108,
     "metadata": {},
     "output_type": "execute_result"
    }
   ],
   "source": [
    "df1['gmv_loss_denominator'].sum()"
   ]
  },
  {
   "cell_type": "code",
   "execution_count": 110,
   "metadata": {},
   "outputs": [
    {
     "data": {
      "text/plain": [
       "4219896.245179"
      ]
     },
     "execution_count": 110,
     "metadata": {},
     "output_type": "execute_result"
    }
   ],
   "source": [
    "df2['bought_products.products_value_eur'].sum()"
   ]
  },
  {
   "cell_type": "code",
   "execution_count": 113,
   "metadata": {},
   "outputs": [
    {
     "data": {
      "text/plain": [
       "12113.78"
      ]
     },
     "execution_count": 113,
     "metadata": {},
     "output_type": "execute_result"
    }
   ],
   "source": [
    "df1['cancellations_to_pna'].sum()"
   ]
  },
  {
   "cell_type": "code",
   "execution_count": 115,
   "metadata": {},
   "outputs": [
    {
     "data": {
      "text/plain": [
       "12113.779945000002"
      ]
     },
     "execution_count": 115,
     "metadata": {},
     "output_type": "execute_result"
    }
   ],
   "source": [
    "df2['pna_canx'].sum()"
   ]
  },
  {
   "cell_type": "code",
   "execution_count": 116,
   "metadata": {},
   "outputs": [
    {
     "data": {
      "text/plain": [
       "27783.78"
      ]
     },
     "execution_count": 116,
     "metadata": {},
     "output_type": "execute_result"
    }
   ],
   "source": [
    "df1['refunds_to_customer'].sum()"
   ]
  },
  {
   "cell_type": "code",
   "execution_count": 117,
   "metadata": {},
   "outputs": [
    {
     "data": {
      "text/plain": [
       "27538.599952000008"
      ]
     },
     "execution_count": 117,
     "metadata": {},
     "output_type": "execute_result"
    }
   ],
   "source": [
    "df2['refunds_due_to_wm'].sum()"
   ]
  },
  {
   "cell_type": "code",
   "execution_count": 111,
   "metadata": {},
   "outputs": [
    {
     "data": {
      "text/plain": [
       "Index(['country_code', 'week_num', 'order_id', 'refunds_to_customer',\n",
       "       'cancellations_to_pna', 'gmv_loss_numerator', 'gmv_loss_denominator',\n",
       "       'perc_gmv'],\n",
       "      dtype='object')"
      ]
     },
     "execution_count": 111,
     "metadata": {},
     "output_type": "execute_result"
    }
   ],
   "source": [
    "df1.columns"
   ]
  },
  {
   "cell_type": "code",
   "execution_count": 112,
   "metadata": {},
   "outputs": [
    {
     "data": {
      "text/plain": [
       "Index(['bought_products.order_id', 'bought_products.products_value_eur',\n",
       "       'bought_products.products_value_delivered_eur', 'placed_value',\n",
       "       'pna_canx', 'refunds_due_to_wm',\n",
       "       'product_pna.number_of_products_with_replacement',\n",
       "       'product_pna.number_of_products_with_pna_1',\n",
       "       'product_pna.percentage_of_products_with_pna'],\n",
       "      dtype='object')"
      ]
     },
     "execution_count": 112,
     "metadata": {},
     "output_type": "execute_result"
    }
   ],
   "source": [
    "df2.columns"
   ]
  },
  {
   "cell_type": "code",
   "execution_count": 119,
   "metadata": {},
   "outputs": [
    {
     "data": {
      "text/plain": [
       "27523.999952"
      ]
     },
     "execution_count": 119,
     "metadata": {},
     "output_type": "execute_result"
    }
   ],
   "source": [
    "tmp['refunds_due_to_wm'].sum()"
   ]
  },
  {
   "cell_type": "code",
   "execution_count": 120,
   "metadata": {},
   "outputs": [
    {
     "data": {
      "text/plain": [
       "27783.779999999995"
      ]
     },
     "execution_count": 120,
     "metadata": {},
     "output_type": "execute_result"
    }
   ],
   "source": [
    "tmp['refunds_to_customer'].sum()"
   ]
  },
  {
   "cell_type": "code",
   "execution_count": 123,
   "metadata": {},
   "outputs": [
    {
     "data": {
      "text/plain": [
       "-274345.1"
      ]
     },
     "execution_count": 123,
     "metadata": {},
     "output_type": "execute_result"
    }
   ],
   "source": [
    "tmp['gmv_loss_numerator'].sum()"
   ]
  },
  {
   "cell_type": "code",
   "execution_count": 124,
   "metadata": {},
   "outputs": [
    {
     "data": {
      "text/plain": [
       "Index(['order_id', 'refunds_to_customer', 'cancellations_to_pna',\n",
       "       'gmv_loss_numerator', 'gmv_loss_denominator', 'perc_gmv',\n",
       "       'bought_products.products_value_eur', 'pna_canx', 'refunds_due_to_wm'],\n",
       "      dtype='object')"
      ]
     },
     "execution_count": 124,
     "metadata": {},
     "output_type": "execute_result"
    }
   ],
   "source": [
    "tmp.columns"
   ]
  },
  {
   "cell_type": "code",
   "execution_count": 128,
   "metadata": {},
   "outputs": [
    {
     "data": {
      "text/html": [
       "<div>\n",
       "<style scoped>\n",
       "    .dataframe tbody tr th:only-of-type {\n",
       "        vertical-align: middle;\n",
       "    }\n",
       "\n",
       "    .dataframe tbody tr th {\n",
       "        vertical-align: top;\n",
       "    }\n",
       "\n",
       "    .dataframe thead th {\n",
       "        text-align: right;\n",
       "    }\n",
       "</style>\n",
       "<table border=\"1\" class=\"dataframe\">\n",
       "  <thead>\n",
       "    <tr style=\"text-align: right;\">\n",
       "      <th></th>\n",
       "      <th>bought_products.order_id</th>\n",
       "      <th>bought_products.products_value_eur</th>\n",
       "      <th>bought_products.products_value_delivered_eur</th>\n",
       "      <th>placed_value</th>\n",
       "      <th>pna_canx</th>\n",
       "      <th>refunds_due_to_wm</th>\n",
       "      <th>product_pna.number_of_products_with_replacement</th>\n",
       "      <th>product_pna.number_of_products_with_pna_1</th>\n",
       "      <th>product_pna.percentage_of_products_with_pna</th>\n",
       "    </tr>\n",
       "  </thead>\n",
       "  <tbody>\n",
       "    <tr>\n",
       "      <th>0</th>\n",
       "      <td>100640666640</td>\n",
       "      <td>540.299996</td>\n",
       "      <td>382.689998</td>\n",
       "      <td>540.299996</td>\n",
       "      <td>0.0</td>\n",
       "      <td>0.0</td>\n",
       "      <td>0</td>\n",
       "      <td>11</td>\n",
       "      <td>0.2075</td>\n",
       "    </tr>\n",
       "    <tr>\n",
       "      <th>1</th>\n",
       "      <td>100631747449</td>\n",
       "      <td>500.189999</td>\n",
       "      <td>486.819998</td>\n",
       "      <td>500.189999</td>\n",
       "      <td>0.0</td>\n",
       "      <td>0.0</td>\n",
       "      <td>0</td>\n",
       "      <td>1</td>\n",
       "      <td>0.1000</td>\n",
       "    </tr>\n",
       "    <tr>\n",
       "      <th>2</th>\n",
       "      <td>100639627464</td>\n",
       "      <td>499.390000</td>\n",
       "      <td>486.390000</td>\n",
       "      <td>499.390000</td>\n",
       "      <td>0.0</td>\n",
       "      <td>0.0</td>\n",
       "      <td>1</td>\n",
       "      <td>1</td>\n",
       "      <td>0.0625</td>\n",
       "    </tr>\n",
       "    <tr>\n",
       "      <th>3</th>\n",
       "      <td>100625672469</td>\n",
       "      <td>491.889999</td>\n",
       "      <td>474.639999</td>\n",
       "      <td>491.889999</td>\n",
       "      <td>0.0</td>\n",
       "      <td>0.0</td>\n",
       "      <td>0</td>\n",
       "      <td>4</td>\n",
       "      <td>0.0714</td>\n",
       "    </tr>\n",
       "    <tr>\n",
       "      <th>4</th>\n",
       "      <td>100637383499</td>\n",
       "      <td>462.000000</td>\n",
       "      <td>462.000000</td>\n",
       "      <td>462.000000</td>\n",
       "      <td>0.0</td>\n",
       "      <td>0.0</td>\n",
       "      <td>0</td>\n",
       "      <td>0</td>\n",
       "      <td>0.0000</td>\n",
       "    </tr>\n",
       "    <tr>\n",
       "      <th>...</th>\n",
       "      <td>...</td>\n",
       "      <td>...</td>\n",
       "      <td>...</td>\n",
       "      <td>...</td>\n",
       "      <td>...</td>\n",
       "      <td>...</td>\n",
       "      <td>...</td>\n",
       "      <td>...</td>\n",
       "      <td>...</td>\n",
       "    </tr>\n",
       "    <tr>\n",
       "      <th>152139</th>\n",
       "      <td>100638910484</td>\n",
       "      <td>0.000000</td>\n",
       "      <td>0.000000</td>\n",
       "      <td>0.000000</td>\n",
       "      <td>0.0</td>\n",
       "      <td>0.0</td>\n",
       "      <td>0</td>\n",
       "      <td>1</td>\n",
       "      <td>0.0286</td>\n",
       "    </tr>\n",
       "    <tr>\n",
       "      <th>152140</th>\n",
       "      <td>100639016190</td>\n",
       "      <td>0.000000</td>\n",
       "      <td>0.000000</td>\n",
       "      <td>0.000000</td>\n",
       "      <td>0.0</td>\n",
       "      <td>0.0</td>\n",
       "      <td>0</td>\n",
       "      <td>0</td>\n",
       "      <td>0.0000</td>\n",
       "    </tr>\n",
       "    <tr>\n",
       "      <th>152141</th>\n",
       "      <td>100625833622</td>\n",
       "      <td>0.000000</td>\n",
       "      <td>0.000000</td>\n",
       "      <td>0.000000</td>\n",
       "      <td>0.0</td>\n",
       "      <td>0.0</td>\n",
       "      <td>0</td>\n",
       "      <td>0</td>\n",
       "      <td>0.0000</td>\n",
       "    </tr>\n",
       "    <tr>\n",
       "      <th>152142</th>\n",
       "      <td>100637675086</td>\n",
       "      <td>0.000000</td>\n",
       "      <td>0.000000</td>\n",
       "      <td>0.000000</td>\n",
       "      <td>0.0</td>\n",
       "      <td>0.0</td>\n",
       "      <td>0</td>\n",
       "      <td>0</td>\n",
       "      <td>0.0000</td>\n",
       "    </tr>\n",
       "    <tr>\n",
       "      <th>152143</th>\n",
       "      <td>100635163858</td>\n",
       "      <td>0.000000</td>\n",
       "      <td>0.000000</td>\n",
       "      <td>0.000000</td>\n",
       "      <td>0.0</td>\n",
       "      <td>0.0</td>\n",
       "      <td>0</td>\n",
       "      <td>1</td>\n",
       "      <td>0.1250</td>\n",
       "    </tr>\n",
       "  </tbody>\n",
       "</table>\n",
       "<p>152144 rows × 9 columns</p>\n",
       "</div>"
      ],
      "text/plain": [
       "        bought_products.order_id  bought_products.products_value_eur  \\\n",
       "0                   100640666640                          540.299996   \n",
       "1                   100631747449                          500.189999   \n",
       "2                   100639627464                          499.390000   \n",
       "3                   100625672469                          491.889999   \n",
       "4                   100637383499                          462.000000   \n",
       "...                          ...                                 ...   \n",
       "152139              100638910484                            0.000000   \n",
       "152140              100639016190                            0.000000   \n",
       "152141              100625833622                            0.000000   \n",
       "152142              100637675086                            0.000000   \n",
       "152143              100635163858                            0.000000   \n",
       "\n",
       "        bought_products.products_value_delivered_eur  placed_value  pna_canx  \\\n",
       "0                                         382.689998    540.299996       0.0   \n",
       "1                                         486.819998    500.189999       0.0   \n",
       "2                                         486.390000    499.390000       0.0   \n",
       "3                                         474.639999    491.889999       0.0   \n",
       "4                                         462.000000    462.000000       0.0   \n",
       "...                                              ...           ...       ...   \n",
       "152139                                      0.000000      0.000000       0.0   \n",
       "152140                                      0.000000      0.000000       0.0   \n",
       "152141                                      0.000000      0.000000       0.0   \n",
       "152142                                      0.000000      0.000000       0.0   \n",
       "152143                                      0.000000      0.000000       0.0   \n",
       "\n",
       "        refunds_due_to_wm  product_pna.number_of_products_with_replacement  \\\n",
       "0                     0.0                                                0   \n",
       "1                     0.0                                                0   \n",
       "2                     0.0                                                1   \n",
       "3                     0.0                                                0   \n",
       "4                     0.0                                                0   \n",
       "...                   ...                                              ...   \n",
       "152139                0.0                                                0   \n",
       "152140                0.0                                                0   \n",
       "152141                0.0                                                0   \n",
       "152142                0.0                                                0   \n",
       "152143                0.0                                                0   \n",
       "\n",
       "        product_pna.number_of_products_with_pna_1  \\\n",
       "0                                              11   \n",
       "1                                               1   \n",
       "2                                               1   \n",
       "3                                               4   \n",
       "4                                               0   \n",
       "...                                           ...   \n",
       "152139                                          1   \n",
       "152140                                          0   \n",
       "152141                                          0   \n",
       "152142                                          0   \n",
       "152143                                          1   \n",
       "\n",
       "        product_pna.percentage_of_products_with_pna  \n",
       "0                                            0.2075  \n",
       "1                                            0.1000  \n",
       "2                                            0.0625  \n",
       "3                                            0.0714  \n",
       "4                                            0.0000  \n",
       "...                                             ...  \n",
       "152139                                       0.0286  \n",
       "152140                                       0.0000  \n",
       "152141                                       0.0000  \n",
       "152142                                       0.0000  \n",
       "152143                                       0.1250  \n",
       "\n",
       "[152144 rows x 9 columns]"
      ]
     },
     "execution_count": 128,
     "metadata": {},
     "output_type": "execute_result"
    }
   ],
   "source": [
    "df2"
   ]
  },
  {
   "cell_type": "code",
   "execution_count": 140,
   "metadata": {},
   "outputs": [],
   "source": [
    "df2['numerator'] =  df2['bought_products.products_value_delivered_eur'] -df2['bought_products.products_value_eur']  - abs(df2['pna_canx']) - abs(df2['refunds_due_to_wm'])"
   ]
  },
  {
   "cell_type": "code",
   "execution_count": 141,
   "metadata": {},
   "outputs": [
    {
     "data": {
      "text/plain": [
       "-405680.70844200003"
      ]
     },
     "execution_count": 141,
     "metadata": {},
     "output_type": "execute_result"
    }
   ],
   "source": [
    "df2['numerator'].sum()"
   ]
  },
  {
   "cell_type": "code",
   "execution_count": 134,
   "metadata": {},
   "outputs": [
    {
     "data": {
      "text/plain": [
       "-274345.10000000003"
      ]
     },
     "execution_count": 134,
     "metadata": {},
     "output_type": "execute_result"
    }
   ],
   "source": [
    "df1['gmv_loss_numerator'].sum()"
   ]
  },
  {
   "cell_type": "code",
   "execution_count": 135,
   "metadata": {},
   "outputs": [
    {
     "data": {
      "text/html": [
       "<div>\n",
       "<style scoped>\n",
       "    .dataframe tbody tr th:only-of-type {\n",
       "        vertical-align: middle;\n",
       "    }\n",
       "\n",
       "    .dataframe tbody tr th {\n",
       "        vertical-align: top;\n",
       "    }\n",
       "\n",
       "    .dataframe thead th {\n",
       "        text-align: right;\n",
       "    }\n",
       "</style>\n",
       "<table border=\"1\" class=\"dataframe\">\n",
       "  <thead>\n",
       "    <tr style=\"text-align: right;\">\n",
       "      <th></th>\n",
       "      <th>country_code</th>\n",
       "      <th>week_num</th>\n",
       "      <th>order_id</th>\n",
       "      <th>refunds_to_customer</th>\n",
       "      <th>cancellations_to_pna</th>\n",
       "      <th>gmv_loss_numerator</th>\n",
       "      <th>gmv_loss_denominator</th>\n",
       "      <th>perc_gmv</th>\n",
       "    </tr>\n",
       "  </thead>\n",
       "  <tbody>\n",
       "    <tr>\n",
       "      <th>0</th>\n",
       "      <td>ES</td>\n",
       "      <td>22</td>\n",
       "      <td>100639317184</td>\n",
       "      <td>0.0</td>\n",
       "      <td>0.0</td>\n",
       "      <td>0.00</td>\n",
       "      <td>26.93</td>\n",
       "      <td>0.000000</td>\n",
       "    </tr>\n",
       "    <tr>\n",
       "      <th>1</th>\n",
       "      <td>ES</td>\n",
       "      <td>22</td>\n",
       "      <td>100626176781</td>\n",
       "      <td>0.0</td>\n",
       "      <td>0.0</td>\n",
       "      <td>-1.19</td>\n",
       "      <td>15.24</td>\n",
       "      <td>-0.078084</td>\n",
       "    </tr>\n",
       "    <tr>\n",
       "      <th>2</th>\n",
       "      <td>ES</td>\n",
       "      <td>22</td>\n",
       "      <td>100628765696</td>\n",
       "      <td>0.0</td>\n",
       "      <td>0.0</td>\n",
       "      <td>0.00</td>\n",
       "      <td>37.00</td>\n",
       "      <td>0.000000</td>\n",
       "    </tr>\n",
       "    <tr>\n",
       "      <th>3</th>\n",
       "      <td>ES</td>\n",
       "      <td>22</td>\n",
       "      <td>100628559550</td>\n",
       "      <td>0.0</td>\n",
       "      <td>0.0</td>\n",
       "      <td>-1.29</td>\n",
       "      <td>26.69</td>\n",
       "      <td>-0.048333</td>\n",
       "    </tr>\n",
       "    <tr>\n",
       "      <th>4</th>\n",
       "      <td>ES</td>\n",
       "      <td>22</td>\n",
       "      <td>100639832338</td>\n",
       "      <td>0.0</td>\n",
       "      <td>0.0</td>\n",
       "      <td>0.00</td>\n",
       "      <td>15.80</td>\n",
       "      <td>0.000000</td>\n",
       "    </tr>\n",
       "    <tr>\n",
       "      <th>...</th>\n",
       "      <td>...</td>\n",
       "      <td>...</td>\n",
       "      <td>...</td>\n",
       "      <td>...</td>\n",
       "      <td>...</td>\n",
       "      <td>...</td>\n",
       "      <td>...</td>\n",
       "      <td>...</td>\n",
       "    </tr>\n",
       "    <tr>\n",
       "      <th>164332</th>\n",
       "      <td>ES</td>\n",
       "      <td>22</td>\n",
       "      <td>100635319834</td>\n",
       "      <td>0.0</td>\n",
       "      <td>0.0</td>\n",
       "      <td>0.00</td>\n",
       "      <td>23.47</td>\n",
       "      <td>0.000000</td>\n",
       "    </tr>\n",
       "    <tr>\n",
       "      <th>164333</th>\n",
       "      <td>ES</td>\n",
       "      <td>22</td>\n",
       "      <td>100627185273</td>\n",
       "      <td>0.0</td>\n",
       "      <td>0.0</td>\n",
       "      <td>0.00</td>\n",
       "      <td>19.27</td>\n",
       "      <td>0.000000</td>\n",
       "    </tr>\n",
       "    <tr>\n",
       "      <th>164334</th>\n",
       "      <td>ES</td>\n",
       "      <td>22</td>\n",
       "      <td>100626390230</td>\n",
       "      <td>0.0</td>\n",
       "      <td>0.0</td>\n",
       "      <td>0.00</td>\n",
       "      <td>65.87</td>\n",
       "      <td>0.000000</td>\n",
       "    </tr>\n",
       "    <tr>\n",
       "      <th>164335</th>\n",
       "      <td>ES</td>\n",
       "      <td>22</td>\n",
       "      <td>100626875623</td>\n",
       "      <td>0.0</td>\n",
       "      <td>0.0</td>\n",
       "      <td>0.00</td>\n",
       "      <td>48.92</td>\n",
       "      <td>0.000000</td>\n",
       "    </tr>\n",
       "    <tr>\n",
       "      <th>164336</th>\n",
       "      <td>ES</td>\n",
       "      <td>22</td>\n",
       "      <td>100627036975</td>\n",
       "      <td>0.0</td>\n",
       "      <td>0.0</td>\n",
       "      <td>0.00</td>\n",
       "      <td>20.60</td>\n",
       "      <td>0.000000</td>\n",
       "    </tr>\n",
       "  </tbody>\n",
       "</table>\n",
       "<p>164337 rows × 8 columns</p>\n",
       "</div>"
      ],
      "text/plain": [
       "       country_code  week_num      order_id  refunds_to_customer  \\\n",
       "0                ES        22  100639317184                  0.0   \n",
       "1                ES        22  100626176781                  0.0   \n",
       "2                ES        22  100628765696                  0.0   \n",
       "3                ES        22  100628559550                  0.0   \n",
       "4                ES        22  100639832338                  0.0   \n",
       "...             ...       ...           ...                  ...   \n",
       "164332           ES        22  100635319834                  0.0   \n",
       "164333           ES        22  100627185273                  0.0   \n",
       "164334           ES        22  100626390230                  0.0   \n",
       "164335           ES        22  100626875623                  0.0   \n",
       "164336           ES        22  100627036975                  0.0   \n",
       "\n",
       "        cancellations_to_pna  gmv_loss_numerator  gmv_loss_denominator  \\\n",
       "0                        0.0                0.00                 26.93   \n",
       "1                        0.0               -1.19                 15.24   \n",
       "2                        0.0                0.00                 37.00   \n",
       "3                        0.0               -1.29                 26.69   \n",
       "4                        0.0                0.00                 15.80   \n",
       "...                      ...                 ...                   ...   \n",
       "164332                   0.0                0.00                 23.47   \n",
       "164333                   0.0                0.00                 19.27   \n",
       "164334                   0.0                0.00                 65.87   \n",
       "164335                   0.0                0.00                 48.92   \n",
       "164336                   0.0                0.00                 20.60   \n",
       "\n",
       "        perc_gmv  \n",
       "0       0.000000  \n",
       "1      -0.078084  \n",
       "2       0.000000  \n",
       "3      -0.048333  \n",
       "4       0.000000  \n",
       "...          ...  \n",
       "164332  0.000000  \n",
       "164333  0.000000  \n",
       "164334  0.000000  \n",
       "164335  0.000000  \n",
       "164336  0.000000  \n",
       "\n",
       "[164337 rows x 8 columns]"
      ]
     },
     "execution_count": 135,
     "metadata": {},
     "output_type": "execute_result"
    }
   ],
   "source": [
    "df1"
   ]
  },
  {
   "cell_type": "code",
   "execution_count": 146,
   "metadata": {},
   "outputs": [
    {
     "data": {
      "text/html": [
       "<div>\n",
       "<style scoped>\n",
       "    .dataframe tbody tr th:only-of-type {\n",
       "        vertical-align: middle;\n",
       "    }\n",
       "\n",
       "    .dataframe tbody tr th {\n",
       "        vertical-align: top;\n",
       "    }\n",
       "\n",
       "    .dataframe thead th {\n",
       "        text-align: right;\n",
       "    }\n",
       "</style>\n",
       "<table border=\"1\" class=\"dataframe\">\n",
       "  <thead>\n",
       "    <tr style=\"text-align: right;\">\n",
       "      <th></th>\n",
       "      <th>order_id</th>\n",
       "      <th>numerator</th>\n",
       "      <th>gmv_loss_numerator</th>\n",
       "    </tr>\n",
       "  </thead>\n",
       "  <tbody>\n",
       "    <tr>\n",
       "      <th>0</th>\n",
       "      <td>100639317184</td>\n",
       "      <td>0.300000</td>\n",
       "      <td>0.00</td>\n",
       "    </tr>\n",
       "    <tr>\n",
       "      <th>1</th>\n",
       "      <td>100626176781</td>\n",
       "      <td>-1.190000</td>\n",
       "      <td>-1.19</td>\n",
       "    </tr>\n",
       "    <tr>\n",
       "      <th>2</th>\n",
       "      <td>100628765696</td>\n",
       "      <td>0.000000</td>\n",
       "      <td>0.00</td>\n",
       "    </tr>\n",
       "    <tr>\n",
       "      <th>3</th>\n",
       "      <td>100628559550</td>\n",
       "      <td>-1.630000</td>\n",
       "      <td>-1.29</td>\n",
       "    </tr>\n",
       "    <tr>\n",
       "      <th>4</th>\n",
       "      <td>100639832338</td>\n",
       "      <td>0.000000</td>\n",
       "      <td>0.00</td>\n",
       "    </tr>\n",
       "    <tr>\n",
       "      <th>...</th>\n",
       "      <td>...</td>\n",
       "      <td>...</td>\n",
       "      <td>...</td>\n",
       "    </tr>\n",
       "    <tr>\n",
       "      <th>152131</th>\n",
       "      <td>100635319834</td>\n",
       "      <td>0.000000</td>\n",
       "      <td>0.00</td>\n",
       "    </tr>\n",
       "    <tr>\n",
       "      <th>152132</th>\n",
       "      <td>100627185273</td>\n",
       "      <td>0.000000</td>\n",
       "      <td>0.00</td>\n",
       "    </tr>\n",
       "    <tr>\n",
       "      <th>152133</th>\n",
       "      <td>100626390230</td>\n",
       "      <td>-2.309999</td>\n",
       "      <td>0.00</td>\n",
       "    </tr>\n",
       "    <tr>\n",
       "      <th>152134</th>\n",
       "      <td>100626875623</td>\n",
       "      <td>-0.100000</td>\n",
       "      <td>0.00</td>\n",
       "    </tr>\n",
       "    <tr>\n",
       "      <th>152135</th>\n",
       "      <td>100627036975</td>\n",
       "      <td>0.000000</td>\n",
       "      <td>0.00</td>\n",
       "    </tr>\n",
       "  </tbody>\n",
       "</table>\n",
       "<p>152136 rows × 3 columns</p>\n",
       "</div>"
      ],
      "text/plain": [
       "            order_id  numerator  gmv_loss_numerator\n",
       "0       100639317184   0.300000                0.00\n",
       "1       100626176781  -1.190000               -1.19\n",
       "2       100628765696   0.000000                0.00\n",
       "3       100628559550  -1.630000               -1.29\n",
       "4       100639832338   0.000000                0.00\n",
       "...              ...        ...                 ...\n",
       "152131  100635319834   0.000000                0.00\n",
       "152132  100627185273   0.000000                0.00\n",
       "152133  100626390230  -2.309999                0.00\n",
       "152134  100626875623  -0.100000                0.00\n",
       "152135  100627036975   0.000000                0.00\n",
       "\n",
       "[152136 rows x 3 columns]"
      ]
     },
     "execution_count": 146,
     "metadata": {},
     "output_type": "execute_result"
    }
   ],
   "source": [
    "tmp = pd.merge(df1,df2, left_on='order_id', right_on='bought_products.order_id')\n",
    "tmp[['order_id','numerator','gmv_loss_numerator']]"
   ]
  },
  {
   "cell_type": "code",
   "execution_count": 147,
   "metadata": {},
   "outputs": [
    {
     "data": {
      "text/plain": [
       "-405555.05844199995"
      ]
     },
     "execution_count": 147,
     "metadata": {},
     "output_type": "execute_result"
    }
   ],
   "source": [
    "tmp['numerator'].sum()"
   ]
  },
  {
   "cell_type": "code",
   "execution_count": 148,
   "metadata": {},
   "outputs": [
    {
     "data": {
      "text/plain": [
       "-274345.1"
      ]
     },
     "execution_count": 148,
     "metadata": {},
     "output_type": "execute_result"
    }
   ],
   "source": [
    "tmp['gmv_loss_numerator'].sum()"
   ]
  },
  {
   "cell_type": "code",
   "execution_count": null,
   "metadata": {},
   "outputs": [],
   "source": [
    "tmp[]"
   ]
  }
 ],
 "metadata": {
  "kernelspec": {
   "display_name": ".venv",
   "language": "python",
   "name": "python3"
  },
  "language_info": {
   "codemirror_mode": {
    "name": "ipython",
    "version": 3
   },
   "file_extension": ".py",
   "mimetype": "text/x-python",
   "name": "python",
   "nbconvert_exporter": "python",
   "pygments_lexer": "ipython3",
   "version": "3.12.0"
  }
 },
 "nbformat": 4,
 "nbformat_minor": 2
}
