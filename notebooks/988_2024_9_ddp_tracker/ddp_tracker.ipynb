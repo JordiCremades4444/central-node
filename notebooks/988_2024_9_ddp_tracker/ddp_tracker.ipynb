{
 "cells": [
  {
   "cell_type": "markdown",
   "metadata": {},
   "source": [
    "# DDP tracker"
   ]
  },
  {
   "cell_type": "markdown",
   "metadata": {},
   "source": [
    "## Config"
   ]
  },
  {
   "cell_type": "code",
   "execution_count": 1,
   "metadata": {},
   "outputs": [],
   "source": [
    "import matplotlib.pyplot as plt\n",
    "import os\n",
    "import pandas as pd\n",
    "import seaborn as sns\n",
    "import sys\n",
    "\n",
    "# Move two levels up (to the project root) and append the `src` folder\n",
    "src_path = os.path.abspath(os.path.join(os.getcwd(), '..', '..'))\n",
    "\n",
    "# Append src to sys.path\n",
    "sys.path.append(src_path)\n",
    "\n",
    "from src import query_engines\n",
    "\n",
    "q = query_engines.QueryEngines()"
   ]
  },
  {
   "cell_type": "markdown",
   "metadata": {},
   "source": [
    "## Queries"
   ]
  },
  {
   "cell_type": "code",
   "execution_count": 2,
   "metadata": {},
   "outputs": [],
   "source": [
    "DAYS_IN_ADVANCE = \"8\"\n",
    "\n",
    "params = [\n",
    "    {'name':'days_in_advance', 'value': DAYS_IN_ADVANCE},]"
   ]
  },
  {
   "cell_type": "code",
   "execution_count": 3,
   "metadata": {},
   "outputs": [
    {
     "name": "stdout",
     "output_type": "stream",
     "text": [
      "calendar\n"
     ]
    },
    {
     "name": "stderr",
     "output_type": "stream",
     "text": [
      "/Users/jordicremades/Documents/repos/central-node/src/query_engines.py:138: UserWarning: pandas only supports SQLAlchemy connectable (engine/connection) or database string URI or sqlite3 DBAPI2 connection. Other DBAPI2 objects are not tested. Please consider using SQLAlchemy.\n",
      "  df = pd.read_sql(self.tp__read_query, conn)\n"
     ]
    },
    {
     "name": "stdout",
     "output_type": "stream",
     "text": [
      "Open the following URL in browser for the external authentication:\n",
      "https://starburst.g8s-data-platform-prod.glovoint.com/oauth2/token/initiate/8f7d24ca084b24dadd1fc90058ef8314e17dc25d1c9c27cc0ac487c376e5645e\n",
      "active_partners\n",
      "Open the following URL in browser for the external authentication:\n",
      "https://starburst.g8s-data-platform-prod.glovoint.com/oauth2/token/initiate/ef505f25de26d4c2c1e777045e433e1b378dd952e1b683e4038f025e3f54a27d\n",
      "bought_products_v2\n",
      "Open the following URL in browser for the external authentication:\n",
      "https://starburst.g8s-data-platform-prod.glovoint.com/oauth2/token/initiate/6375a18848d5eef487baa0d48e777efd8adddccd16c45f6709dc086f57a886e4\n",
      "dynamic_sessions_v1\n",
      "Open the following URL in browser for the external authentication:\n",
      "https://starburst.g8s-data-platform-prod.glovoint.com/oauth2/token/initiate/b5f58effcdb62f99b5db2a6844565d63f79870c88678e314ef0ff7f21ed6645b\n",
      "fct_contact_intent\n",
      "Open the following URL in browser for the external authentication:\n",
      "https://starburst.g8s-data-platform-prod.glovoint.com/oauth2/token/initiate/13ccca384f4142c4a9094e706c5441b0f701ef2d8573bd3876a898139dfc1cb2\n",
      "first_order_levels\n",
      "Open the following URL in browser for the external authentication:\n",
      "https://starburst.g8s-data-platform-prod.glovoint.com/oauth2/token/initiate/83399a227fab5e28e5e6f993240a213e10bf97a4b655ab60aacec3ccd5514506\n",
      "groceries_top_partners\n",
      "Open the following URL in browser for the external authentication:\n",
      "https://starburst.g8s-data-platform-prod.glovoint.com/oauth2/token/initiate/df533c1499ff5e19a8e9bb2d845fa474bd66166958f4806d90a293891b9169d8\n",
      "order_descriptors_v2\n",
      "Open the following URL in browser for the external authentication:\n",
      "https://starburst.g8s-data-platform-prod.glovoint.com/oauth2/token/initiate/d1bcfec8dcd03ff8ab3e6ff57fb87bd562ff56160d4782792fb9dd5ee62f8173\n",
      "orders_gmv_variation\n",
      "Open the following URL in browser for the external authentication:\n",
      "https://starburst.g8s-data-platform-prod.glovoint.com/oauth2/token/initiate/2b020baad07e022e8b28c64f0bb141519a1ed47af78f23c5a01370f9016afa27\n",
      "products_gmv_variation\n"
     ]
    },
    {
     "name": "stderr",
     "output_type": "stream",
     "text": [
      "/Users/jordicremades/Documents/repos/central-node/src/query_engines.py:138: UserWarning: pandas only supports SQLAlchemy connectable (engine/connection) or database string URI or sqlite3 DBAPI2 connection. Other DBAPI2 objects are not tested. Please consider using SQLAlchemy.\n",
      "  df = pd.read_sql(self.tp__read_query, conn)\n"
     ]
    },
    {
     "name": "stdout",
     "output_type": "stream",
     "text": [
      "Open the following URL in browser for the external authentication:\n",
      "https://starburst.g8s-data-platform-prod.glovoint.com/oauth2/token/initiate/cfa6a45f7af40e2abd3522199e9b1338af7979eba75417acfc1ab10bdece4853\n",
      "order_refund_incidents\n"
     ]
    },
    {
     "name": "stderr",
     "output_type": "stream",
     "text": [
      "/Users/jordicremades/Documents/repos/central-node/src/query_engines.py:138: UserWarning: pandas only supports SQLAlchemy connectable (engine/connection) or database string URI or sqlite3 DBAPI2 connection. Other DBAPI2 objects are not tested. Please consider using SQLAlchemy.\n",
      "  df = pd.read_sql(self.tp__read_query, conn)\n"
     ]
    },
    {
     "name": "stdout",
     "output_type": "stream",
     "text": [
      "Open the following URL in browser for the external authentication:\n",
      "https://starburst.g8s-data-platform-prod.glovoint.com/oauth2/token/initiate/c62866a86e7c369a2684bf094b24aaaeacc06d202ae843f2916aaaf3400cf794\n",
      "pna_orders_info\n",
      "Open the following URL in browser for the external authentication:\n",
      "https://starburst.g8s-data-platform-prod.glovoint.com/oauth2/token/initiate/69336a17e3c9a188ddd8a7e900a47ec9daf74672d027ee6146aad7147336c8e4\n",
      "pna_products_info\n",
      "Open the following URL in browser for the external authentication:\n",
      "https://starburst.g8s-data-platform-prod.glovoint.com/oauth2/token/initiate/e905374604e36c8661ea1089acc1c684b3c2411346945b5ba3057bd0b294cddb\n",
      "product_availability_v2\n",
      "Open the following URL in browser for the external authentication:\n",
      "https://starburst.g8s-data-platform-prod.glovoint.com/oauth2/token/initiate/5338f54773f8571af7b267a3aebf1507ecb0547e16945748adc37783516bdae8\n",
      "product_collections_flattened_v2\n",
      "Open the following URL in browser for the external authentication:\n",
      "https://starburst.g8s-data-platform-prod.glovoint.com/oauth2/token/initiate/73bcc907c2249b4b63e2aef496caeb6615c215eb5b5d472d0ff5a913b1f99d6e\n",
      "products_v2_daily\n"
     ]
    },
    {
     "name": "stderr",
     "output_type": "stream",
     "text": [
      "/Users/jordicremades/Documents/repos/central-node/src/query_engines.py:138: UserWarning: pandas only supports SQLAlchemy connectable (engine/connection) or database string URI or sqlite3 DBAPI2 connection. Other DBAPI2 objects are not tested. Please consider using SQLAlchemy.\n",
      "  df = pd.read_sql(self.tp__read_query, conn)\n"
     ]
    },
    {
     "name": "stdout",
     "output_type": "stream",
     "text": [
      "Open the following URL in browser for the external authentication:\n",
      "https://starburst.g8s-data-platform-prod.glovoint.com/oauth2/token/initiate/f595c7f0bddd4714141f39225063fb567b643da1421c70d1712549532176e78b\n",
      "retention_order_info\n",
      "Open the following URL in browser for the external authentication:\n",
      "https://starburst.g8s-data-platform-prod.glovoint.com/oauth2/token/initiate/be4e29e044843f7eb8bf3bc2fe07f2efd5588cfe4599219373362407d0547a3c\n",
      "sessions_nc_rc\n",
      "Open the following URL in browser for the external authentication:\n",
      "https://starburst.g8s-data-platform-prod.glovoint.com/oauth2/token/initiate/dad4085a7cdf9c26fe0cb82d7a554f97a4a02b7c10d940f813a26617f666f9dc\n",
      "spm_ddp_info\n",
      "Open the following URL in browser for the external authentication:\n",
      "https://starburst.g8s-data-platform-prod.glovoint.com/oauth2/token/initiate/a5ac8db62eb6c921ef3210fcbf6eac80386b3db9ec76aad1f5ac7f4e381ec4c5\n",
      "store_address_product_stockout\n",
      "Open the following URL in browser for the external authentication:\n",
      "https://starburst.g8s-data-platform-prod.glovoint.com/oauth2/token/initiate/785c759980d79fc13ed5f3c73cc3640d9afcdf1d087d9e698bae1539cf88f738\n",
      "pna_bot_info\n",
      "Open the following URL in browser for the external authentication:\n",
      "https://starburst.g8s-data-platform-prod.glovoint.com/oauth2/token/initiate/ae74a14c7511a28f41cb326877ac0678a309a755c17ca173a0751d6fd4bd7c08\n",
      "pna_bot_gmv_info\n",
      "Open the following URL in browser for the external authentication:\n",
      "https://starburst.g8s-data-platform-prod.glovoint.com/oauth2/token/initiate/51cdb735994464a8e650b105221f97b4881acaf9b6b1c6466552386aeb0751d2\n",
      "replacement_engine_info\n",
      "Open the following URL in browser for the external authentication:\n",
      "https://starburst.g8s-data-platform-prod.glovoint.com/oauth2/token/initiate/9a6ca3537a8775efcd8478d839fb59df904224cf561146c9e6408d4ce20761b3\n",
      "replacement_engine_info_dh\n",
      "Open the following URL in browser for the external authentication:\n",
      "https://starburst.g8s-data-platform-prod.glovoint.com/oauth2/token/initiate/24698c24631ab905c873c6abb5b32bd39a31ed75f4f4b660b4cdebe87d4911e8\n"
     ]
    }
   ],
   "source": [
    "# calendar\n",
    "print('calendar')\n",
    "q.prepare_query(query_file='ddps/calendar.sql', params=params)\n",
    "df1 = q.query_run_starburst()\n",
    "\n",
    "# active_partners\n",
    "print('active_partners')\n",
    "q.prepare_query(query_file='ddps/active_partners.sql', params=params)\n",
    "df2 = q.query_run_starburst()\n",
    "\n",
    "# bought_products_v2\n",
    "print('bought_products_v2')\n",
    "q.prepare_query(query_file='ddps/bought_products_v2.sql', params=params)\n",
    "df3 = q.query_run_starburst()\n",
    "\n",
    "# dynamic_sessions_v1\n",
    "print('dynamic_sessions_v1')\n",
    "q.prepare_query(query_file='ddps/dynamic_sessions_v1.sql', params=params)\n",
    "df4 = q.query_run_starburst()\n",
    "\n",
    "# fct_contact_intent\n",
    "print('fct_contact_intent')\n",
    "q.prepare_query(query_file='ddps/fct_contact_intent.sql', params=params)\n",
    "df5 = q.query_run_starburst()\n",
    "\n",
    "# first_order_levels\n",
    "print('first_order_levels')\n",
    "q.prepare_query(query_file='ddps/first_order_levels.sql', params=params)\n",
    "df6 = q.query_run_starburst()\n",
    "\n",
    "# groceries_top_partners\n",
    "print('groceries_top_partners')\n",
    "q.prepare_query(query_file='ddps/groceries_top_partners.sql', params=params)\n",
    "df7 = q.query_run_starburst()\n",
    "\n",
    "# order_descriptors_v2\n",
    "print('order_descriptors_v2')\n",
    "q.prepare_query(query_file='ddps/order_descriptors_v2.sql', params=params)\n",
    "df8 = q.query_run_starburst()\n",
    "\n",
    "# orders_gmv_variation\n",
    "print('orders_gmv_variation')\n",
    "q.prepare_query(query_file='ddps/orders_gmv_variation.sql', params=params)\n",
    "df9 = q.query_run_starburst()\n",
    "\n",
    "# products_gmv_variation\n",
    "print('products_gmv_variation')\n",
    "q.prepare_query(query_file='ddps/products_gmv_variation.sql', params=params)\n",
    "df10 = q.query_run_starburst()\n",
    "\n",
    "# order_refund_incidents\n",
    "print('order_refund_incidents')\n",
    "q.prepare_query(query_file='ddps/order_refund_incidents.sql', params=params)\n",
    "df11 = q.query_run_starburst()\n",
    "\n",
    "# pna_orders_info\n",
    "print('pna_orders_info')\n",
    "q.prepare_query(query_file='ddps/pna_orders_info.sql', params=params)\n",
    "df12 = q.query_run_starburst()\n",
    "\n",
    "# pna_products_info\n",
    "print('pna_products_info')\n",
    "q.prepare_query(query_file='ddps/pna_products_info.sql', params=params)\n",
    "df13 = q.query_run_starburst()\n",
    "\n",
    "# product_availability_v2\n",
    "print('product_availability_v2')\n",
    "q.prepare_query(query_file='ddps/product_availability_v2.sql', params=params)\n",
    "df14 = q.query_run_starburst()\n",
    "\n",
    "# product_collections_flattened_v2\n",
    "print('product_collections_flattened_v2')\n",
    "q.prepare_query(query_file='ddps/product_collections_flattened_v2.sql', params=params)\n",
    "df15 = q.query_run_starburst()\n",
    "\n",
    "# products_v2_daily\n",
    "print('products_v2_daily')\n",
    "q.prepare_query(query_file='ddps/products_v2_daily.sql', params=params)\n",
    "df16 = q.query_run_starburst()\n",
    "\n",
    "# retention_order_info\n",
    "print('retention_order_info')\n",
    "q.prepare_query(query_file='ddps/retention_order_info.sql', params=params)\n",
    "df17 = q.query_run_starburst()\n",
    "\n",
    "# sessions_nc_rc\n",
    "print('sessions_nc_rc')\n",
    "q.prepare_query(query_file='ddps/sessions_nc_rc.sql', params=params)\n",
    "df18 = q.query_run_starburst()\n",
    "\n",
    "# spm_ddp_info\n",
    "print('spm_ddp_info')\n",
    "q.prepare_query(query_file='ddps/spm_ddp_info.sql', params=params)\n",
    "df19 = q.query_run_starburst()\n",
    "\n",
    "# store_address_product_stockout\n",
    "print('store_address_product_stockout')\n",
    "q.prepare_query(query_file='ddps/store_address_product_stockout.sql', params=params)\n",
    "df20 = q.query_run_starburst()\n",
    "\n",
    "# ----------------------------------------------------------------------------------------------------------------------\n",
    "\n",
    "# pna_bot_info\n",
    "print('pna_bot_info')\n",
    "q.prepare_query(query_file='ddps/pna_bot_info.sql', params=params)\n",
    "df_1 = q.query_run_starburst()\n",
    "\n",
    "# pna_bot_gmv_info\n",
    "print('pna_bot_gmv_info')\n",
    "q.prepare_query(query_file='ddps/pna_bot_gmv_info.sql', params=params)\n",
    "df_2 = q.query_run_starburst()\n",
    "\n",
    "# replacement_engine_info\n",
    "print('replacement_engine_info')\n",
    "q.prepare_query(query_file='ddps/replacement_engine_info.sql', params=params)\n",
    "df_3 = q.query_run_starburst()\n",
    "\n",
    "# replacement_engine_info_dh\n",
    "print('replacement_engine_info_dh')\n",
    "q.prepare_query(query_file='ddps/replacement_engine_info_dh.sql', params=params)\n",
    "df_4 = q.query_run_starburst()"
   ]
  },
  {
   "cell_type": "markdown",
   "metadata": {},
   "source": [
    "## DDP_tracker_1"
   ]
  },
  {
   "cell_type": "code",
   "execution_count": 5,
   "metadata": {},
   "outputs": [],
   "source": [
    "dataframes = [df2, df3, df4, df5, df6, df7, df8, df9, df10, df11, df12, df13, df14, df15, df16, df17, df18, df19, df20]\n",
    "\n",
    "merged_df = df1.copy()\n",
    "\n",
    "for df in dataframes:\n",
    "    if not df.empty:\n",
    "        merged_df = pd.merge(merged_df, df, on='p_creation_date', how='left')\n",
    "\n",
    "for col in merged_df.columns:\n",
    "    if merged_df[col].dtype == 'float64':\n",
    "        merged_df[col] = merged_df[col].fillna(0).astype(int)\n",
    "        \n",
    "pivot_table = merged_df.set_index('p_creation_date').T\n",
    "\n",
    "pivot_table.to_csv('outputs/ddp_tracker_1.csv')"
   ]
  },
  {
   "cell_type": "markdown",
   "metadata": {},
   "source": [
    "## DDP_tracker_2"
   ]
  },
  {
   "cell_type": "code",
   "execution_count": 6,
   "metadata": {},
   "outputs": [],
   "source": [
    "dataframes = [df_1, df_2, df_3, df_4]\n",
    "\n",
    "merged_df = pd.concat(dataframes, axis=1)\n",
    "\n",
    "merged_df.to_csv('outputs/ddp_tracker_2.csv', index=False)"
   ]
  }
 ],
 "metadata": {
  "kernelspec": {
   "display_name": ".venv",
   "language": "python",
   "name": "python3"
  },
  "language_info": {
   "codemirror_mode": {
    "name": "ipython",
    "version": 3
   },
   "file_extension": ".py",
   "mimetype": "text/x-python",
   "name": "python",
   "nbconvert_exporter": "python",
   "pygments_lexer": "ipython3",
   "version": "3.12.6"
  }
 },
 "nbformat": 4,
 "nbformat_minor": 2
}
