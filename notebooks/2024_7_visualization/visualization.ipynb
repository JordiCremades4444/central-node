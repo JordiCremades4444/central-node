{
 "cells": [
  {
   "cell_type": "markdown",
   "metadata": {},
   "source": [
    "# 100 Visualisations"
   ]
  },
  {
   "cell_type": "code",
   "execution_count": 95,
   "metadata": {},
   "outputs": [],
   "source": [
    "\n",
    "import matplotlib.pyplot as plt\n",
    "import numpy as np\n",
    "import pandas as pd\n",
    "import seaborn as sns\n",
    "import sys \n",
    "\n",
    "sys.path.append('c:/Users/Jordi Cremades/Documents/Repos/central-node')\n",
    "\n",
    "from utils import query_engines\n",
    "\n",
    "palette = sns.color_palette()\n",
    "blue = palette[0]\n",
    "orange = palette[1]\n",
    "green = palette[2]\n",
    "red = palette[3]\n",
    "purple = palette[4]\n",
    "brown = palette[5]\n",
    "pink = palette[6]\n",
    "gray = palette[7]\n",
    "olive = palette[8]\n",
    "cyan = palette[9]"
   ]
  },
  {
   "cell_type": "markdown",
   "metadata": {},
   "source": [
    "# 1 - QC share velocity"
   ]
  },
  {
   "cell_type": "markdown",
   "metadata": {},
   "source": [
    "My assumption is that the weight of verticals is shifting. Glovo started as a restaurant-focused app, but with time, other options are gaining more weight. The share from QC is growing year after year, and it seam that it is doing so at a steady pace. In this section I want to answer the following question:\n",
    "\n",
    "- Has the velocity of QC share increased in GMV? 2020 was the year with the highest increment YoY on the share for Glovo. The subsequent year 2021 it decreased, but since then the share of Groceries has been constantly growing. In 2024 it is growing at a lower pace than the previous 2023 year."
   ]
  },
  {
   "cell_type": "code",
   "execution_count": 56,
   "metadata": {},
   "outputs": [
    {
     "data": {
      "text/html": [
       "<div>\n",
       "<style scoped>\n",
       "    .dataframe tbody tr th:only-of-type {\n",
       "        vertical-align: middle;\n",
       "    }\n",
       "\n",
       "    .dataframe tbody tr th {\n",
       "        vertical-align: top;\n",
       "    }\n",
       "\n",
       "    .dataframe thead th {\n",
       "        text-align: right;\n",
       "    }\n",
       "</style>\n",
       "<table border=\"1\" class=\"dataframe\">\n",
       "  <thead>\n",
       "    <tr style=\"text-align: right;\">\n",
       "      <th></th>\n",
       "      <th>year</th>\n",
       "      <th>vertical</th>\n",
       "      <th>gmv</th>\n",
       "    </tr>\n",
       "  </thead>\n",
       "  <tbody>\n",
       "    <tr>\n",
       "      <th>0</th>\n",
       "      <td>2023</td>\n",
       "      <td>LaaS</td>\n",
       "      <td>2.353147e+03</td>\n",
       "    </tr>\n",
       "    <tr>\n",
       "      <th>1</th>\n",
       "      <td>2024</td>\n",
       "      <td>Food</td>\n",
       "      <td>2.099414e+09</td>\n",
       "    </tr>\n",
       "    <tr>\n",
       "      <th>2</th>\n",
       "      <td>2017</td>\n",
       "      <td>LaaS</td>\n",
       "      <td>0.000000e+00</td>\n",
       "    </tr>\n",
       "    <tr>\n",
       "      <th>3</th>\n",
       "      <td>2020</td>\n",
       "      <td>LaaS</td>\n",
       "      <td>5.132461e+03</td>\n",
       "    </tr>\n",
       "    <tr>\n",
       "      <th>4</th>\n",
       "      <td>2024</td>\n",
       "      <td>QCommerce</td>\n",
       "      <td>4.684233e+08</td>\n",
       "    </tr>\n",
       "  </tbody>\n",
       "</table>\n",
       "</div>"
      ],
      "text/plain": [
       "   year   vertical           gmv\n",
       "0  2023       LaaS  2.353147e+03\n",
       "1  2024       Food  2.099414e+09\n",
       "2  2017       LaaS  0.000000e+00\n",
       "3  2020       LaaS  5.132461e+03\n",
       "4  2024  QCommerce  4.684233e+08"
      ]
     },
     "execution_count": 56,
     "metadata": {},
     "output_type": "execute_result"
    }
   ],
   "source": [
    "q = query_engines.QueryEngines(reset_query_logs=True, reset_to_load=False)\n",
    "\n",
    "QUERY_FILE = '1/orders.sql'\n",
    "OUTPUT_FILE = '1_orders'\n",
    "LOAD_FROM_OUTPUT_FILE = '1_orders'\n",
    "PRINT_QUERY = True\n",
    "\n",
    "START_DATE = \"'2015-01-01'\"\n",
    "END_DATE = \"'2025-01-01'\"\n",
    "\n",
    "params = [\n",
    "    # dates\n",
    "    {'name':'start_date', 'value': str(START_DATE)},\n",
    "    {'name':'end_date', 'value': str(END_DATE)},\n",
    "]\n",
    "\n",
    "q.prepare_query(QUERY_FILE, params=params)\n",
    "\n",
    "df  = q.query_run_starburst( #query_run_livedb otherwise\n",
    "    output_file=OUTPUT_FILE,\n",
    "    load_from_output_file=LOAD_FROM_OUTPUT_FILE,\n",
    "    print_query=PRINT_QUERY\n",
    ")\n",
    "\n",
    "df.head()"
   ]
  },
  {
   "cell_type": "code",
   "execution_count": 57,
   "metadata": {},
   "outputs": [
    {
     "data": {
      "text/plain": [
       "array(['LaaS', 'Food', 'QCommerce'], dtype=object)"
      ]
     },
     "execution_count": 57,
     "metadata": {},
     "output_type": "execute_result"
    }
   ],
   "source": [
    "df['vertical'].unique()"
   ]
  },
  {
   "cell_type": "code",
   "execution_count": 69,
   "metadata": {},
   "outputs": [
    {
     "data": {
      "text/html": [
       "<div>\n",
       "<style scoped>\n",
       "    .dataframe tbody tr th:only-of-type {\n",
       "        vertical-align: middle;\n",
       "    }\n",
       "\n",
       "    .dataframe tbody tr th {\n",
       "        vertical-align: top;\n",
       "    }\n",
       "\n",
       "    .dataframe thead th {\n",
       "        text-align: right;\n",
       "    }\n",
       "</style>\n",
       "<table border=\"1\" class=\"dataframe\">\n",
       "  <thead>\n",
       "    <tr style=\"text-align: right;\">\n",
       "      <th></th>\n",
       "      <th>year</th>\n",
       "      <th>vertical</th>\n",
       "      <th>gmv</th>\n",
       "      <th>total_gmv</th>\n",
       "      <th>share</th>\n",
       "      <th>share_increment</th>\n",
       "    </tr>\n",
       "  </thead>\n",
       "  <tbody>\n",
       "    <tr>\n",
       "      <th>21</th>\n",
       "      <td>2015</td>\n",
       "      <td>QCommerce</td>\n",
       "      <td>146851.65</td>\n",
       "      <td>146851.65</td>\n",
       "      <td>100.000000</td>\n",
       "      <td>NaN</td>\n",
       "    </tr>\n",
       "    <tr>\n",
       "      <th>22</th>\n",
       "      <td>2015</td>\n",
       "      <td>LaaS</td>\n",
       "      <td>0.00</td>\n",
       "      <td>146851.65</td>\n",
       "      <td>0.000000</td>\n",
       "      <td>NaN</td>\n",
       "    </tr>\n",
       "    <tr>\n",
       "      <th>14</th>\n",
       "      <td>2016</td>\n",
       "      <td>QCommerce</td>\n",
       "      <td>2132743.75</td>\n",
       "      <td>5502809.09</td>\n",
       "      <td>38.757364</td>\n",
       "      <td>-61.242636</td>\n",
       "    </tr>\n",
       "    <tr>\n",
       "      <th>13</th>\n",
       "      <td>2016</td>\n",
       "      <td>Food</td>\n",
       "      <td>3370065.34</td>\n",
       "      <td>5502809.09</td>\n",
       "      <td>61.242636</td>\n",
       "      <td>NaN</td>\n",
       "    </tr>\n",
       "    <tr>\n",
       "      <th>12</th>\n",
       "      <td>2016</td>\n",
       "      <td>LaaS</td>\n",
       "      <td>0.00</td>\n",
       "      <td>5502809.09</td>\n",
       "      <td>0.000000</td>\n",
       "      <td>0.000000</td>\n",
       "    </tr>\n",
       "  </tbody>\n",
       "</table>\n",
       "</div>"
      ],
      "text/plain": [
       "    year   vertical         gmv   total_gmv       share  share_increment\n",
       "21  2015  QCommerce   146851.65   146851.65  100.000000              NaN\n",
       "22  2015       LaaS        0.00   146851.65    0.000000              NaN\n",
       "14  2016  QCommerce  2132743.75  5502809.09   38.757364       -61.242636\n",
       "13  2016       Food  3370065.34  5502809.09   61.242636              NaN\n",
       "12  2016       LaaS        0.00  5502809.09    0.000000         0.000000"
      ]
     },
     "execution_count": 69,
     "metadata": {},
     "output_type": "execute_result"
    }
   ],
   "source": [
    "# Group by 'year' and calculate the sum of 'gmv' for each year\n",
    "total_gmv_per_year = df.groupby('year')['gmv'].sum().reset_index()\n",
    "total_gmv_per_year.columns = ['year', 'total_gmv']\n",
    "\n",
    "# Merge the total gmv per year with the original dataframe\n",
    "df_merged = pd.merge(df, total_gmv_per_year, on='year')\n",
    "df_merged.sort_values(by='year', inplace=True)\n",
    "\n",
    "# Calculate the share of each vertical per year in percentage\n",
    "df_merged['share'] = (df_merged['gmv'] / df_merged['total_gmv']) * 100\n",
    "\n",
    "# Calculate year-to-year increment in share\n",
    "df_merged['share_increment'] = df_merged.groupby('vertical')['share'].diff()\n",
    "\n",
    "df_merged.head()"
   ]
  },
  {
   "cell_type": "code",
   "execution_count": 83,
   "metadata": {},
   "outputs": [
    {
     "data": {
      "text/html": [
       "<div>\n",
       "<style scoped>\n",
       "    .dataframe tbody tr th:only-of-type {\n",
       "        vertical-align: middle;\n",
       "    }\n",
       "\n",
       "    .dataframe tbody tr th {\n",
       "        vertical-align: top;\n",
       "    }\n",
       "\n",
       "    .dataframe thead th {\n",
       "        text-align: right;\n",
       "    }\n",
       "</style>\n",
       "<table border=\"1\" class=\"dataframe\">\n",
       "  <thead>\n",
       "    <tr style=\"text-align: right;\">\n",
       "      <th></th>\n",
       "      <th>year</th>\n",
       "      <th>vertical</th>\n",
       "      <th>gmv</th>\n",
       "      <th>total_gmv</th>\n",
       "      <th>share</th>\n",
       "      <th>share_increment</th>\n",
       "    </tr>\n",
       "  </thead>\n",
       "  <tbody>\n",
       "    <tr>\n",
       "      <th>23</th>\n",
       "      <td>2019</td>\n",
       "      <td>QCommerce</td>\n",
       "      <td>7.541629e+07</td>\n",
       "      <td>6.502384e+08</td>\n",
       "      <td>11.598252</td>\n",
       "      <td>0.567138</td>\n",
       "    </tr>\n",
       "    <tr>\n",
       "      <th>10</th>\n",
       "      <td>2020</td>\n",
       "      <td>QCommerce</td>\n",
       "      <td>1.986320e+08</td>\n",
       "      <td>1.280243e+09</td>\n",
       "      <td>15.515182</td>\n",
       "      <td>3.916930</td>\n",
       "    </tr>\n",
       "    <tr>\n",
       "      <th>28</th>\n",
       "      <td>2021</td>\n",
       "      <td>QCommerce</td>\n",
       "      <td>2.734910e+08</td>\n",
       "      <td>2.062535e+09</td>\n",
       "      <td>13.259949</td>\n",
       "      <td>-2.255233</td>\n",
       "    </tr>\n",
       "    <tr>\n",
       "      <th>20</th>\n",
       "      <td>2022</td>\n",
       "      <td>QCommerce</td>\n",
       "      <td>4.364658e+08</td>\n",
       "      <td>3.097273e+09</td>\n",
       "      <td>14.091939</td>\n",
       "      <td>0.831990</td>\n",
       "    </tr>\n",
       "    <tr>\n",
       "      <th>2</th>\n",
       "      <td>2023</td>\n",
       "      <td>QCommerce</td>\n",
       "      <td>6.572900e+08</td>\n",
       "      <td>3.943413e+09</td>\n",
       "      <td>16.668048</td>\n",
       "      <td>2.576109</td>\n",
       "    </tr>\n",
       "    <tr>\n",
       "      <th>4</th>\n",
       "      <td>2024</td>\n",
       "      <td>QCommerce</td>\n",
       "      <td>4.684233e+08</td>\n",
       "      <td>2.567850e+09</td>\n",
       "      <td>18.241850</td>\n",
       "      <td>1.573802</td>\n",
       "    </tr>\n",
       "  </tbody>\n",
       "</table>\n",
       "</div>"
      ],
      "text/plain": [
       "    year   vertical           gmv     total_gmv      share  share_increment\n",
       "23  2019  QCommerce  7.541629e+07  6.502384e+08  11.598252         0.567138\n",
       "10  2020  QCommerce  1.986320e+08  1.280243e+09  15.515182         3.916930\n",
       "28  2021  QCommerce  2.734910e+08  2.062535e+09  13.259949        -2.255233\n",
       "20  2022  QCommerce  4.364658e+08  3.097273e+09  14.091939         0.831990\n",
       "2   2023  QCommerce  6.572900e+08  3.943413e+09  16.668048         2.576109\n",
       "4   2024  QCommerce  4.684233e+08  2.567850e+09  18.241850         1.573802"
      ]
     },
     "execution_count": 83,
     "metadata": {},
     "output_type": "execute_result"
    }
   ],
   "source": [
    "df_viz"
   ]
  },
  {
   "cell_type": "code",
   "execution_count": 96,
   "metadata": {},
   "outputs": [
    {
     "data": {
      "image/png": "[encoded data removed]",
      "text/plain": [
       "<Figure size 1000x600 with 1 Axes>"
      ]
     },
     "metadata": {},
     "output_type": "display_data"
    }
   ],
   "source": [
    "# plot\n",
    "COND = 'Groceries'\n",
    "\n",
    "df_viz = df_merged[df_merged['vertical'] == 'QCommerce'].sort_values(by='year')\n",
    "df_viz = df_viz[df_viz['year'] > 2018]\n",
    "\n",
    "fig, ax = plt.subplots(figsize=(10, 6))\n",
    "\n",
    "ax.plot(df_viz['year'], df_viz['share_increment'], color=blue)\n",
    "\n",
    "ax.set(xlabel='Year', \n",
    "       ylabel='Increment in absolute percentual poins',\n",
    "       title='QC Share vs All Glovo increment year vs year')\n",
    "\n",
    "ax.axhline(y=0, color='black', linestyle='--', linewidth=0.8, label='y=0')\n",
    "\n",
    "ax.grid(False)\n",
    "\n",
    "plt.show()"
   ]
  }
 ],
 "metadata": {
  "kernelspec": {
   "display_name": ".venv",
   "language": "python",
   "name": "python3"
  },
  "language_info": {
   "codemirror_mode": {
    "name": "ipython",
    "version": 3
   },
   "file_extension": ".py",
   "mimetype": "text/x-python",
   "name": "python",
   "nbconvert_exporter": "python",
   "pygments_lexer": "ipython3",
   "version": "3.12.0"
  }
 },
 "nbformat": 4,
 "nbformat_minor": 2
}
