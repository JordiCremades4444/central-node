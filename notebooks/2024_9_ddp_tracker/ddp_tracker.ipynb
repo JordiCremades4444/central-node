{
 "cells": [
  {
   "cell_type": "markdown",
   "metadata": {},
   "source": [
    "# DDP tracker"
   ]
  },
  {
   "cell_type": "markdown",
   "metadata": {},
   "source": [
    "## Config"
   ]
  },
  {
   "cell_type": "code",
   "execution_count": 2,
   "metadata": {},
   "outputs": [],
   "source": [
    "import itertools\n",
    "import matplotlib.pyplot as plt\n",
    "import pandas as pd\n",
    "import os\n",
    "import seaborn as sns\n",
    "import sys\n",
    "\n",
    "sys.path.append('c:/Users/Jordi Cremades/Documents/Repos/central-node')\n",
    "\n",
    "from utils import query_engines"
   ]
  },
  {
   "cell_type": "markdown",
   "metadata": {},
   "source": [
    "## Queries"
   ]
  },
  {
   "cell_type": "code",
   "execution_count": 34,
   "metadata": {},
   "outputs": [
    {
     "name": "stdout",
     "output_type": "stream",
     "text": [
      "calendar\n"
     ]
    },
    {
     "name": "stderr",
     "output_type": "stream",
     "text": [
      "c:\\Users/Jordi Cremades/Documents/Repos/central-node\\utils\\query_engines.py:235: UserWarning: pandas only supports SQLAlchemy connectable (engine/connection) or database string URI or sqlite3 DBAPI2 connection. Other DBAPI2 objects are not tested. Please consider using SQLAlchemy.\n",
      "  df = pd.read_sql(self.tp__read_query, conn)\n"
     ]
    },
    {
     "name": "stdout",
     "output_type": "stream",
     "text": [
      "Open the following URL in browser for the external authentication:\n",
      "https://starburst.g8s-data-platform-prod.glovoint.com/oauth2/token/initiate/266b624a2bbc7c9cae58894cc656731545dfff16d277905aa31a0c3dbeb4ae6b\n",
      "active_partners\n"
     ]
    },
    {
     "name": "stderr",
     "output_type": "stream",
     "text": [
      "c:\\Users/Jordi Cremades/Documents/Repos/central-node\\utils\\query_engines.py:235: UserWarning: pandas only supports SQLAlchemy connectable (engine/connection) or database string URI or sqlite3 DBAPI2 connection. Other DBAPI2 objects are not tested. Please consider using SQLAlchemy.\n",
      "  df = pd.read_sql(self.tp__read_query, conn)\n"
     ]
    },
    {
     "name": "stdout",
     "output_type": "stream",
     "text": [
      "Open the following URL in browser for the external authentication:\n",
      "https://starburst.g8s-data-platform-prod.glovoint.com/oauth2/token/initiate/7296a13860474b0533a3ff861bac78aa8290b0a020648efee7f03cd3fa3a5657\n",
      "bought_products_v2\n"
     ]
    },
    {
     "name": "stderr",
     "output_type": "stream",
     "text": [
      "c:\\Users/Jordi Cremades/Documents/Repos/central-node\\utils\\query_engines.py:235: UserWarning: pandas only supports SQLAlchemy connectable (engine/connection) or database string URI or sqlite3 DBAPI2 connection. Other DBAPI2 objects are not tested. Please consider using SQLAlchemy.\n",
      "  df = pd.read_sql(self.tp__read_query, conn)\n"
     ]
    },
    {
     "name": "stdout",
     "output_type": "stream",
     "text": [
      "Open the following URL in browser for the external authentication:\n",
      "https://starburst.g8s-data-platform-prod.glovoint.com/oauth2/token/initiate/bfa425b9bcb266d80313b867a43a02f7d97180f5f6546dcb9a8e7e62700af2ea\n",
      "dynamic_sessions_v1\n"
     ]
    },
    {
     "name": "stderr",
     "output_type": "stream",
     "text": [
      "c:\\Users/Jordi Cremades/Documents/Repos/central-node\\utils\\query_engines.py:235: UserWarning: pandas only supports SQLAlchemy connectable (engine/connection) or database string URI or sqlite3 DBAPI2 connection. Other DBAPI2 objects are not tested. Please consider using SQLAlchemy.\n",
      "  df = pd.read_sql(self.tp__read_query, conn)\n"
     ]
    },
    {
     "name": "stdout",
     "output_type": "stream",
     "text": [
      "Open the following URL in browser for the external authentication:\n",
      "https://starburst.g8s-data-platform-prod.glovoint.com/oauth2/token/initiate/e84c2827b4749db6b479b5dc9385db33060a4cc2df8dc62cda79325c9cbed124\n",
      "fct_contact_intent\n"
     ]
    },
    {
     "name": "stderr",
     "output_type": "stream",
     "text": [
      "c:\\Users/Jordi Cremades/Documents/Repos/central-node\\utils\\query_engines.py:235: UserWarning: pandas only supports SQLAlchemy connectable (engine/connection) or database string URI or sqlite3 DBAPI2 connection. Other DBAPI2 objects are not tested. Please consider using SQLAlchemy.\n",
      "  df = pd.read_sql(self.tp__read_query, conn)\n"
     ]
    },
    {
     "name": "stdout",
     "output_type": "stream",
     "text": [
      "Open the following URL in browser for the external authentication:\n",
      "https://starburst.g8s-data-platform-prod.glovoint.com/oauth2/token/initiate/a661900a417dd2d2bd3e3d555c20a1121a412326016a562c0d85335e0f204c41\n",
      "first_order_levels\n"
     ]
    },
    {
     "name": "stderr",
     "output_type": "stream",
     "text": [
      "c:\\Users/Jordi Cremades/Documents/Repos/central-node\\utils\\query_engines.py:235: UserWarning: pandas only supports SQLAlchemy connectable (engine/connection) or database string URI or sqlite3 DBAPI2 connection. Other DBAPI2 objects are not tested. Please consider using SQLAlchemy.\n",
      "  df = pd.read_sql(self.tp__read_query, conn)\n"
     ]
    },
    {
     "name": "stdout",
     "output_type": "stream",
     "text": [
      "Open the following URL in browser for the external authentication:\n",
      "https://starburst.g8s-data-platform-prod.glovoint.com/oauth2/token/initiate/0ac9055261efb52e41bf91837b39dd5ddbaac37ad2403611df7ad2b8c2698324\n",
      "groceries_top_partners\n"
     ]
    },
    {
     "name": "stderr",
     "output_type": "stream",
     "text": [
      "c:\\Users/Jordi Cremades/Documents/Repos/central-node\\utils\\query_engines.py:235: UserWarning: pandas only supports SQLAlchemy connectable (engine/connection) or database string URI or sqlite3 DBAPI2 connection. Other DBAPI2 objects are not tested. Please consider using SQLAlchemy.\n",
      "  df = pd.read_sql(self.tp__read_query, conn)\n"
     ]
    },
    {
     "name": "stdout",
     "output_type": "stream",
     "text": [
      "Open the following URL in browser for the external authentication:\n",
      "https://starburst.g8s-data-platform-prod.glovoint.com/oauth2/token/initiate/b98cd6a4ba9dd85280bac5d6fd15e225d8e06f6c245867e58395630719fe3972\n",
      "order_descriptors_v2\n"
     ]
    },
    {
     "name": "stderr",
     "output_type": "stream",
     "text": [
      "c:\\Users/Jordi Cremades/Documents/Repos/central-node\\utils\\query_engines.py:235: UserWarning: pandas only supports SQLAlchemy connectable (engine/connection) or database string URI or sqlite3 DBAPI2 connection. Other DBAPI2 objects are not tested. Please consider using SQLAlchemy.\n",
      "  df = pd.read_sql(self.tp__read_query, conn)\n"
     ]
    },
    {
     "name": "stdout",
     "output_type": "stream",
     "text": [
      "Open the following URL in browser for the external authentication:\n",
      "https://starburst.g8s-data-platform-prod.glovoint.com/oauth2/token/initiate/12213d9886afa881c01a3f777875779f4afd6929ce68787b8a36e8cbda901978\n",
      "orders_gmv_variation\n"
     ]
    },
    {
     "name": "stderr",
     "output_type": "stream",
     "text": [
      "c:\\Users/Jordi Cremades/Documents/Repos/central-node\\utils\\query_engines.py:235: UserWarning: pandas only supports SQLAlchemy connectable (engine/connection) or database string URI or sqlite3 DBAPI2 connection. Other DBAPI2 objects are not tested. Please consider using SQLAlchemy.\n",
      "  df = pd.read_sql(self.tp__read_query, conn)\n"
     ]
    },
    {
     "name": "stdout",
     "output_type": "stream",
     "text": [
      "Open the following URL in browser for the external authentication:\n",
      "https://starburst.g8s-data-platform-prod.glovoint.com/oauth2/token/initiate/33b7eac5174576937de836d8080b325b16f19263eeb523bed44efc5b1134f297\n",
      "products_gmv_variation\n"
     ]
    },
    {
     "name": "stderr",
     "output_type": "stream",
     "text": [
      "c:\\Users/Jordi Cremades/Documents/Repos/central-node\\utils\\query_engines.py:235: UserWarning: pandas only supports SQLAlchemy connectable (engine/connection) or database string URI or sqlite3 DBAPI2 connection. Other DBAPI2 objects are not tested. Please consider using SQLAlchemy.\n",
      "  df = pd.read_sql(self.tp__read_query, conn)\n"
     ]
    },
    {
     "name": "stdout",
     "output_type": "stream",
     "text": [
      "Open the following URL in browser for the external authentication:\n",
      "https://starburst.g8s-data-platform-prod.glovoint.com/oauth2/token/initiate/cacdb814237d0130e47dce77726f7d14789aab243c8c9e50ae45489ec0f94e87\n",
      "order_refund_incidents\n"
     ]
    },
    {
     "name": "stderr",
     "output_type": "stream",
     "text": [
      "c:\\Users/Jordi Cremades/Documents/Repos/central-node\\utils\\query_engines.py:235: UserWarning: pandas only supports SQLAlchemy connectable (engine/connection) or database string URI or sqlite3 DBAPI2 connection. Other DBAPI2 objects are not tested. Please consider using SQLAlchemy.\n",
      "  df = pd.read_sql(self.tp__read_query, conn)\n"
     ]
    },
    {
     "name": "stdout",
     "output_type": "stream",
     "text": [
      "Open the following URL in browser for the external authentication:\n",
      "https://starburst.g8s-data-platform-prod.glovoint.com/oauth2/token/initiate/cc6fbf1c8676eee32a9ac4a807935cd4b2ac2c6ba79b591350b3f83bcc245627\n",
      "pna_orders_info\n"
     ]
    },
    {
     "name": "stderr",
     "output_type": "stream",
     "text": [
      "c:\\Users/Jordi Cremades/Documents/Repos/central-node\\utils\\query_engines.py:235: UserWarning: pandas only supports SQLAlchemy connectable (engine/connection) or database string URI or sqlite3 DBAPI2 connection. Other DBAPI2 objects are not tested. Please consider using SQLAlchemy.\n",
      "  df = pd.read_sql(self.tp__read_query, conn)\n"
     ]
    },
    {
     "name": "stdout",
     "output_type": "stream",
     "text": [
      "Open the following URL in browser for the external authentication:\n",
      "https://starburst.g8s-data-platform-prod.glovoint.com/oauth2/token/initiate/e11e08793f5a16a4fdb154db89672ecd27a3ffc20dd50704a9b0d7684b434df4\n",
      "pna_products_info\n"
     ]
    },
    {
     "name": "stderr",
     "output_type": "stream",
     "text": [
      "c:\\Users/Jordi Cremades/Documents/Repos/central-node\\utils\\query_engines.py:235: UserWarning: pandas only supports SQLAlchemy connectable (engine/connection) or database string URI or sqlite3 DBAPI2 connection. Other DBAPI2 objects are not tested. Please consider using SQLAlchemy.\n",
      "  df = pd.read_sql(self.tp__read_query, conn)\n"
     ]
    },
    {
     "name": "stdout",
     "output_type": "stream",
     "text": [
      "Open the following URL in browser for the external authentication:\n",
      "https://starburst.g8s-data-platform-prod.glovoint.com/oauth2/token/initiate/551d14f4cad48ef77da6b285be58d9d4e7247a3397858ce3987d83fdba5e9670\n",
      "product_availability_v2\n"
     ]
    },
    {
     "name": "stderr",
     "output_type": "stream",
     "text": [
      "c:\\Users/Jordi Cremades/Documents/Repos/central-node\\utils\\query_engines.py:235: UserWarning: pandas only supports SQLAlchemy connectable (engine/connection) or database string URI or sqlite3 DBAPI2 connection. Other DBAPI2 objects are not tested. Please consider using SQLAlchemy.\n",
      "  df = pd.read_sql(self.tp__read_query, conn)\n"
     ]
    },
    {
     "name": "stdout",
     "output_type": "stream",
     "text": [
      "Open the following URL in browser for the external authentication:\n",
      "https://starburst.g8s-data-platform-prod.glovoint.com/oauth2/token/initiate/cbb1caa7e3557cb25e8b50754c156ad2107f22629c3d4d2961b34b99dbe0f761\n",
      "product_collections_flattened_v2\n"
     ]
    },
    {
     "name": "stderr",
     "output_type": "stream",
     "text": [
      "c:\\Users/Jordi Cremades/Documents/Repos/central-node\\utils\\query_engines.py:235: UserWarning: pandas only supports SQLAlchemy connectable (engine/connection) or database string URI or sqlite3 DBAPI2 connection. Other DBAPI2 objects are not tested. Please consider using SQLAlchemy.\n",
      "  df = pd.read_sql(self.tp__read_query, conn)\n"
     ]
    },
    {
     "name": "stdout",
     "output_type": "stream",
     "text": [
      "Open the following URL in browser for the external authentication:\n",
      "https://starburst.g8s-data-platform-prod.glovoint.com/oauth2/token/initiate/beb245bfc03bf8bc912c85a6f8c6078e71248d0164224e37fc7b7bd78a991301\n",
      "products_v2_daily\n"
     ]
    },
    {
     "name": "stderr",
     "output_type": "stream",
     "text": [
      "c:\\Users/Jordi Cremades/Documents/Repos/central-node\\utils\\query_engines.py:235: UserWarning: pandas only supports SQLAlchemy connectable (engine/connection) or database string URI or sqlite3 DBAPI2 connection. Other DBAPI2 objects are not tested. Please consider using SQLAlchemy.\n",
      "  df = pd.read_sql(self.tp__read_query, conn)\n"
     ]
    },
    {
     "name": "stdout",
     "output_type": "stream",
     "text": [
      "Open the following URL in browser for the external authentication:\n",
      "https://starburst.g8s-data-platform-prod.glovoint.com/oauth2/token/initiate/af21e4824a31302d259b19721d6134077b5cbc3f20859592a0deb110c7497db4\n",
      "retention_order_info\n"
     ]
    },
    {
     "name": "stderr",
     "output_type": "stream",
     "text": [
      "c:\\Users/Jordi Cremades/Documents/Repos/central-node\\utils\\query_engines.py:235: UserWarning: pandas only supports SQLAlchemy connectable (engine/connection) or database string URI or sqlite3 DBAPI2 connection. Other DBAPI2 objects are not tested. Please consider using SQLAlchemy.\n",
      "  df = pd.read_sql(self.tp__read_query, conn)\n"
     ]
    },
    {
     "name": "stdout",
     "output_type": "stream",
     "text": [
      "Open the following URL in browser for the external authentication:\n",
      "https://starburst.g8s-data-platform-prod.glovoint.com/oauth2/token/initiate/0a1dcb43d2f0201e64f641002b8c88486c5e2da3ec4ddfebd863ec4683727eed\n",
      "sessions_nc_rc\n"
     ]
    },
    {
     "name": "stderr",
     "output_type": "stream",
     "text": [
      "c:\\Users/Jordi Cremades/Documents/Repos/central-node\\utils\\query_engines.py:235: UserWarning: pandas only supports SQLAlchemy connectable (engine/connection) or database string URI or sqlite3 DBAPI2 connection. Other DBAPI2 objects are not tested. Please consider using SQLAlchemy.\n",
      "  df = pd.read_sql(self.tp__read_query, conn)\n"
     ]
    },
    {
     "name": "stdout",
     "output_type": "stream",
     "text": [
      "Open the following URL in browser for the external authentication:\n",
      "https://starburst.g8s-data-platform-prod.glovoint.com/oauth2/token/initiate/431dada3e0669837a74558dcc666cb39d93521a7e5a9b9b8c7aa57725eceda98\n",
      "spm_ddp_info\n"
     ]
    },
    {
     "name": "stderr",
     "output_type": "stream",
     "text": [
      "c:\\Users/Jordi Cremades/Documents/Repos/central-node\\utils\\query_engines.py:235: UserWarning: pandas only supports SQLAlchemy connectable (engine/connection) or database string URI or sqlite3 DBAPI2 connection. Other DBAPI2 objects are not tested. Please consider using SQLAlchemy.\n",
      "  df = pd.read_sql(self.tp__read_query, conn)\n"
     ]
    },
    {
     "name": "stdout",
     "output_type": "stream",
     "text": [
      "Open the following URL in browser for the external authentication:\n",
      "https://starburst.g8s-data-platform-prod.glovoint.com/oauth2/token/initiate/c03cb52b80d2e8225c3faaa509e2b294bf1d3e712ea5c8ebd7fac5a5b0bf281c\n",
      "store_address_product_stockout\n"
     ]
    },
    {
     "name": "stderr",
     "output_type": "stream",
     "text": [
      "c:\\Users/Jordi Cremades/Documents/Repos/central-node\\utils\\query_engines.py:235: UserWarning: pandas only supports SQLAlchemy connectable (engine/connection) or database string URI or sqlite3 DBAPI2 connection. Other DBAPI2 objects are not tested. Please consider using SQLAlchemy.\n",
      "  df = pd.read_sql(self.tp__read_query, conn)\n"
     ]
    },
    {
     "name": "stdout",
     "output_type": "stream",
     "text": [
      "Open the following URL in browser for the external authentication:\n",
      "https://starburst.g8s-data-platform-prod.glovoint.com/oauth2/token/initiate/0b3822797bc581b06eb29940fe207950baed44927506d746d45a457dae2eeae3\n",
      "pna_bot_info\n"
     ]
    },
    {
     "name": "stderr",
     "output_type": "stream",
     "text": [
      "c:\\Users/Jordi Cremades/Documents/Repos/central-node\\utils\\query_engines.py:235: UserWarning: pandas only supports SQLAlchemy connectable (engine/connection) or database string URI or sqlite3 DBAPI2 connection. Other DBAPI2 objects are not tested. Please consider using SQLAlchemy.\n",
      "  df = pd.read_sql(self.tp__read_query, conn)\n"
     ]
    },
    {
     "name": "stdout",
     "output_type": "stream",
     "text": [
      "Open the following URL in browser for the external authentication:\n",
      "https://starburst.g8s-data-platform-prod.glovoint.com/oauth2/token/initiate/59167d6a992f72b8cbaf23b09088844b1ba20f06c6ccdaa3371930cadfc2d5b9\n",
      "pna_bot_gmv_info\n"
     ]
    },
    {
     "name": "stderr",
     "output_type": "stream",
     "text": [
      "c:\\Users/Jordi Cremades/Documents/Repos/central-node\\utils\\query_engines.py:235: UserWarning: pandas only supports SQLAlchemy connectable (engine/connection) or database string URI or sqlite3 DBAPI2 connection. Other DBAPI2 objects are not tested. Please consider using SQLAlchemy.\n",
      "  df = pd.read_sql(self.tp__read_query, conn)\n"
     ]
    },
    {
     "name": "stdout",
     "output_type": "stream",
     "text": [
      "Open the following URL in browser for the external authentication:\n",
      "https://starburst.g8s-data-platform-prod.glovoint.com/oauth2/token/initiate/86c57a296460cdbf10efffed77c0ad0cfcca73f97f630c7d116d6bc6960fadd0\n",
      "replacement_engine_info\n"
     ]
    },
    {
     "name": "stderr",
     "output_type": "stream",
     "text": [
      "c:\\Users/Jordi Cremades/Documents/Repos/central-node\\utils\\query_engines.py:235: UserWarning: pandas only supports SQLAlchemy connectable (engine/connection) or database string URI or sqlite3 DBAPI2 connection. Other DBAPI2 objects are not tested. Please consider using SQLAlchemy.\n",
      "  df = pd.read_sql(self.tp__read_query, conn)\n"
     ]
    },
    {
     "name": "stdout",
     "output_type": "stream",
     "text": [
      "Open the following URL in browser for the external authentication:\n",
      "https://starburst.g8s-data-platform-prod.glovoint.com/oauth2/token/initiate/d06004efd2f044acf4392e7e22f77194739354167cd9cfea82a7fb68c9debf0e\n",
      "replacement_engine_info_dh\n"
     ]
    },
    {
     "name": "stderr",
     "output_type": "stream",
     "text": [
      "c:\\Users/Jordi Cremades/Documents/Repos/central-node\\utils\\query_engines.py:235: UserWarning: pandas only supports SQLAlchemy connectable (engine/connection) or database string URI or sqlite3 DBAPI2 connection. Other DBAPI2 objects are not tested. Please consider using SQLAlchemy.\n",
      "  df = pd.read_sql(self.tp__read_query, conn)\n"
     ]
    },
    {
     "name": "stdout",
     "output_type": "stream",
     "text": [
      "Open the following URL in browser for the external authentication:\n",
      "https://starburst.g8s-data-platform-prod.glovoint.com/oauth2/token/initiate/3581fd6d84bc49b7e91c8a519ec5841770c88f6e35b97c036138900b33d6bce4\n"
     ]
    }
   ],
   "source": [
    "DAYS_IN_ADVANCE = \"8\"\n",
    "\n",
    "params = [\n",
    "    {'name':'days_in_advance', 'value': DAYS_IN_ADVANCE},\n",
    "]\n",
    "\n",
    "q = query_engines.QueryEngines(\n",
    "    reset_query_logs=True\n",
    "    ,reset_to_load=True\n",
    ")\n",
    "\n",
    "# calendar\n",
    "print('calendar')\n",
    "q.prepare_query('calendar.sql',params=params) \n",
    "df1  = q.query_run_starburst(output_file='calendar',load_from_output_file=None,print_query=False)\n",
    "\n",
    "# active_partners\n",
    "print('active_partners')\n",
    "q.prepare_query('active_partners.sql',params=params) \n",
    "df2  = q.query_run_starburst(output_file='active_partners',load_from_output_file=None,print_query=False)\n",
    "\n",
    "# bought_products_v2\n",
    "print('bought_products_v2')\n",
    "q.prepare_query('bought_products_v2.sql',params=params) \n",
    "df3  = q.query_run_starburst(output_file='bought_products_v2',load_from_output_file=None,print_query=False)\n",
    "\n",
    "# dynamic_sessions_v1\n",
    "print('dynamic_sessions_v1')\n",
    "q.prepare_query('dynamic_sessions_v1.sql',params=params) \n",
    "df4  = q.query_run_starburst(output_file='dynamic_sessions_v1',load_from_output_file=None,print_query=False)\n",
    "\n",
    "# fct_contact_intent\n",
    "print('fct_contact_intent')\n",
    "q.prepare_query('fct_contact_intent.sql',params=params) \n",
    "df5  = q.query_run_starburst(output_file='fct_contact_intent',load_from_output_file=None,print_query=False)\n",
    "\n",
    "# first_order_levels\n",
    "print('first_order_levels')\n",
    "q.prepare_query('first_order_levels.sql',params=params) \n",
    "df6  = q.query_run_starburst(output_file='first_order_levels',load_from_output_file=None,print_query=False)\n",
    "\n",
    "# groceries_top_partners\n",
    "print('groceries_top_partners')\n",
    "q.prepare_query('groceries_top_partners.sql',params=params) \n",
    "df7  = q.query_run_starburst(output_file='groceries_top_partners',load_from_output_file=None,print_query=False)\n",
    "\n",
    "# order_descriptors_v2\n",
    "print('order_descriptors_v2')\n",
    "q.prepare_query('order_descriptors_v2.sql',params=params) \n",
    "df8  = q.query_run_starburst(output_file='order_descriptors_v2',load_from_output_file=None,print_query=False)\n",
    "\n",
    "# orders_gmv_variation\n",
    "print('orders_gmv_variation')\n",
    "q.prepare_query('orders_gmv_variation.sql',params=params) \n",
    "df9  = q.query_run_starburst(output_file='orders_gmv_variation',load_from_output_file=None,print_query=False)\n",
    "\n",
    "# products_gmv_variation\n",
    "print('products_gmv_variation')\n",
    "q.prepare_query('products_gmv_variation.sql',params=params) \n",
    "df10  = q.query_run_starburst(output_file='products_gmv_variation',load_from_output_file=None,print_query=False)\n",
    "\n",
    "# order_refund_incidents\n",
    "print('order_refund_incidents')\n",
    "q.prepare_query('order_refund_incidents.sql',params=params) \n",
    "df11  = q.query_run_starburst(output_file='order_refund_incidents',load_from_output_file=None,print_query=False)\n",
    "\n",
    "# pna_orders_info\n",
    "print('pna_orders_info')\n",
    "q.prepare_query('pna_orders_info.sql',params=params) \n",
    "df12  = q.query_run_starburst(output_file='pna_orders_info',load_from_output_file=None,print_query=False)\n",
    "\n",
    "# pna_products_info\n",
    "print('pna_products_info')\n",
    "q.prepare_query('pna_products_info.sql',params=params) \n",
    "df13  = q.query_run_starburst(output_file='pna_products_info',load_from_output_file=None,print_query=False)\n",
    "\n",
    "# product_availability_v2\n",
    "print('product_availability_v2')\n",
    "q.prepare_query('product_availability_v2.sql',params=params) \n",
    "df14  = q.query_run_starburst(output_file='product_availability_v2',load_from_output_file=None,print_query=False)\n",
    "\n",
    "# product_collections_flattened_v2\n",
    "print('product_collections_flattened_v2')\n",
    "q.prepare_query('product_collections_flattened_v2.sql',params=params) \n",
    "df15  = q.query_run_starburst(output_file='product_collections_flattened_v2',load_from_output_file=None,print_query=False)\n",
    "\n",
    "# products_v2_daily\n",
    "print('products_v2_daily')\n",
    "q.prepare_query('products_v2_daily.sql',params=params) \n",
    "df16  = q.query_run_starburst(output_file='products_v2_daily',load_from_output_file=None,print_query=False)\n",
    "\n",
    "# retention_order_info\n",
    "print('retention_order_info')\n",
    "q.prepare_query('retention_order_info.sql',params=params) \n",
    "df17  = q.query_run_starburst(output_file='retention_order_info',load_from_output_file=None,print_query=False)\n",
    "\n",
    "# sessions_nc_rc\n",
    "print('sessions_nc_rc')\n",
    "q.prepare_query('sessions_nc_rc.sql',params=params) \n",
    "df18  = q.query_run_starburst(output_file='sessions_nc_rc',load_from_output_file=None,print_query=False)\n",
    "\n",
    "# spm_ddp_info\n",
    "print('spm_ddp_info')\n",
    "q.prepare_query('spm_ddp_info.sql',params=params)\n",
    "df19  = q.query_run_starburst(output_file='spm_ddp_info',load_from_output_file=None,print_query=False)\n",
    "\n",
    "# store_address_product_stockout\n",
    "print('store_address_product_stockout')\n",
    "q.prepare_query('store_address_product_stockout.sql',params=params) \n",
    "df20  = q.query_run_starburst(output_file='store_address_product_stockout',load_from_output_file=None,print_query=False)\n",
    "\n",
    "# ----------------------------------------------------------------------------------------------------------------------\n",
    "\n",
    "# pna_bot_info\n",
    "print('pna_bot_info')\n",
    "q.prepare_query('pna_bot_info.sql',params=params)\n",
    "df_1  = q.query_run_starburst(output_file='pna_bot_info',load_from_output_file=None,print_query=False)\n",
    "\n",
    "# pna_bot_gmv_info\n",
    "print('pna_bot_gmv_info')\n",
    "q.prepare_query('pna_bot_gmv_info.sql',params=params)\n",
    "df_2  = q.query_run_starburst(output_file='pna_bot_gmv_info',load_from_output_file=None,print_query=False)\n",
    "\n",
    "# replacement_engine_info\n",
    "print('replacement_engine_info')\n",
    "q.prepare_query('replacement_engine_info.sql',params=params)\n",
    "df_3  = q.query_run_starburst(output_file='replacement_engine_info',load_from_output_file=None,print_query=False)\n",
    "\n",
    "# replacement_engine_info_dh\n",
    "print('replacement_engine_info_dh')\n",
    "q.prepare_query('replacement_engine_info_dh.sql',params=params)\n",
    "df_4  = q.query_run_starburst(output_file='replacement_engine_info_dh',load_from_output_file=None,print_query=False)"
   ]
  },
  {
   "cell_type": "markdown",
   "metadata": {},
   "source": [
    "## DDP_tracker_1"
   ]
  },
  {
   "cell_type": "code",
   "execution_count": 48,
   "metadata": {},
   "outputs": [],
   "source": [
    "dataframes = [df2, df3, df4, df5, df6, df7, df8, df9, df10, df11, df12, df13, df14, df15, df16, df17, df18, df19, df20]\n",
    "\n",
    "merged_df = df1.copy()\n",
    "\n",
    "for df in dataframes:\n",
    "    if not df.empty:\n",
    "        merged_df = pd.merge(merged_df, df, on='p_creation_date', how='left')\n",
    "\n",
    "for col in merged_df.columns:\n",
    "    if merged_df[col].dtype == 'float64':\n",
    "        merged_df[col] = merged_df[col].fillna(0).astype(int)\n",
    "        \n",
    "pivot_table = merged_df.set_index('p_creation_date').T\n",
    "\n",
    "pivot_table.to_csv('ddp_tracker_1.csv')"
   ]
  },
  {
   "cell_type": "markdown",
   "metadata": {},
   "source": [
    "## DDP_tracker_2"
   ]
  },
  {
   "cell_type": "code",
   "execution_count": 58,
   "metadata": {},
   "outputs": [],
   "source": [
    "dataframes = [df_1, df_2, df_3, df_4]\n",
    "\n",
    "merged_df = pd.concat(dataframes, axis=1)\n",
    "\n",
    "merged_df.to_csv('ddp_tracker_2.csv', index=False)"
   ]
  },
  {
   "cell_type": "markdown",
   "metadata": {},
   "source": [
    "## Events tracker"
   ]
  },
  {
   "cell_type": "markdown",
   "metadata": {},
   "source": [
    "### Loyalty Cards"
   ]
  },
  {
   "cell_type": "code",
   "execution_count": 85,
   "metadata": {},
   "outputs": [
    {
     "name": "stderr",
     "output_type": "stream",
     "text": [
      "c:\\Users/Jordi Cremades/Documents/Repos/central-node\\utils\\query_engines.py:235: UserWarning: pandas only supports SQLAlchemy connectable (engine/connection) or database string URI or sqlite3 DBAPI2 connection. Other DBAPI2 objects are not tested. Please consider using SQLAlchemy.\n",
      "  df = pd.read_sql(self.tp__read_query, conn)\n"
     ]
    },
    {
     "name": "stdout",
     "output_type": "stream",
     "text": [
      "Open the following URL in browser for the external authentication:\n",
      "https://starburst.g8s-data-platform-prod.glovoint.com/oauth2/token/initiate/2695ae4d506902535e0291731774f2b538256b14d9d6b85bdd4bc3e747160125\n"
     ]
    }
   ],
   "source": [
    "#tooltip_impression\n",
    "q.prepare_query('events/tooltip_impression.sql',params=params)\n",
    "df  = q.query_run_starburst(output_file='tooltip_impression',load_from_output_file=None,print_query=False)\n",
    "\n",
    "pivoted_df = df.pivot_table(index=['event_name', 'custom_attributes'], \n",
    "                            columns='p_creation_date', \n",
    "                            values='count_tooltip_impression')\n",
    "\n",
    "pivoted_df.sort_values(by='event_name', inplace=True)\n",
    "\n",
    "pivoted_df.to_csv('event_loyalty_cards_tooltip_impression.csv', index='False')"
   ]
  }
 ],
 "metadata": {
  "kernelspec": {
   "display_name": ".venv",
   "language": "python",
   "name": "python3"
  },
  "language_info": {
   "codemirror_mode": {
    "name": "ipython",
    "version": 3
   },
   "file_extension": ".py",
   "mimetype": "text/x-python",
   "name": "python",
   "nbconvert_exporter": "python",
   "pygments_lexer": "ipython3",
   "version": "3.12.0"
  }
 },
 "nbformat": 4,
 "nbformat_minor": 2
}
