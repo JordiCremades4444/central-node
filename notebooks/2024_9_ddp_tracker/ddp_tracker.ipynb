{
 "cells": [
  {
   "cell_type": "markdown",
   "metadata": {},
   "source": [
    "# DDP tracker"
   ]
  },
  {
   "cell_type": "markdown",
   "metadata": {},
   "source": [
    "## Config"
   ]
  },
  {
   "cell_type": "code",
   "execution_count": 34,
   "metadata": {},
   "outputs": [],
   "source": [
    "import itertools\n",
    "import matplotlib.pyplot as plt\n",
    "import pandas as pd\n",
    "import os\n",
    "import seaborn as sns\n",
    "import sys\n",
    "\n",
    "sys.path.append('c:/Users/Jordi Cremades/Documents/Repos/central-node')\n",
    "\n",
    "from utils import query_engines"
   ]
  },
  {
   "cell_type": "markdown",
   "metadata": {},
   "source": [
    "## Queries"
   ]
  },
  {
   "cell_type": "code",
   "execution_count": 44,
   "metadata": {},
   "outputs": [
    {
     "name": "stderr",
     "output_type": "stream",
     "text": [
      "c:\\Users/Jordi Cremades/Documents/Repos/central-node\\utils\\query_engines.py:235: UserWarning: pandas only supports SQLAlchemy connectable (engine/connection) or database string URI or sqlite3 DBAPI2 connection. Other DBAPI2 objects are not tested. Please consider using SQLAlchemy.\n",
      "  df = pd.read_sql(self.tp__read_query, conn)\n"
     ]
    },
    {
     "name": "stdout",
     "output_type": "stream",
     "text": [
      "Open the following URL in browser for the external authentication:\n",
      "https://starburst.g8s-data-platform-prod.glovoint.com/oauth2/token/initiate/792e21e9a91d7f31db25eec0673acbe8e4c1d6c02126a3dba646044ec95b70c2\n"
     ]
    },
    {
     "name": "stderr",
     "output_type": "stream",
     "text": [
      "c:\\Users/Jordi Cremades/Documents/Repos/central-node\\utils\\query_engines.py:235: UserWarning: pandas only supports SQLAlchemy connectable (engine/connection) or database string URI or sqlite3 DBAPI2 connection. Other DBAPI2 objects are not tested. Please consider using SQLAlchemy.\n",
      "  df = pd.read_sql(self.tp__read_query, conn)\n"
     ]
    },
    {
     "name": "stdout",
     "output_type": "stream",
     "text": [
      "Open the following URL in browser for the external authentication:\n",
      "https://starburst.g8s-data-platform-prod.glovoint.com/oauth2/token/initiate/3fb69b22ff395c3c9006670a4feb082e503e58077eaa6af899ddd6449e85d65b\n"
     ]
    },
    {
     "name": "stderr",
     "output_type": "stream",
     "text": [
      "c:\\Users/Jordi Cremades/Documents/Repos/central-node\\utils\\query_engines.py:235: UserWarning: pandas only supports SQLAlchemy connectable (engine/connection) or database string URI or sqlite3 DBAPI2 connection. Other DBAPI2 objects are not tested. Please consider using SQLAlchemy.\n",
      "  df = pd.read_sql(self.tp__read_query, conn)\n"
     ]
    },
    {
     "name": "stdout",
     "output_type": "stream",
     "text": [
      "Open the following URL in browser for the external authentication:\n",
      "https://starburst.g8s-data-platform-prod.glovoint.com/oauth2/token/initiate/9b00f9a4e3b582ff40f757a5dafa3db6d76764455c0cf68cd2e79dea8bcda297\n"
     ]
    },
    {
     "name": "stderr",
     "output_type": "stream",
     "text": [
      "c:\\Users/Jordi Cremades/Documents/Repos/central-node\\utils\\query_engines.py:235: UserWarning: pandas only supports SQLAlchemy connectable (engine/connection) or database string URI or sqlite3 DBAPI2 connection. Other DBAPI2 objects are not tested. Please consider using SQLAlchemy.\n",
      "  df = pd.read_sql(self.tp__read_query, conn)\n"
     ]
    },
    {
     "name": "stdout",
     "output_type": "stream",
     "text": [
      "Open the following URL in browser for the external authentication:\n",
      "https://starburst.g8s-data-platform-prod.glovoint.com/oauth2/token/initiate/b3b54091565cf600c7a3afae9a2f43d1b9845a8e2f0005015dd8ef971fa32b84\n"
     ]
    },
    {
     "name": "stderr",
     "output_type": "stream",
     "text": [
      "c:\\Users/Jordi Cremades/Documents/Repos/central-node\\utils\\query_engines.py:235: UserWarning: pandas only supports SQLAlchemy connectable (engine/connection) or database string URI or sqlite3 DBAPI2 connection. Other DBAPI2 objects are not tested. Please consider using SQLAlchemy.\n",
      "  df = pd.read_sql(self.tp__read_query, conn)\n"
     ]
    },
    {
     "name": "stdout",
     "output_type": "stream",
     "text": [
      "Open the following URL in browser for the external authentication:\n",
      "https://starburst.g8s-data-platform-prod.glovoint.com/oauth2/token/initiate/71612bb6f159a00e9edac2a2e001ef2bc13ec640d8cb7a8b3deaa6bd604fd2c2\n"
     ]
    },
    {
     "name": "stderr",
     "output_type": "stream",
     "text": [
      "c:\\Users/Jordi Cremades/Documents/Repos/central-node\\utils\\query_engines.py:235: UserWarning: pandas only supports SQLAlchemy connectable (engine/connection) or database string URI or sqlite3 DBAPI2 connection. Other DBAPI2 objects are not tested. Please consider using SQLAlchemy.\n",
      "  df = pd.read_sql(self.tp__read_query, conn)\n"
     ]
    },
    {
     "name": "stdout",
     "output_type": "stream",
     "text": [
      "Open the following URL in browser for the external authentication:\n",
      "https://starburst.g8s-data-platform-prod.glovoint.com/oauth2/token/initiate/36d4aa64914cbb366f95fb00766305f347c13ca696758c1bb13384a41a65da3f\n"
     ]
    },
    {
     "name": "stderr",
     "output_type": "stream",
     "text": [
      "c:\\Users/Jordi Cremades/Documents/Repos/central-node\\utils\\query_engines.py:235: UserWarning: pandas only supports SQLAlchemy connectable (engine/connection) or database string URI or sqlite3 DBAPI2 connection. Other DBAPI2 objects are not tested. Please consider using SQLAlchemy.\n",
      "  df = pd.read_sql(self.tp__read_query, conn)\n"
     ]
    },
    {
     "name": "stdout",
     "output_type": "stream",
     "text": [
      "Open the following URL in browser for the external authentication:\n",
      "https://starburst.g8s-data-platform-prod.glovoint.com/oauth2/token/initiate/d6b0558cb398ba60905bd0752cc3498549ff4debf9b2e796db0dfefa4296d846\n"
     ]
    },
    {
     "name": "stderr",
     "output_type": "stream",
     "text": [
      "c:\\Users/Jordi Cremades/Documents/Repos/central-node\\utils\\query_engines.py:235: UserWarning: pandas only supports SQLAlchemy connectable (engine/connection) or database string URI or sqlite3 DBAPI2 connection. Other DBAPI2 objects are not tested. Please consider using SQLAlchemy.\n",
      "  df = pd.read_sql(self.tp__read_query, conn)\n"
     ]
    },
    {
     "name": "stdout",
     "output_type": "stream",
     "text": [
      "Open the following URL in browser for the external authentication:\n",
      "https://starburst.g8s-data-platform-prod.glovoint.com/oauth2/token/initiate/6cbaaf13ccc7c8e26c6e7e501f37ba35760a25963be6045d0ef83771b1d2d324\n"
     ]
    },
    {
     "name": "stderr",
     "output_type": "stream",
     "text": [
      "c:\\Users/Jordi Cremades/Documents/Repos/central-node\\utils\\query_engines.py:235: UserWarning: pandas only supports SQLAlchemy connectable (engine/connection) or database string URI or sqlite3 DBAPI2 connection. Other DBAPI2 objects are not tested. Please consider using SQLAlchemy.\n",
      "  df = pd.read_sql(self.tp__read_query, conn)\n"
     ]
    },
    {
     "name": "stdout",
     "output_type": "stream",
     "text": [
      "Open the following URL in browser for the external authentication:\n",
      "https://starburst.g8s-data-platform-prod.glovoint.com/oauth2/token/initiate/3f33f10c45e7d4ebd1c14e1a169072a05d69a55dc891b6edfa08cf80f793d013\n"
     ]
    },
    {
     "name": "stderr",
     "output_type": "stream",
     "text": [
      "c:\\Users/Jordi Cremades/Documents/Repos/central-node\\utils\\query_engines.py:235: UserWarning: pandas only supports SQLAlchemy connectable (engine/connection) or database string URI or sqlite3 DBAPI2 connection. Other DBAPI2 objects are not tested. Please consider using SQLAlchemy.\n",
      "  df = pd.read_sql(self.tp__read_query, conn)\n"
     ]
    },
    {
     "name": "stdout",
     "output_type": "stream",
     "text": [
      "Open the following URL in browser for the external authentication:\n",
      "https://starburst.g8s-data-platform-prod.glovoint.com/oauth2/token/initiate/92a3b7d8e272781bb8be3001e30b3048228d539727c41a85d3665d0efa7c4490\n"
     ]
    },
    {
     "name": "stderr",
     "output_type": "stream",
     "text": [
      "c:\\Users/Jordi Cremades/Documents/Repos/central-node\\utils\\query_engines.py:235: UserWarning: pandas only supports SQLAlchemy connectable (engine/connection) or database string URI or sqlite3 DBAPI2 connection. Other DBAPI2 objects are not tested. Please consider using SQLAlchemy.\n",
      "  df = pd.read_sql(self.tp__read_query, conn)\n"
     ]
    },
    {
     "name": "stdout",
     "output_type": "stream",
     "text": [
      "Open the following URL in browser for the external authentication:\n",
      "https://starburst.g8s-data-platform-prod.glovoint.com/oauth2/token/initiate/d5ad0ed0f63294935b6f64b871eb636081a1b49a549550bfed60ed8dfd831f11\n"
     ]
    },
    {
     "name": "stderr",
     "output_type": "stream",
     "text": [
      "c:\\Users/Jordi Cremades/Documents/Repos/central-node\\utils\\query_engines.py:235: UserWarning: pandas only supports SQLAlchemy connectable (engine/connection) or database string URI or sqlite3 DBAPI2 connection. Other DBAPI2 objects are not tested. Please consider using SQLAlchemy.\n",
      "  df = pd.read_sql(self.tp__read_query, conn)\n"
     ]
    },
    {
     "name": "stdout",
     "output_type": "stream",
     "text": [
      "Open the following URL in browser for the external authentication:\n",
      "https://starburst.g8s-data-platform-prod.glovoint.com/oauth2/token/initiate/465c123d8bde4aee222918ba1fbd06cd0a8ba4706431ea2b28a5d3239730e027\n"
     ]
    },
    {
     "name": "stderr",
     "output_type": "stream",
     "text": [
      "c:\\Users/Jordi Cremades/Documents/Repos/central-node\\utils\\query_engines.py:235: UserWarning: pandas only supports SQLAlchemy connectable (engine/connection) or database string URI or sqlite3 DBAPI2 connection. Other DBAPI2 objects are not tested. Please consider using SQLAlchemy.\n",
      "  df = pd.read_sql(self.tp__read_query, conn)\n"
     ]
    },
    {
     "name": "stdout",
     "output_type": "stream",
     "text": [
      "Open the following URL in browser for the external authentication:\n",
      "https://starburst.g8s-data-platform-prod.glovoint.com/oauth2/token/initiate/738fa49748757c8226c867e9040049015484dd6d144dd12c799e8d5b2ee49624\n"
     ]
    },
    {
     "name": "stderr",
     "output_type": "stream",
     "text": [
      "c:\\Users/Jordi Cremades/Documents/Repos/central-node\\utils\\query_engines.py:235: UserWarning: pandas only supports SQLAlchemy connectable (engine/connection) or database string URI or sqlite3 DBAPI2 connection. Other DBAPI2 objects are not tested. Please consider using SQLAlchemy.\n",
      "  df = pd.read_sql(self.tp__read_query, conn)\n"
     ]
    },
    {
     "name": "stdout",
     "output_type": "stream",
     "text": [
      "Open the following URL in browser for the external authentication:\n",
      "https://starburst.g8s-data-platform-prod.glovoint.com/oauth2/token/initiate/24bea9fd729163d7bbadbe32ee8cd375fc1241c98bab3fe9bd2b3fc0a240e40f\n"
     ]
    },
    {
     "name": "stderr",
     "output_type": "stream",
     "text": [
      "c:\\Users/Jordi Cremades/Documents/Repos/central-node\\utils\\query_engines.py:235: UserWarning: pandas only supports SQLAlchemy connectable (engine/connection) or database string URI or sqlite3 DBAPI2 connection. Other DBAPI2 objects are not tested. Please consider using SQLAlchemy.\n",
      "  df = pd.read_sql(self.tp__read_query, conn)\n"
     ]
    },
    {
     "name": "stdout",
     "output_type": "stream",
     "text": [
      "Open the following URL in browser for the external authentication:\n",
      "https://starburst.g8s-data-platform-prod.glovoint.com/oauth2/token/initiate/7129ab7426aebad75b95a0b93e6e994d6533753e740c43dac3fda870b5dc06b8\n"
     ]
    },
    {
     "name": "stderr",
     "output_type": "stream",
     "text": [
      "c:\\Users/Jordi Cremades/Documents/Repos/central-node\\utils\\query_engines.py:235: UserWarning: pandas only supports SQLAlchemy connectable (engine/connection) or database string URI or sqlite3 DBAPI2 connection. Other DBAPI2 objects are not tested. Please consider using SQLAlchemy.\n",
      "  df = pd.read_sql(self.tp__read_query, conn)\n"
     ]
    },
    {
     "name": "stdout",
     "output_type": "stream",
     "text": [
      "Open the following URL in browser for the external authentication:\n",
      "https://starburst.g8s-data-platform-prod.glovoint.com/oauth2/token/initiate/8a1a4a4edf3a591d4efefa42c274460ba39a5979604b2d46f7e574f4aef1b401\n"
     ]
    },
    {
     "name": "stderr",
     "output_type": "stream",
     "text": [
      "c:\\Users/Jordi Cremades/Documents/Repos/central-node\\utils\\query_engines.py:235: UserWarning: pandas only supports SQLAlchemy connectable (engine/connection) or database string URI or sqlite3 DBAPI2 connection. Other DBAPI2 objects are not tested. Please consider using SQLAlchemy.\n",
      "  df = pd.read_sql(self.tp__read_query, conn)\n"
     ]
    },
    {
     "name": "stdout",
     "output_type": "stream",
     "text": [
      "Open the following URL in browser for the external authentication:\n",
      "https://starburst.g8s-data-platform-prod.glovoint.com/oauth2/token/initiate/441343b5812233774a23c720da91d441c48c5d00cb6de402dee3006e9d6281b4\n"
     ]
    },
    {
     "name": "stderr",
     "output_type": "stream",
     "text": [
      "c:\\Users/Jordi Cremades/Documents/Repos/central-node\\utils\\query_engines.py:235: UserWarning: pandas only supports SQLAlchemy connectable (engine/connection) or database string URI or sqlite3 DBAPI2 connection. Other DBAPI2 objects are not tested. Please consider using SQLAlchemy.\n",
      "  df = pd.read_sql(self.tp__read_query, conn)\n"
     ]
    },
    {
     "name": "stdout",
     "output_type": "stream",
     "text": [
      "Open the following URL in browser for the external authentication:\n",
      "https://starburst.g8s-data-platform-prod.glovoint.com/oauth2/token/initiate/c428b58fff1f4f956b1fb55f87dfe043aaaa4bb2e343f114db3c0219e7af386d\n"
     ]
    }
   ],
   "source": [
    "DAYS_IN_ADVANCE = \"14\"\n",
    "\n",
    "params = [\n",
    "    {'name':'days_in_advance', 'value': DAYS_IN_ADVANCE},\n",
    "]\n",
    "\n",
    "q = query_engines.QueryEngines(\n",
    "    reset_query_logs=True\n",
    "    ,reset_to_load=True\n",
    ")\n",
    "\n",
    "# calendar\n",
    "q.prepare_query('calendar.sql',params=params)\n",
    "df1  = q.query_run_starburst(output_file='calendar',load_from_output_file=None,print_query=False)\n",
    "\n",
    "# active_partners\n",
    "q.prepare_query('active_partners.sql',params=params)\n",
    "df2  = q.query_run_starburst(output_file='active_partners',load_from_output_file=None,print_query=False)\n",
    "\n",
    "# bought_products_v2\n",
    "q.prepare_query('bought_products_v2.sql',params=params)\n",
    "df3  = q.query_run_starburst(output_file='bought_products_v2',load_from_output_file=None,print_query=False)\n",
    "\n",
    "# dynamic_sessions_v1\n",
    "q.prepare_query('dynamic_sessions_v1.sql',params=params)\n",
    "df4  = q.query_run_starburst(output_file='dynamic_sessions_v1',load_from_output_file=None,print_query=False)\n",
    "\n",
    "# fct_contact_intent\n",
    "q.prepare_query('fct_contact_intent.sql',params=params)\n",
    "df5  = q.query_run_starburst(output_file='fct_contact_intent',load_from_output_file=None,print_query=False)\n",
    "\n",
    "# first_order_levels\n",
    "q.prepare_query('first_order_levels.sql',params=params)\n",
    "df6  = q.query_run_starburst(output_file='first_order_levels',load_from_output_file=None,print_query=False)\n",
    "\n",
    "# groceries_top_partners\n",
    "q.prepare_query('groceries_top_partners.sql',params=params)\n",
    "df7  = q.query_run_starburst(output_file='groceries_top_partners',load_from_output_file=None,print_query=False)\n",
    "\n",
    "# order_descriptors_v2\n",
    "q.prepare_query('order_descriptors_v2.sql',params=params)\n",
    "df8  = q.query_run_starburst(output_file='order_descriptors_v2',load_from_output_file=None,print_query=False)\n",
    "\n",
    "# order_refund_incidents\n",
    "q.prepare_query('order_refund_incidents.sql',params=params)\n",
    "df9  = q.query_run_starburst(output_file='order_refund_incidents',load_from_output_file=None,print_query=False)\n",
    "\n",
    "# pna_orders_info\n",
    "q.prepare_query('pna_orders_info.sql',params=params)\n",
    "df10  = q.query_run_starburst(output_file='pna_orders_info',load_from_output_file=None,print_query=False)\n",
    "\n",
    "# pna_products_info\n",
    "q.prepare_query('pna_products_info.sql',params=params)\n",
    "df11  = q.query_run_starburst(output_file='pna_products_info',load_from_output_file=None,print_query=False)\n",
    "\n",
    "# product_availability_v2\n",
    "q.prepare_query('product_availability_v2.sql',params=params)\n",
    "df12  = q.query_run_starburst(output_file='product_availability_v2',load_from_output_file=None,print_query=False)\n",
    "\n",
    "# product_collections_flattened_v2\n",
    "q.prepare_query('product_collections_flattened_v2.sql',params=params)\n",
    "df13  = q.query_run_starburst(output_file='product_availability_v2',load_from_output_file=None,print_query=False)\n",
    "\n",
    "# products_v2_daily\n",
    "q.prepare_query('products_v2_daily.sql',params=params)\n",
    "df14  = q.query_run_starburst(output_file='products_v2_daily',load_from_output_file=None,print_query=False)\n",
    "\n",
    "# retention_order_info\n",
    "q.prepare_query('retention_order_info.sql',params=params)\n",
    "df15  = q.query_run_starburst(output_file='retention_order_info',load_from_output_file=None,print_query=False)\n",
    "\n",
    "# sessions_nc_rc\n",
    "q.prepare_query('sessions_nc_rc.sql',params=params)\n",
    "df16  = q.query_run_starburst(output_file='sessions_nc_rc',load_from_output_file=None,print_query=False)\n",
    "\n",
    "# spm_ddp_info\n",
    "q.prepare_query('spm_ddp_info.sql',params=params)\n",
    "df17  = q.query_run_starburst(output_file='spm_ddp_info',load_from_output_file=None,print_query=False)\n",
    "\n",
    "# store_address_product_stockout\n",
    "q.prepare_query('store_address_product_stockout.sql',params=params)\n",
    "df18  = q.query_run_starburst(output_file='store_address_product_stockout',load_from_output_file=None,print_query=False)"
   ]
  },
  {
   "cell_type": "markdown",
   "metadata": {},
   "source": [
    "# Merge dataframes"
   ]
  },
  {
   "cell_type": "code",
   "execution_count": 64,
   "metadata": {},
   "outputs": [
    {
     "data": {
      "text/plain": [
       "<Figure size 1600x800 with 0 Axes>"
      ]
     },
     "metadata": {},
     "output_type": "display_data"
    }
   ],
   "source": [
    "dataframes = [df2, df3, df4, df5, df6, df7, df8, df9, df10, df11, df12, df13, df14, df15, df16, df17, df18]\n",
    "\n",
    "merged_df = df1.copy()\n",
    "\n",
    "for df in dataframes:\n",
    "    merged_df = pd.merge(merged_df, df, on='p_creation_date', how='left')\n",
    "    \n",
    "# Ensure 'p_creation_date' is part of the plot\n",
    "p_creation_date = pd.to_datetime(merged_df['p_creation_date'])\n",
    "\n",
    "# Drop the 'p_creation_date' column as we don't want to normalize it\n",
    "data_to_plot = merged_df.drop(columns=['p_creation_date'])\n",
    "\n",
    "# Normalize each column by its mean\n",
    "data_normalized = data_to_plot.apply(lambda x: x / x.mean(), axis=0)\n",
    "\n",
    "# Create a second x-axis showing day of the week\n",
    "days_of_week = p_creation_date.dt.day_name()  # Convert to day of the week names\n",
    "\n",
    "# Set up figure size to accommodate more x-axis values (wider plot)\n",
    "fig, ax1 = plt.subplots(figsize=(16, 8))  # Increased width to fit more data points\n",
    "\n",
    "# Plot each column\n",
    "for i, column in enumerate(data_normalized.columns):\n",
    "    data_series = data_normalized[column]\n",
    "    \n",
    "    # Check if the series oscillates between 0.8 and 1.2\n",
    "    if data_series.between(0.7, 1.3).all():\n",
    "        # If it stays within the range, plot in black\n",
    "        ax1.plot(p_creation_date, data_series, label=column, color='black', linestyle='-')\n",
    "    else:\n",
    "        # Otherwise, apply color and line style logic\n",
    "        ax1.plot(p_creation_date, data_series, label=column)\n",
    "\n",
    "# Set the title and labels\n",
    "ax1.set_title('Normalized Line Plot of All Columns (Normalized by Mean)', fontsize=16)\n",
    "ax1.set_xlabel('p_creation_date', fontsize=14)\n",
    "ax1.set_ylabel('Normalized Values', fontsize=14)\n",
    "\n",
    "# Add a grey vertical gridline for each date\n",
    "ax1.grid(True, which='both', axis='x', linestyle='--', color='grey', alpha=0.6)\n",
    "\n",
    "# Set all x-ticks to be p_creation_date values\n",
    "ax1.set_xticks(p_creation_date)\n",
    "ax1.set_xticklabels(p_creation_date.dt.strftime('%Y-%m-%d'), rotation=45)\n",
    "\n",
    "# Add a second x-axis for day of the week\n",
    "ax2 = ax1.twiny()  # Create a second x-axis that shares the same y-axis\n",
    "ax2.set_xlim(ax1.get_xlim())  # Align the second x-axis with the first one\n",
    "ax2.set_xticks(p_creation_date)  # Set ticks at the same positions as p_creation_date\n",
    "ax2.set_xticklabels(days_of_week, rotation=45)  # Label ticks with the days of the week\n",
    "ax2.set_xlabel('Day of the Week', fontsize=14)\n",
    "\n",
    "# Add a legend outside the plot\n",
    "ax1.legend(loc='center left', bbox_to_anchor=(1, 0.5))  # Legend outside the plot\n",
    "\n",
    "# Adjust layout to make space for the legend and second x-axis\n",
    "plt.tight_layout(rect=[0, 0, 0.85, 1])\n",
    "\n",
    "# Define output directory and file path\n",
    "output_dir = 'outputs'\n",
    "output_file = os.path.join(output_dir, 'ddp_tracker.png')\n",
    "\n",
    "# Save the plot to the file in the 'outputs' folder\n",
    "plt.savefig(output_file, format='png')\n",
    "\n",
    "plt.clf()"
   ]
  },
  {
   "cell_type": "code",
   "execution_count": null,
   "metadata": {},
   "outputs": [],
   "source": []
  }
 ],
 "metadata": {
  "kernelspec": {
   "display_name": ".venv",
   "language": "python",
   "name": "python3"
  },
  "language_info": {
   "codemirror_mode": {
    "name": "ipython",
    "version": 3
   },
   "file_extension": ".py",
   "mimetype": "text/x-python",
   "name": "python",
   "nbconvert_exporter": "python",
   "pygments_lexer": "ipython3",
   "version": "3.12.0"
  }
 },
 "nbformat": 4,
 "nbformat_minor": 2
}
