{
 "cells": [
  {
   "cell_type": "markdown",
   "metadata": {},
   "source": [
    "# MDE for PNA PENNY initial experiment"
   ]
  },
  {
   "cell_type": "code",
   "execution_count": 61,
   "metadata": {},
   "outputs": [],
   "source": [
    "import matplotlib.pyplot as plt\n",
    "import numpy as np\n",
    "import os\n",
    "import pandas as pd\n",
    "import seaborn as sns\n",
    "import sys\n",
    "\n",
    "# Move two levels up (to the project root) and append the `src` folder\n",
    "src_path = os.path.abspath(os.path.join(os.getcwd(), '..', '..'))\n",
    "\n",
    "# Append src to sys.path\n",
    "sys.path.append(src_path)\n",
    "\n",
    "# Path for customer data analytics repo\n",
    "base_path = '/Users/jordicremades/Documents/repos/customer-data-analytics/'\n",
    "sys.path.insert(1, os.path.join(base_path, 'General/AB-tests/MDE'))\n",
    "sys.path.insert(2, os.path.join(base_path, 'General/AB-tests'))\n",
    "\n",
    "from src import query_engines\n",
    "\n",
    "q = query_engines.QueryEngines()\n",
    "\n",
    "# Imports for customer data analytics repo\n",
    "from fenix.statistical_tests import relative_ttest as t_test\n",
    "from fenix.run_experiment import ExperimentConfig, MDEConfig, ExperimentRunner\n",
    "from fenix.statistical_tests.stattools import StatisticalResult\n",
    "from fenix.tools.helpfuncs import mde_visualization\n",
    "from fenix.tools.helpfuncs import adjusted_alpha_multiple_comparison\n",
    "\n",
    "import transformations.transformation as tr\n",
    "import fenix.visual.graphs\n",
    "import fenix.tools.hashing as hashing"
   ]
  },
  {
   "cell_type": "markdown",
   "metadata": {},
   "source": [
    "## Query"
   ]
  },
  {
   "cell_type": "code",
   "execution_count": 59,
   "metadata": {},
   "outputs": [
    {
     "name": "stdout",
     "output_type": "stream",
     "text": [
      "Open the following URL in browser for the external authentication:\n",
      "https://starburst.g8s-data-platform-prod.glovoint.com/oauth2/token/initiate/b9591ede6e89045b9e10d0dfd11285f6e797111e93b8db7697dbd6f3e6009ea2\n"
     ]
    }
   ],
   "source": [
    "START_DATE  = \"'2024-10-01'\"\n",
    "END_DATE  = \"'2024-11-01'\"\n",
    "BUFFER = '60'\n",
    "\n",
    "params = [\n",
    "    {'name':'start_date', 'value': str(START_DATE)},\n",
    "    {'name':'end_date', 'value': str(END_DATE)},\n",
    "    {'name':'buffer', 'value': str(BUFFER)}\n",
    "]\n",
    "\n",
    "q.prepare_query('mde_pna.sql', params=params, to_load_file=None, load_from_to_load_file=None)\n",
    "\n",
    "df = q.query_run_starburst()"
   ]
  },
  {
   "cell_type": "code",
   "execution_count": 77,
   "metadata": {},
   "outputs": [],
   "source": [
    "# LTHO\n",
    "df['ltho'] = np.random.choice(['Control', 'Variant'], size = len(df), p=[0.9,0.10])\n",
    "ltho_variant = (df[df['ltho'] == 'Control']).copy()\n",
    "\n",
    "# Cart experiment\n",
    "ltho_variant['cart_experiment'] = np.random.choice(['Control', 'Variant'], size = len(ltho_variant), p=[0.5,0.5])\n",
    "cart_variant = (cart_variant[cart_variant['cart_experiment'] == 'Variant']).copy()\n",
    "\n",
    "# PNA experiment\n",
    "cart_variant['pna_experiment'] = np.random.choice(['Control', 'Variant'], size = len(cart_variant), p=[0.5,0.5])\n",
    "pna_variant = (cart_variant[cart_variant['pna_experiment'] == 'Variant']).copy()\n",
    "pna_control = (cart_variant[cart_variant['pna_experiment'] == 'Control']).copy()\n"
   ]
  },
  {
   "cell_type": "code",
   "execution_count": 84,
   "metadata": {},
   "outputs": [
    {
     "name": "stdout",
     "output_type": "stream",
     "text": [
      "Number of customers:  6683\n",
      "Number of ordres:  12895\n",
      "Number of products:  147860\n"
     ]
    }
   ],
   "source": [
    "print('Number of customers: ', pna_variant['customer_id'].nunique())\n",
    "print('Number of ordres: ', pna_variant['orders'].sum())\n",
    "print('Number of products: ', pna_variant['products'].sum())"
   ]
  },
  {
   "cell_type": "code",
   "execution_count": 85,
   "metadata": {},
   "outputs": [
    {
     "name": "stdout",
     "output_type": "stream",
     "text": [
      "Number of customers:  6633\n",
      "Number of ordres:  12734\n",
      "Number of products:  146736\n"
     ]
    }
   ],
   "source": [
    "print('Number of customers: ', pna_control['customer_id'].nunique())\n",
    "print('Number of ordres: ', pna_control['orders'].sum())\n",
    "print('Number of products: ', pna_control['products'].sum())"
   ]
  }
 ],
 "metadata": {
  "kernelspec": {
   "display_name": "venv",
   "language": "python",
   "name": "python3"
  },
  "language_info": {
   "codemirror_mode": {
    "name": "ipython",
    "version": 3
   },
   "file_extension": ".py",
   "mimetype": "text/x-python",
   "name": "python",
   "nbconvert_exporter": "python",
   "pygments_lexer": "ipython3",
   "version": "3.12.6"
  }
 },
 "nbformat": 4,
 "nbformat_minor": 2
}
