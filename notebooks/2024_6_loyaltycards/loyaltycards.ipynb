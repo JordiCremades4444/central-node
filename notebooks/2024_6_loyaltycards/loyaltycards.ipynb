{
 "cells": [
  {
   "cell_type": "markdown",
   "metadata": {},
   "source": [
    "# Loyalty Cards"
   ]
  },
  {
   "cell_type": "markdown",
   "metadata": {},
   "source": [
    "## Executive summary"
   ]
  },
  {
   "cell_type": "markdown",
   "metadata": {},
   "source": [
    "In this notebook I will perform the MDE for loyalty cards experiment"
   ]
  },
  {
   "cell_type": "markdown",
   "metadata": {},
   "source": [
    "## Config"
   ]
  },
  {
   "cell_type": "code",
   "execution_count": 2,
   "metadata": {},
   "outputs": [],
   "source": [
    "# import matplotlib.pyplot as  plt\n",
    "# import numpy as np\n",
    "import pandas as pd\n",
    "# import seaborn as sns\n",
    "import sys\n",
    "\n",
    "sys.path.append('c:\\\\Users\\\\Jordi Cremades\\\\Documents\\\\Repos\\\\central-node')\n",
    "\n",
    "# from utils import dataset_meta_stats\n",
    "# from utils import dataset_stats\n",
    "from utils import query_engines\n",
    "\n",
    "# dms = dataset_meta_stats.DatasetMetaStats() \n",
    "# ds = dataset_stats.DatasetStats()"
   ]
  },
  {
   "cell_type": "markdown",
   "metadata": {},
   "source": [
    "## [ ] Dataset"
   ]
  },
  {
   "cell_type": "code",
   "execution_count": 14,
   "metadata": {},
   "outputs": [
    {
     "name": "stderr",
     "output_type": "stream",
     "text": [
      "c:\\Users\\Jordi Cremades\\Documents\\Repos\\central-node\\utils\\query_engines.py:162: UserWarning: pandas only supports SQLAlchemy connectable (engine/connection) or database string URI or sqlite3 DBAPI2 connection. Other DBAPI2 objects are not tested. Please consider using SQLAlchemy.\n",
      "  df = pd.read_sql(self.tp__read_query, conn)\n"
     ]
    },
    {
     "name": "stdout",
     "output_type": "stream",
     "text": [
      "Open the following URL in browser for the external authentication:\n",
      "https://starburst.g8s-data-platform-prod.glovoint.com/oauth2/token/initiate/a33afef3718ac8542faa4d581ed3919910ff6085fcef69a0bac04e2900a6ce77\n"
     ]
    },
    {
     "data": {
      "text/html": [
       "<div>\n",
       "<style scoped>\n",
       "    .dataframe tbody tr th:only-of-type {\n",
       "        vertical-align: middle;\n",
       "    }\n",
       "\n",
       "    .dataframe tbody tr th {\n",
       "        vertical-align: top;\n",
       "    }\n",
       "\n",
       "    .dataframe thead th {\n",
       "        text-align: right;\n",
       "    }\n",
       "</style>\n",
       "<table border=\"1\" class=\"dataframe\">\n",
       "  <thead>\n",
       "    <tr style=\"text-align: right;\">\n",
       "      <th></th>\n",
       "      <th>customer_id</th>\n",
       "      <th>p_creation_date</th>\n",
       "      <th>n_orders</th>\n",
       "      <th>n_orders_with_loyalty</th>\n",
       "    </tr>\n",
       "  </thead>\n",
       "  <tbody>\n",
       "    <tr>\n",
       "      <th>0</th>\n",
       "      <td>735</td>\n",
       "      <td>2024-05-01</td>\n",
       "      <td>0</td>\n",
       "      <td>0</td>\n",
       "    </tr>\n",
       "    <tr>\n",
       "      <th>1</th>\n",
       "      <td>735</td>\n",
       "      <td>2024-05-02</td>\n",
       "      <td>0</td>\n",
       "      <td>0</td>\n",
       "    </tr>\n",
       "    <tr>\n",
       "      <th>2</th>\n",
       "      <td>735</td>\n",
       "      <td>2024-05-03</td>\n",
       "      <td>2</td>\n",
       "      <td>0</td>\n",
       "    </tr>\n",
       "    <tr>\n",
       "      <th>3</th>\n",
       "      <td>735</td>\n",
       "      <td>2024-05-04</td>\n",
       "      <td>0</td>\n",
       "      <td>0</td>\n",
       "    </tr>\n",
       "    <tr>\n",
       "      <th>4</th>\n",
       "      <td>735</td>\n",
       "      <td>2024-05-05</td>\n",
       "      <td>0</td>\n",
       "      <td>0</td>\n",
       "    </tr>\n",
       "    <tr>\n",
       "      <th>...</th>\n",
       "      <td>...</td>\n",
       "      <td>...</td>\n",
       "      <td>...</td>\n",
       "      <td>...</td>\n",
       "    </tr>\n",
       "    <tr>\n",
       "      <th>872283</th>\n",
       "      <td>170734773</td>\n",
       "      <td>2024-05-28</td>\n",
       "      <td>0</td>\n",
       "      <td>0</td>\n",
       "    </tr>\n",
       "    <tr>\n",
       "      <th>872284</th>\n",
       "      <td>170734773</td>\n",
       "      <td>2024-05-29</td>\n",
       "      <td>0</td>\n",
       "      <td>0</td>\n",
       "    </tr>\n",
       "    <tr>\n",
       "      <th>872285</th>\n",
       "      <td>170734773</td>\n",
       "      <td>2024-05-30</td>\n",
       "      <td>0</td>\n",
       "      <td>0</td>\n",
       "    </tr>\n",
       "    <tr>\n",
       "      <th>872286</th>\n",
       "      <td>170734773</td>\n",
       "      <td>2024-05-31</td>\n",
       "      <td>0</td>\n",
       "      <td>0</td>\n",
       "    </tr>\n",
       "    <tr>\n",
       "      <th>872287</th>\n",
       "      <td>170734773</td>\n",
       "      <td>2024-06-01</td>\n",
       "      <td>1</td>\n",
       "      <td>1</td>\n",
       "    </tr>\n",
       "  </tbody>\n",
       "</table>\n",
       "<p>872288 rows × 4 columns</p>\n",
       "</div>"
      ],
      "text/plain": [
       "        customer_id p_creation_date  n_orders  n_orders_with_loyalty\n",
       "0               735      2024-05-01         0                      0\n",
       "1               735      2024-05-02         0                      0\n",
       "2               735      2024-05-03         2                      0\n",
       "3               735      2024-05-04         0                      0\n",
       "4               735      2024-05-05         0                      0\n",
       "...             ...             ...       ...                    ...\n",
       "872283    170734773      2024-05-28         0                      0\n",
       "872284    170734773      2024-05-29         0                      0\n",
       "872285    170734773      2024-05-30         0                      0\n",
       "872286    170734773      2024-05-31         0                      0\n",
       "872287    170734773      2024-06-01         1                      1\n",
       "\n",
       "[872288 rows x 4 columns]"
      ]
     },
     "execution_count": 14,
     "metadata": {},
     "output_type": "execute_result"
    }
   ],
   "source": [
    "START_DATE = \"'2024-05-01'\"\n",
    "END_DATE = \"'2024-06-01'\"\n",
    "\n",
    "\n",
    "params = [\n",
    "    # dates\n",
    "    {'name':'start_date', 'value': str(START_DATE)},\n",
    "    {'name':'end_date', 'value': str(END_DATE)},\n",
    "]\n",
    "\n",
    "q = query_engines.QueryEngines(\n",
    "    query='lc_mde.sql',\n",
    "    params=params,\n",
    "    printq=None,\n",
    "    output_file='lc_mde.sq',\n",
    "    load_from_output_file=None\n",
    "    \n",
    ")\n",
    "\n",
    "df = q.query_run_starbust()\n",
    "df"
   ]
  }
 ],
 "metadata": {
  "kernelspec": {
   "display_name": ".venv",
   "language": "python",
   "name": "python3"
  },
  "language_info": {
   "codemirror_mode": {
    "name": "ipython",
    "version": 3
   },
   "file_extension": ".py",
   "mimetype": "text/x-python",
   "name": "python",
   "nbconvert_exporter": "python",
   "pygments_lexer": "ipython3",
   "version": "3.12.0"
  }
 },
 "nbformat": 4,
 "nbformat_minor": 2
}
