{
 "cells": [
  {
   "cell_type": "markdown",
   "metadata": {},
   "source": [
    "# Loyalty Cards"
   ]
  },
  {
   "cell_type": "markdown",
   "metadata": {},
   "source": [
    "## Executive summary"
   ]
  },
  {
   "cell_type": "markdown",
   "metadata": {},
   "source": [
    "In this notebook I will perform the MDE for loyalty cards experiment"
   ]
  },
  {
   "cell_type": "markdown",
   "metadata": {},
   "source": [
    "## Config"
   ]
  },
  {
   "cell_type": "code",
   "execution_count": 110,
   "metadata": {},
   "outputs": [],
   "source": [
    "# import matplotlib.pyplot as  plt\n",
    "# import numpy as np\n",
    "import pandas as pd\n",
    "# import seaborn as sns\n",
    "import os\n",
    "import sys\n",
    "\n",
    "base_path = 'c:/Users/Jordi Cremades/Documents/Repos/customer-data-analytics-main/'\n",
    "sys.path.insert(1, os.path.join(base_path, 'General/AB-tests/MDE'))\n",
    "sys.path.insert(2, os.path.join(base_path, 'General/AB-tests'))\n",
    "\n",
    "sys.path.append('c:/Users/Jordi Cremades/Documents/Repos/central-node')\n",
    "\n",
    "from utils import query_engines\n",
    "from fenix.statistical_tests import relative_ttest as t_test\n",
    "from fenix.run_experiment import ExperimentConfig, MDEConfig, ExperimentRunner\n",
    "from fenix.statistical_tests.stattools import StatisticalResult\n",
    "from fenix.tools.helpfuncs import mde_visualization\n",
    "from fenix.tools.helpfuncs import adjusted_alpha_multiple_comparison\n",
    "\n",
    "import transformations.transformation as tr\n",
    "import fenix.visual.graphs\n",
    "import fenix.tools.hashing as hashing"
   ]
  },
  {
   "cell_type": "markdown",
   "metadata": {},
   "source": [
    "## [X] Build the dataset"
   ]
  },
  {
   "cell_type": "code",
   "execution_count": 129,
   "metadata": {},
   "outputs": [
    {
     "name": "stderr",
     "output_type": "stream",
     "text": [
      "c:\\Users/Jordi Cremades/Documents/Repos/central-node\\utils\\query_engines.py:235: UserWarning: pandas only supports SQLAlchemy connectable (engine/connection) or database string URI or sqlite3 DBAPI2 connection. Other DBAPI2 objects are not tested. Please consider using SQLAlchemy.\n",
      "  df = pd.read_sql(self.tp__read_query, conn)\n"
     ]
    },
    {
     "name": "stdout",
     "output_type": "stream",
     "text": [
      "Open the following URL in browser for the external authentication:\n",
      "https://starburst.g8s-data-platform-prod.glovoint.com/oauth2/token/initiate/b886c19b73b05281507fe35b76453e97b77e97bb29b0b4caef6d481ed82561b9\n"
     ]
    },
    {
     "data": {
      "text/html": [
       "<div>\n",
       "<style scoped>\n",
       "    .dataframe tbody tr th:only-of-type {\n",
       "        vertical-align: middle;\n",
       "    }\n",
       "\n",
       "    .dataframe tbody tr th {\n",
       "        vertical-align: top;\n",
       "    }\n",
       "\n",
       "    .dataframe thead th {\n",
       "        text-align: right;\n",
       "    }\n",
       "</style>\n",
       "<table border=\"1\" class=\"dataframe\">\n",
       "  <thead>\n",
       "    <tr style=\"text-align: right;\">\n",
       "      <th></th>\n",
       "      <th>customer_id</th>\n",
       "      <th>first_exposure_date</th>\n",
       "      <th>exposure_week_index_since_start_date</th>\n",
       "      <th>obs_week_index_since_start_date</th>\n",
       "      <th>n_orders</th>\n",
       "      <th>n_orders_with_loyalty</th>\n",
       "      <th>n_store_views</th>\n",
       "    </tr>\n",
       "  </thead>\n",
       "  <tbody>\n",
       "    <tr>\n",
       "      <th>0</th>\n",
       "      <td>162976</td>\n",
       "      <td>2024-05-17</td>\n",
       "      <td>3</td>\n",
       "      <td>4</td>\n",
       "      <td>2</td>\n",
       "      <td>1</td>\n",
       "      <td>1</td>\n",
       "    </tr>\n",
       "    <tr>\n",
       "      <th>1</th>\n",
       "      <td>593395</td>\n",
       "      <td>2024-05-02</td>\n",
       "      <td>1</td>\n",
       "      <td>1</td>\n",
       "      <td>1</td>\n",
       "      <td>1</td>\n",
       "      <td>1</td>\n",
       "    </tr>\n",
       "    <tr>\n",
       "      <th>2</th>\n",
       "      <td>593395</td>\n",
       "      <td>2024-05-02</td>\n",
       "      <td>1</td>\n",
       "      <td>2</td>\n",
       "      <td>5</td>\n",
       "      <td>3</td>\n",
       "      <td>5</td>\n",
       "    </tr>\n",
       "    <tr>\n",
       "      <th>3</th>\n",
       "      <td>593395</td>\n",
       "      <td>2024-05-02</td>\n",
       "      <td>1</td>\n",
       "      <td>3</td>\n",
       "      <td>9</td>\n",
       "      <td>5</td>\n",
       "      <td>12</td>\n",
       "    </tr>\n",
       "    <tr>\n",
       "      <th>4</th>\n",
       "      <td>593395</td>\n",
       "      <td>2024-05-02</td>\n",
       "      <td>1</td>\n",
       "      <td>4</td>\n",
       "      <td>15</td>\n",
       "      <td>7</td>\n",
       "      <td>18</td>\n",
       "    </tr>\n",
       "  </tbody>\n",
       "</table>\n",
       "</div>"
      ],
      "text/plain": [
       "   customer_id first_exposure_date  exposure_week_index_since_start_date  \\\n",
       "0       162976          2024-05-17                                     3   \n",
       "1       593395          2024-05-02                                     1   \n",
       "2       593395          2024-05-02                                     1   \n",
       "3       593395          2024-05-02                                     1   \n",
       "4       593395          2024-05-02                                     1   \n",
       "\n",
       "   obs_week_index_since_start_date  n_orders  n_orders_with_loyalty  \\\n",
       "0                                4         2                      1   \n",
       "1                                1         1                      1   \n",
       "2                                2         5                      3   \n",
       "3                                3         9                      5   \n",
       "4                                4        15                      7   \n",
       "\n",
       "   n_store_views  \n",
       "0              1  \n",
       "1              1  \n",
       "2              5  \n",
       "3             12  \n",
       "4             18  "
      ]
     },
     "execution_count": 129,
     "metadata": {},
     "output_type": "execute_result"
    }
   ],
   "source": [
    "q = query_engines.QueryEngines(reset_query_logs=True, reset_to_load=False)\n",
    "\n",
    "START_DATE = \"'2024-05-01'\"\n",
    "END_DATE = \"'2024-06-01'\"\n",
    "\n",
    "params = [\n",
    "    # dates\n",
    "    {'name':'start_date', 'value': str(START_DATE)},\n",
    "    {'name':'end_date', 'value': str(END_DATE)},\n",
    "]\n",
    "\n",
    "q.prepare_query('lc_mde.sql', params=params)\n",
    "\n",
    "df  = q.query_run_starburst( #query_run_livedb otherwise\n",
    "    output_file='lc_mde',\n",
    "    load_from_output_file=None,\n",
    "    print_query=True\n",
    ")\n",
    "\n",
    "df.head()"
   ]
  },
  {
   "cell_type": "code",
   "execution_count": 130,
   "metadata": {},
   "outputs": [
    {
     "data": {
      "text/html": [
       "<div>\n",
       "<style scoped>\n",
       "    .dataframe tbody tr th:only-of-type {\n",
       "        vertical-align: middle;\n",
       "    }\n",
       "\n",
       "    .dataframe tbody tr th {\n",
       "        vertical-align: top;\n",
       "    }\n",
       "\n",
       "    .dataframe thead th {\n",
       "        text-align: right;\n",
       "    }\n",
       "</style>\n",
       "<table border=\"1\" class=\"dataframe\">\n",
       "  <thead>\n",
       "    <tr style=\"text-align: right;\">\n",
       "      <th></th>\n",
       "      <th>customer_id</th>\n",
       "      <th>first_exposure_date</th>\n",
       "      <th>exposure_week_index_since_start_date</th>\n",
       "      <th>obs_week_index_since_start_date</th>\n",
       "      <th>n_orders</th>\n",
       "      <th>n_orders_with_loyalty</th>\n",
       "      <th>n_store_views</th>\n",
       "      <th>lc_pen</th>\n",
       "    </tr>\n",
       "  </thead>\n",
       "  <tbody>\n",
       "    <tr>\n",
       "      <th>0</th>\n",
       "      <td>162976</td>\n",
       "      <td>2024-05-17</td>\n",
       "      <td>3</td>\n",
       "      <td>4</td>\n",
       "      <td>2</td>\n",
       "      <td>1</td>\n",
       "      <td>1</td>\n",
       "      <td>0.500000</td>\n",
       "    </tr>\n",
       "    <tr>\n",
       "      <th>1</th>\n",
       "      <td>593395</td>\n",
       "      <td>2024-05-02</td>\n",
       "      <td>1</td>\n",
       "      <td>1</td>\n",
       "      <td>1</td>\n",
       "      <td>1</td>\n",
       "      <td>1</td>\n",
       "      <td>1.000000</td>\n",
       "    </tr>\n",
       "    <tr>\n",
       "      <th>2</th>\n",
       "      <td>593395</td>\n",
       "      <td>2024-05-02</td>\n",
       "      <td>1</td>\n",
       "      <td>2</td>\n",
       "      <td>5</td>\n",
       "      <td>3</td>\n",
       "      <td>5</td>\n",
       "      <td>0.600000</td>\n",
       "    </tr>\n",
       "    <tr>\n",
       "      <th>3</th>\n",
       "      <td>593395</td>\n",
       "      <td>2024-05-02</td>\n",
       "      <td>1</td>\n",
       "      <td>3</td>\n",
       "      <td>9</td>\n",
       "      <td>5</td>\n",
       "      <td>12</td>\n",
       "      <td>0.555556</td>\n",
       "    </tr>\n",
       "    <tr>\n",
       "      <th>4</th>\n",
       "      <td>593395</td>\n",
       "      <td>2024-05-02</td>\n",
       "      <td>1</td>\n",
       "      <td>4</td>\n",
       "      <td>15</td>\n",
       "      <td>7</td>\n",
       "      <td>18</td>\n",
       "      <td>0.466667</td>\n",
       "    </tr>\n",
       "  </tbody>\n",
       "</table>\n",
       "</div>"
      ],
      "text/plain": [
       "   customer_id first_exposure_date  exposure_week_index_since_start_date  \\\n",
       "0       162976          2024-05-17                                     3   \n",
       "1       593395          2024-05-02                                     1   \n",
       "2       593395          2024-05-02                                     1   \n",
       "3       593395          2024-05-02                                     1   \n",
       "4       593395          2024-05-02                                     1   \n",
       "\n",
       "   obs_week_index_since_start_date  n_orders  n_orders_with_loyalty  \\\n",
       "0                                4         2                      1   \n",
       "1                                1         1                      1   \n",
       "2                                2         5                      3   \n",
       "3                                3         9                      5   \n",
       "4                                4        15                      7   \n",
       "\n",
       "   n_store_views    lc_pen  \n",
       "0              1  0.500000  \n",
       "1              1  1.000000  \n",
       "2              5  0.600000  \n",
       "3             12  0.555556  \n",
       "4             18  0.466667  "
      ]
     },
     "execution_count": 130,
     "metadata": {},
     "output_type": "execute_result"
    }
   ],
   "source": [
    "# Definition of main metric\n",
    "df['lc_pen']=df['n_orders_with_loyalty']/df['n_orders']\n",
    "df['lc_pen'].fillna(0,inplace=True)\n",
    "df.head()"
   ]
  },
  {
   "cell_type": "markdown",
   "metadata": {},
   "source": [
    "# [X] Dataset sanity check"
   ]
  },
  {
   "cell_type": "code",
   "execution_count": 131,
   "metadata": {},
   "outputs": [
    {
     "data": {
      "text/plain": [
       "<Axes: xlabel='first_exposure_date'>"
      ]
     },
     "execution_count": 131,
     "metadata": {},
     "output_type": "execute_result"
    },
    {
     "data": {
      "image/png": "[encoded data removed]",
      "text/plain": [
       "<Figure size 640x480 with 1 Axes>"
      ]
     },
     "metadata": {},
     "output_type": "display_data"
    }
   ],
   "source": [
    "df.groupby('first_exposure_date').customer_id.nunique().plot(kind='bar')"
   ]
  },
  {
   "cell_type": "code",
   "execution_count": 132,
   "metadata": {},
   "outputs": [
    {
     "data": {
      "text/plain": [
       "<Axes: xlabel='first_exposure_date'>"
      ]
     },
     "execution_count": 132,
     "metadata": {},
     "output_type": "execute_result"
    },
    {
     "data": {
      "image/png": "[encoded data removed]",
      "text/plain": [
       "<Figure size 640x480 with 1 Axes>"
      ]
     },
     "metadata": {},
     "output_type": "display_data"
    }
   ],
   "source": [
    "df.groupby('first_exposure_date').customer_id.nunique().plot(kind='line')"
   ]
  },
  {
   "cell_type": "code",
   "execution_count": 133,
   "metadata": {},
   "outputs": [
    {
     "data": {
      "text/plain": [
       "<Axes: xlabel='obs_week_index_since_start_date'>"
      ]
     },
     "execution_count": 133,
     "metadata": {},
     "output_type": "execute_result"
    },
    {
     "data": {
      "image/png": "[encoded data removed]",
      "text/plain": [
       "<Figure size 640x480 with 1 Axes>"
      ]
     },
     "metadata": {},
     "output_type": "display_data"
    }
   ],
   "source": [
    "df.groupby('obs_week_index_since_start_date')['lc_pen'].mean().plot(kind='bar')"
   ]
  },
  {
   "cell_type": "markdown",
   "metadata": {},
   "source": [
    "# Dataset simulation"
   ]
  },
  {
   "cell_type": "code",
   "execution_count": 134,
   "metadata": {},
   "outputs": [
    {
     "data": {
      "text/plain": [
       "ltho_group\n",
       "variant    0.951217\n",
       "control    0.048783\n",
       "Name: proportion, dtype: float64"
      ]
     },
     "execution_count": 134,
     "metadata": {},
     "output_type": "execute_result"
    }
   ],
   "source": [
    "# Synthetic LTHO group\n",
    "df['ltho_group'] = df['customer_id'].apply(lambda x: hashing.hashing_function(x, 'a057353b-bdd5-41eb-b62e-d9b488b54367', (49,999)))\n",
    "df['ltho_group'].value_counts(normalize=True, dropna=False)"
   ]
  },
  {
   "cell_type": "code",
   "execution_count": 138,
   "metadata": {},
   "outputs": [],
   "source": [
    "# Filter out customer that are in the LTHO group\n",
    "df = df[df['ltho_group']=='variant']"
   ]
  },
  {
   "cell_type": "code",
   "execution_count": 139,
   "metadata": {},
   "outputs": [
    {
     "data": {
      "text/html": [
       "<div>\n",
       "<style scoped>\n",
       "    .dataframe tbody tr th:only-of-type {\n",
       "        vertical-align: middle;\n",
       "    }\n",
       "\n",
       "    .dataframe tbody tr th {\n",
       "        vertical-align: top;\n",
       "    }\n",
       "\n",
       "    .dataframe thead th {\n",
       "        text-align: right;\n",
       "    }\n",
       "</style>\n",
       "<table border=\"1\" class=\"dataframe\">\n",
       "  <thead>\n",
       "    <tr style=\"text-align: right;\">\n",
       "      <th></th>\n",
       "      <th>customer_id</th>\n",
       "      <th>first_exposure_date</th>\n",
       "      <th>exposure_week_index_since_start_date</th>\n",
       "      <th>obs_week_index_since_start_date</th>\n",
       "      <th>n_orders</th>\n",
       "      <th>n_orders_with_loyalty</th>\n",
       "      <th>n_store_views</th>\n",
       "      <th>lc_pen</th>\n",
       "      <th>ltho_group</th>\n",
       "    </tr>\n",
       "  </thead>\n",
       "  <tbody>\n",
       "    <tr>\n",
       "      <th>24429</th>\n",
       "      <td>148995806</td>\n",
       "      <td>2024-05-01</td>\n",
       "      <td>1</td>\n",
       "      <td>1</td>\n",
       "      <td>2</td>\n",
       "      <td>2</td>\n",
       "      <td>7</td>\n",
       "      <td>1.000</td>\n",
       "      <td>variant</td>\n",
       "    </tr>\n",
       "    <tr>\n",
       "      <th>26792</th>\n",
       "      <td>142868789</td>\n",
       "      <td>2024-05-03</td>\n",
       "      <td>1</td>\n",
       "      <td>1</td>\n",
       "      <td>0</td>\n",
       "      <td>0</td>\n",
       "      <td>2</td>\n",
       "      <td>0.000</td>\n",
       "      <td>variant</td>\n",
       "    </tr>\n",
       "    <tr>\n",
       "      <th>5443</th>\n",
       "      <td>131687727</td>\n",
       "      <td>2024-05-06</td>\n",
       "      <td>1</td>\n",
       "      <td>1</td>\n",
       "      <td>1</td>\n",
       "      <td>1</td>\n",
       "      <td>2</td>\n",
       "      <td>1.000</td>\n",
       "      <td>variant</td>\n",
       "    </tr>\n",
       "    <tr>\n",
       "      <th>39719</th>\n",
       "      <td>138248349</td>\n",
       "      <td>2024-05-01</td>\n",
       "      <td>1</td>\n",
       "      <td>1</td>\n",
       "      <td>3</td>\n",
       "      <td>3</td>\n",
       "      <td>16</td>\n",
       "      <td>1.000</td>\n",
       "      <td>variant</td>\n",
       "    </tr>\n",
       "    <tr>\n",
       "      <th>26795</th>\n",
       "      <td>154163598</td>\n",
       "      <td>2024-05-02</td>\n",
       "      <td>1</td>\n",
       "      <td>1</td>\n",
       "      <td>0</td>\n",
       "      <td>0</td>\n",
       "      <td>3</td>\n",
       "      <td>0.000</td>\n",
       "      <td>variant</td>\n",
       "    </tr>\n",
       "    <tr>\n",
       "      <th>...</th>\n",
       "      <td>...</td>\n",
       "      <td>...</td>\n",
       "      <td>...</td>\n",
       "      <td>...</td>\n",
       "      <td>...</td>\n",
       "      <td>...</td>\n",
       "      <td>...</td>\n",
       "      <td>...</td>\n",
       "      <td>...</td>\n",
       "    </tr>\n",
       "    <tr>\n",
       "      <th>24164</th>\n",
       "      <td>124318100</td>\n",
       "      <td>2024-05-01</td>\n",
       "      <td>1</td>\n",
       "      <td>5</td>\n",
       "      <td>8</td>\n",
       "      <td>3</td>\n",
       "      <td>27</td>\n",
       "      <td>0.375</td>\n",
       "      <td>variant</td>\n",
       "    </tr>\n",
       "    <tr>\n",
       "      <th>13081</th>\n",
       "      <td>9415795</td>\n",
       "      <td>2024-05-23</td>\n",
       "      <td>4</td>\n",
       "      <td>5</td>\n",
       "      <td>0</td>\n",
       "      <td>0</td>\n",
       "      <td>1</td>\n",
       "      <td>0.000</td>\n",
       "      <td>variant</td>\n",
       "    </tr>\n",
       "    <tr>\n",
       "      <th>39964</th>\n",
       "      <td>31605061</td>\n",
       "      <td>2024-05-01</td>\n",
       "      <td>1</td>\n",
       "      <td>5</td>\n",
       "      <td>3</td>\n",
       "      <td>3</td>\n",
       "      <td>5</td>\n",
       "      <td>1.000</td>\n",
       "      <td>variant</td>\n",
       "    </tr>\n",
       "    <tr>\n",
       "      <th>13097</th>\n",
       "      <td>19768325</td>\n",
       "      <td>2024-05-12</td>\n",
       "      <td>2</td>\n",
       "      <td>5</td>\n",
       "      <td>0</td>\n",
       "      <td>0</td>\n",
       "      <td>1</td>\n",
       "      <td>0.000</td>\n",
       "      <td>variant</td>\n",
       "    </tr>\n",
       "    <tr>\n",
       "      <th>15090</th>\n",
       "      <td>58928389</td>\n",
       "      <td>2024-05-03</td>\n",
       "      <td>1</td>\n",
       "      <td>5</td>\n",
       "      <td>5</td>\n",
       "      <td>5</td>\n",
       "      <td>7</td>\n",
       "      <td>1.000</td>\n",
       "      <td>variant</td>\n",
       "    </tr>\n",
       "  </tbody>\n",
       "</table>\n",
       "<p>45082 rows × 9 columns</p>\n",
       "</div>"
      ],
      "text/plain": [
       "       customer_id first_exposure_date  exposure_week_index_since_start_date  \\\n",
       "24429    148995806          2024-05-01                                     1   \n",
       "26792    142868789          2024-05-03                                     1   \n",
       "5443     131687727          2024-05-06                                     1   \n",
       "39719    138248349          2024-05-01                                     1   \n",
       "26795    154163598          2024-05-02                                     1   \n",
       "...            ...                 ...                                   ...   \n",
       "24164    124318100          2024-05-01                                     1   \n",
       "13081      9415795          2024-05-23                                     4   \n",
       "39964     31605061          2024-05-01                                     1   \n",
       "13097     19768325          2024-05-12                                     2   \n",
       "15090     58928389          2024-05-03                                     1   \n",
       "\n",
       "       obs_week_index_since_start_date  n_orders  n_orders_with_loyalty  \\\n",
       "24429                                1         2                      2   \n",
       "26792                                1         0                      0   \n",
       "5443                                 1         1                      1   \n",
       "39719                                1         3                      3   \n",
       "26795                                1         0                      0   \n",
       "...                                ...       ...                    ...   \n",
       "24164                                5         8                      3   \n",
       "13081                                5         0                      0   \n",
       "39964                                5         3                      3   \n",
       "13097                                5         0                      0   \n",
       "15090                                5         5                      5   \n",
       "\n",
       "       n_store_views  lc_pen ltho_group  \n",
       "24429              7   1.000    variant  \n",
       "26792              2   0.000    variant  \n",
       "5443               2   1.000    variant  \n",
       "39719             16   1.000    variant  \n",
       "26795              3   0.000    variant  \n",
       "...              ...     ...        ...  \n",
       "24164             27   0.375    variant  \n",
       "13081              1   0.000    variant  \n",
       "39964              5   1.000    variant  \n",
       "13097              1   0.000    variant  \n",
       "15090              7   1.000    variant  \n",
       "\n",
       "[45082 rows x 9 columns]"
      ]
     },
     "execution_count": 139,
     "metadata": {},
     "output_type": "execute_result"
    }
   ],
   "source": [
    "df.sort_values(by='obs_week_index_since_start_date')"
   ]
  },
  {
   "cell_type": "code",
   "execution_count": 141,
   "metadata": {},
   "outputs": [
    {
     "data": {
      "text/html": [
       "<div>\n",
       "<style scoped>\n",
       "    .dataframe tbody tr th:only-of-type {\n",
       "        vertical-align: middle;\n",
       "    }\n",
       "\n",
       "    .dataframe tbody tr th {\n",
       "        vertical-align: top;\n",
       "    }\n",
       "\n",
       "    .dataframe thead th {\n",
       "        text-align: right;\n",
       "    }\n",
       "</style>\n",
       "<table border=\"1\" class=\"dataframe\">\n",
       "  <thead>\n",
       "    <tr style=\"text-align: right;\">\n",
       "      <th></th>\n",
       "      <th>customer_id</th>\n",
       "      <th>first_exposure_date</th>\n",
       "      <th>exposure_week_index_since_start_date</th>\n",
       "      <th>obs_week_index_since_start_date</th>\n",
       "      <th>n_orders</th>\n",
       "      <th>n_orders_with_loyalty</th>\n",
       "      <th>n_store_views</th>\n",
       "      <th>lc_pen</th>\n",
       "      <th>ltho_group</th>\n",
       "      <th>cmperorder</th>\n",
       "    </tr>\n",
       "  </thead>\n",
       "  <tbody>\n",
       "    <tr>\n",
       "      <th>22623</th>\n",
       "      <td>18744918</td>\n",
       "      <td>2024-05-01</td>\n",
       "      <td>1</td>\n",
       "      <td>5</td>\n",
       "      <td>20</td>\n",
       "      <td>17</td>\n",
       "      <td>600</td>\n",
       "      <td>0.850000</td>\n",
       "      <td>variant</td>\n",
       "      <td>30.000000</td>\n",
       "    </tr>\n",
       "    <tr>\n",
       "      <th>45661</th>\n",
       "      <td>126358051</td>\n",
       "      <td>2024-05-02</td>\n",
       "      <td>1</td>\n",
       "      <td>5</td>\n",
       "      <td>344</td>\n",
       "      <td>27</td>\n",
       "      <td>418</td>\n",
       "      <td>0.078488</td>\n",
       "      <td>variant</td>\n",
       "      <td>1.215116</td>\n",
       "    </tr>\n",
       "    <tr>\n",
       "      <th>6193</th>\n",
       "      <td>128331687</td>\n",
       "      <td>2024-05-01</td>\n",
       "      <td>1</td>\n",
       "      <td>5</td>\n",
       "      <td>16</td>\n",
       "      <td>12</td>\n",
       "      <td>360</td>\n",
       "      <td>0.750000</td>\n",
       "      <td>variant</td>\n",
       "      <td>22.500000</td>\n",
       "    </tr>\n",
       "    <tr>\n",
       "      <th>17992</th>\n",
       "      <td>132368218</td>\n",
       "      <td>2024-05-01</td>\n",
       "      <td>1</td>\n",
       "      <td>5</td>\n",
       "      <td>23</td>\n",
       "      <td>19</td>\n",
       "      <td>248</td>\n",
       "      <td>0.826087</td>\n",
       "      <td>variant</td>\n",
       "      <td>10.782609</td>\n",
       "    </tr>\n",
       "    <tr>\n",
       "      <th>38804</th>\n",
       "      <td>58818211</td>\n",
       "      <td>2024-05-01</td>\n",
       "      <td>1</td>\n",
       "      <td>5</td>\n",
       "      <td>37</td>\n",
       "      <td>18</td>\n",
       "      <td>207</td>\n",
       "      <td>0.486486</td>\n",
       "      <td>variant</td>\n",
       "      <td>5.594595</td>\n",
       "    </tr>\n",
       "  </tbody>\n",
       "</table>\n",
       "</div>"
      ],
      "text/plain": [
       "       customer_id first_exposure_date  exposure_week_index_since_start_date  \\\n",
       "22623     18744918          2024-05-01                                     1   \n",
       "45661    126358051          2024-05-02                                     1   \n",
       "6193     128331687          2024-05-01                                     1   \n",
       "17992    132368218          2024-05-01                                     1   \n",
       "38804     58818211          2024-05-01                                     1   \n",
       "\n",
       "       obs_week_index_since_start_date  n_orders  n_orders_with_loyalty  \\\n",
       "22623                                5        20                     17   \n",
       "45661                                5       344                     27   \n",
       "6193                                 5        16                     12   \n",
       "17992                                5        23                     19   \n",
       "38804                                5        37                     18   \n",
       "\n",
       "       n_store_views    lc_pen ltho_group  cmperorder  \n",
       "22623            600  0.850000    variant   30.000000  \n",
       "45661            418  0.078488    variant    1.215116  \n",
       "6193             360  0.750000    variant   22.500000  \n",
       "17992            248  0.826087    variant   10.782609  \n",
       "38804            207  0.486486    variant    5.594595  "
      ]
     },
     "execution_count": 141,
     "metadata": {},
     "output_type": "execute_result"
    }
   ],
   "source": [
    "sessions_outliers = tr.outliers_detection(df, 'obs_week_index_since_start_date', 'n_orders', 'n_store_views')\n",
    "sessions_outliers.head()"
   ]
  }
 ],
 "metadata": {
  "kernelspec": {
   "display_name": ".venv",
   "language": "python",
   "name": "python3"
  },
  "language_info": {
   "codemirror_mode": {
    "name": "ipython",
    "version": 3
   },
   "file_extension": ".py",
   "mimetype": "text/x-python",
   "name": "python",
   "nbconvert_exporter": "python",
   "pygments_lexer": "ipython3",
   "version": "3.12.0"
  }
 },
 "nbformat": 4,
 "nbformat_minor": 2
}
