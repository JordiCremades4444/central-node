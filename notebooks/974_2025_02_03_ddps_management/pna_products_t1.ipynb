{
 "cells": [
  {
   "cell_type": "markdown",
   "metadata": {},
   "source": [
    "# Deprecate data product"
   ]
  },
  {
   "cell_type": "markdown",
   "metadata": {},
   "source": [
    "https://fictional-winner-z4ql2vk.pages.github.io/how_to/declarative_dp_sdk/"
   ]
  },
  {
   "cell_type": "code",
   "execution_count": 2,
   "metadata": {},
   "outputs": [],
   "source": [
    "from declarative_dp_sdk.manager import DataProductManager\n",
    "from declarative_dp_sdk.utils import print_deployment_info"
   ]
  },
  {
   "cell_type": "code",
   "execution_count": 3,
   "metadata": {},
   "outputs": [],
   "source": [
    "# you can use the same DataProductManager used to create the DP.\n",
    "DOMAIN = \"mfc\"\n",
    "NAME = \"pna\"\n",
    "OWNER = \"jordi.cremades@glovoapp.com\"\n",
    "TIER = \"T1\"\n",
    "\n",
    "\n",
    "data_product_manager = DataProductManager(\n",
    "        domain=DOMAIN,\n",
    "        name=NAME,\n",
    "        owner=OWNER,\n",
    "        tier=TIER\n",
    ")"
   ]
  },
  {
   "cell_type": "markdown",
   "metadata": {},
   "source": [
    "# Deprecate odp tables"
   ]
  },
  {
   "cell_type": "code",
   "execution_count": 4,
   "metadata": {},
   "outputs": [],
   "source": [
    "TABLE = \"pna_products_info\""
   ]
  },
  {
   "cell_type": "code",
   "execution_count": 5,
   "metadata": {},
   "outputs": [
    {
     "data": {
      "text/plain": [
       "DatasetDto(id='d1bb2624-beab-48be-a3b8-fd7711bfa256', name='pna_products_info', kind=<DatasetKind.ODP: 'ODP'>, status=<DatasetStatus.EXPIRED: 'EXPIRED'>, active_dataset_revision=DatasetRevisionsCreateDto(id='415968be-b6b9-4e9f-821d-ab095ca2eee7', dp_revision_id='2796bdd9-6fab-489d-8234-f2ec256c15cc', name='pna_products_info', description='Official table Products PNA info.', created_at=datetime.datetime(2024, 10, 18, 15, 35, 55), updated_at=datetime.datetime(2024, 10, 18, 15, 35, 55), data_classification=<DataClassification.L1: 'L1'>, links={}, data_contract={'order_id': 'It represents the order id', 'product_id': 'Product id (may change over time for a given external id)', 'customer_id': 'Customer id', 'product_name': 'Product name', 'order_vertical': 'Order vertical', 'order_city_code': 'Order city code', 'p_creation_date': 'Creation date of the order', 'store_address_id': 'Store address id', 'bought_product_id': 'Bought product id (PK of bought products)', 'order_country_code': 'Order country code', 'order_final_status': 'Order final status', 'product_external_id': 'Product External id', 'bought_product_id_is_pna': '(True/False) Bought product id has pna of any of the previous types', 'replaced_bought_product_id': 'Replaced bought product id', 'replaced_by_bought_product_id': 'Replaced by bought product id', 'bought_product_id_is_replacement': '(True/False) Bought product id is replaced', 'bought_product_id_is_wm_feedback': '(True/False) Bought product id has pna due to wm feedback', 'bought_product_id_is_pna_total_removal': '(True/False) Bought product id has pna due to total removal', 'bought_product_id_is_pna_partial_removal': '(True/False) Bought product id has pna due to partial removal'}), active_revision=RevisionDto(id='2796bdd9-6fab-489d-8234-f2ec256c15cc', data_product=DataProductDto(domain='mfc', name='pna', description=None, owner='jordi.cremades@glovoapp.com', tier=<DataProductTier.T1: 'T1'>, slo=None, alignment_type=<DataProductAlignmentType.CADP: 'CADP'>, links=[], kind=<DataProductKind.DECLARATIVE: 'DECLARATIVE'>, contacts=[], notifications=Notifications(slack=[SlackNotification(custom_message=':alert: :sad-parrot: DDP Failed!\\n                          *DDP*: pna', events={<NotificationEvent.FAILED: 'FAILED'>}, channel='mfc-ddp-execution', mentions=['jordi.cremades@glovoapp.com'])]), pipelines=[PipelineDto(name='main', tasks=[OperatorTask(id='wait_for_order_descriptors_v2', dependencies=[], operator_name='wait_for_table', operator_spec={'table': 'order_descriptors_v2', 'domain': 'central', 'partitions': ['p_creation_date={{ data_interval_start | ds }}'], 'data_product': 'order_descriptors'}), OperatorTask(id='wait_for_fct_contact_intent', dependencies=[], operator_name='wait_for_table', operator_spec={'table': 'fct_contact_intent', 'domain': 'contact', 'partitions': ['p_created_date={{ data_interval_start | ds }}'], 'data_product': 'contact_intent'}), OperatorTask(id='wait_for_order_refund_incidents', dependencies=[], operator_name='wait_for_table', operator_spec={'table': 'order_refund_incidents', 'domain': 'contact', 'partitions': ['p_creation_date={{ data_interval_start | ds }}'], 'data_product': 'order_refund_incidents'}), OperatorTask(id='wait_for_bought_products_v2', dependencies=[], operator_name='wait_for_table', operator_spec={'table': 'bought_products_v2', 'domain': 'customer', 'partitions': ['p_creation_date={{ data_interval_start | ds }}'], 'data_product': 'bought_products'}), OperatorTask(id='query_to_table__pna_orders_info', dependencies=['wait_for_order_descriptors_v2', 'wait_for_fct_contact_intent', 'wait_for_order_refund_incidents', 'wait_for_bought_products_v2'], operator_name='query_to_table', operator_spec={'slo': {'partition': 'p_creation_date', 'timeliness': '08:00:00', 'partition_time_unit': 'DAILY'}, 'sql': \"with orders as (\\n    select\\n        p_creation_date,\\n        order_id,\\n        customer_id,\\n        store_address_id,\\n        order_vertical,\\n        order_city_code,\\n        order_country_code,\\n        order_parent_relationship_type,\\n        order_final_status,\\n        -- order_is_pna_cancellation\\n        if(order_cancel_reason = 'PRODUCTS_NOT_AVAILABLE', true, false) as order_is_pna_cancellation\\n    from delta.central_order_descriptors_odp.order_descriptors_v2\\n    where 1=1\\n)\\n\\n, fct_contact_intent as (\\n    select\\n        order_id,\\n        array_agg(feedback_selected_option) as feedback_selected_options\\n    from delta.contact_contact_intent_odp.fct_contact_intent\\n    where 1=1\\n    group by order_id\\n)\\n\\n, order_refund_incidents as (\\n    select\\n        order_id,\\n        array_agg(reason) as reasons\\n    from delta.contact_order_refund_incidents_odp.order_refund_incidents\\n    where 1=1\\n    group by order_id\\n)\\n\\n, bought_products as (\\n    select\\n        bought_products.order_id,\\n        -- bought_product_id_is_pna_replacement\\n        if(bought_products.bought_product_quantity > 0\\n            and bought_products.replaced_by_bought_product_id is not null\\n            and bought_products_additions_removals_replacements.product_external_id != bought_products.product_external_id, true, false) as bought_product_id_is_pna_replacement,\\n        -- bought_product_id_is_pna_partial_removal\\n        if(bought_products.bought_product_quantity > 0\\n            and bought_products.replaced_by_bought_product_id is not null\\n            and bought_products_additions_removals_replacements.bought_product_quantity < bought_products.bought_product_quantity\\n            and bought_products_additions_removals_replacements.bought_product_quantity > 0\\n            and bought_products_additions_removals_replacements.product_external_id = bought_products.product_external_id, true, false) as bought_product_id_is_pna_partial_removal,\\n        -- bought_product_id_is_pna_total_removal\\n        if(bought_products.bought_product_quantity > 0\\n           and bought_products.replaced_by_bought_product_id is not null\\n           and bought_products_additions_removals_replacements.bought_product_quantity = 0\\n           and bought_products_additions_removals_replacements.product_external_id = bought_products.product_external_id, true, false) as bought_product_id_is_pna_total_removal\\n    from delta.customer_bought_products_odp.bought_products_v2 as bought_products\\n    left join delta.customer_bought_products_odp.bought_products_v2 as bought_products_additions_removals_replacements\\n            on bought_products.replaced_by_bought_product_id = bought_products_additions_removals_replacements.bought_product_id\\n    where 1=1\\n)\\n\\n, bought_products_stats as (\\n    select\\n        order_id,\\n        bool_or(bought_product_id_is_pna_replacement) as order_is_pna_replacement,\\n        bool_or(bought_product_id_is_pna_partial_removal) as order_is_pna_partial_removal,\\n        bool_or(bought_product_id_is_pna_total_removal) as order_is_pna_total_removal\\n    from bought_products\\n    group by order_id\\n)\\n\\n, orders_with_pna_stats as (\\n    select\\n        o.p_creation_date,\\n        o.order_id,\\n        o.customer_id,\\n        o.store_address_id,\\n        o.order_vertical,\\n        o.order_city_code,\\n        o.order_country_code,\\n        o.order_is_pna_cancellation,\\n        -- order_is_pna_wm_feedback\\n        coalesce(contains(fci.feedback_selected_options, 'MISSING_PRODUCTS') or contains(fci.feedback_selected_options, 'MISSING_WRONG_PRODUCTS') or contains(fci.feedback_selected_options, 'WRONG_PRODUCTS') or contains(fci.feedback_selected_options, 'MISSING_EXTRAS'), false ) as order_is_pna_wm_feedback,\\n        -- order_is_pna_refund\\n        coalesce(contains(ofi.reasons, 'MISSING_PRODUCTS') or contains(ofi.reasons, 'WRONG_PRODUCTS') or contains(ofi.reasons, 'MISTAKE_PRODUCT') or contains(ofi.reasons, 'MISSING_PRODUCT') or contains(ofi.reasons, 'PRODUCT_UNAVAILABLE'), false ) as order_is_pna_refund,\\n        -- order_is_pna_replacement\\n        coalesce((o.order_parent_relationship_type <> 'SPLIT' or o.order_parent_relationship_type is null) and o.order_final_status = 'DeliveredStatus' and bps.order_is_pna_replacement, false) as order_is_pna_replacement,\\n        -- order_is_pna_partial_removal\\n        coalesce((o.order_parent_relationship_type <> 'SPLIT' or o.order_parent_relationship_type is null) and o.order_final_status = 'DeliveredStatus' and bps.order_is_pna_partial_removal, false) as order_is_pna_partial_removal,\\n        -- order_is_pna_total_removal\\n        coalesce((o.order_parent_relationship_type <> 'SPLIT' or o.order_parent_relationship_type is null) and o.order_final_status = 'DeliveredStatus' and bps.order_is_pna_total_removal, false) as order_is_pna_total_removal\\n    from orders o\\n    left join fct_contact_intent as fci on o.order_id = fci.order_id\\n    left join order_refund_incidents as ofi on o.order_id = ofi.order_id\\n    left join bought_products_stats as bps on o.order_id = bps.order_id\\n)\\n\\n, orders_with_pna as (\\n    select\\n        *,\\n        (order_is_pna_cancellation\\n        or order_is_pna_wm_feedback\\n        or order_is_pna_refund\\n        or order_is_pna_replacement\\n        or order_is_pna_partial_removal\\n        or order_is_pna_total_removal) as order_is_pna\\n    from orders_with_pna_stats\\n)\\n\\nselect\\n    *\\nfrom orders_with_pna\\nwhere 1=1\\n\", 'is_odp': True, 'write_mode': 'FULL', 'partition_by': ['p_creation_date'], 'target_table': 'pna_orders_info', 'data_classification': 'L1', 'field_documentation': {'order_id': 'It represents the order id', 'customer_id': 'Customer id', 'order_is_pna': 'Order contains at least one of the PNA scenarios', 'order_vertical': 'Order vertical', 'order_city_code': 'Order city code', 'p_creation_date': 'Order creation date', 'store_address_id': 'Store address id', 'order_country_code': 'Order country code', 'order_is_pna_refund': 'Order has PNA due to refunds', 'order_is_pna_replacement': 'Order contains at least one product with PNA replacement', 'order_is_pna_wm_feedback': 'Order has PNA due to WM feedback', 'order_is_pna_cancellation': 'Order has PNA due to cancellation reason', 'order_is_pna_total_removal': 'Order contains at least one product with PNA total removal', 'order_is_pna_partial_removal': 'Order contains at least one product with PNA partial removal'}, 'table_documentation': 'Official table Orders PNA info.'}), OperatorTask(id='query_to_table__pna_products_info', dependencies=['wait_for_order_descriptors_v2', 'wait_for_fct_contact_intent', 'wait_for_order_refund_incidents', 'wait_for_bought_products_v2'], operator_name='query_to_table', operator_spec={'slo': {'partition': 'p_creation_date', 'timeliness': '08:00:00', 'partition_time_unit': 'DAILY'}, 'sql': \"with fct_contact_intent as (\\n    select\\n        order_id,\\n        bought_product_id,\\n        array_agg(feedback_selected_option) as feedback_selected_options\\n    from delta.contact_contact_intent_odp.fct_contact_intent\\n    where 1=1\\n    group by order_id, bought_product_id\\n)\\n\\n,orders as (\\n    select\\n        order_id as orders_order_id,\\n        customer_id,\\n        store_address_id,\\n        order_vertical,\\n        order_city_code,\\n        order_country_code,\\n        order_final_status\\n    from delta.central_order_descriptors_odp.order_descriptors_v2\\n    where 1=1\\n)\\n\\n,bought_products as (\\n    select\\n        date(bought_products.bought_product_created_at) as p_creation_date,\\n        bought_products.order_id,\\n        bought_products.product_external_id,\\n        bought_products.product_id,\\n        bought_products.bought_product_id,\\n        bought_products.product_name,\\n        bought_products.replaced_bought_product_id,\\n        bought_products.replaced_by_bought_product_id,\\n        bought_products.bought_product_quantity,\\n        -- bought_product_id_is_pna_replacement\\n        if(bought_products.bought_product_quantity > 0\\n            and bought_products.replaced_by_bought_product_id is not null\\n            and bought_products_additions_removals_replacements.product_external_id != bought_products.product_external_id, true, false) as bought_product_id_is_pna_replacement,\\n        -- bought_product_id_is_pna_partial_removal\\n        if(bought_products.bought_product_quantity > 0\\n            and bought_products.replaced_by_bought_product_id is not null\\n            and bought_products_additions_removals_replacements.bought_product_quantity < bought_products.bought_product_quantity\\n            and bought_products_additions_removals_replacements.bought_product_quantity > 0\\n            and bought_products_additions_removals_replacements.product_external_id = bought_products.product_external_id, true, false) as bought_product_id_is_pna_partial_removal,\\n        -- bought_product_id_is_pna_total_removal\\n        if(bought_products.bought_product_quantity > 0\\n           and bought_products.replaced_by_bought_product_id is not null\\n           and bought_products_additions_removals_replacements.bought_product_quantity = 0\\n           and bought_products_additions_removals_replacements.product_external_id = bought_products.product_external_id, true, false) as bought_product_id_is_pna_total_removal,\\n        coalesce(contains(fci.feedback_selected_options, 'MISSING_PRODUCTS') or contains(fci.feedback_selected_options, 'MISSING_WRONG_PRODUCTS') or contains(fci.feedback_selected_options, 'WRONG_PRODUCTS') or contains(fci.feedback_selected_options, 'MISSING_EXTRAS'), false ) as bought_product_id_is_wm_feedback\\n    from delta.customer_bought_products_odp.bought_products_v2 as bought_products\\n    left join delta.customer_bought_products_odp.bought_products_v2 as bought_products_additions_removals_replacements\\n            on bought_products.replaced_by_bought_product_id = bought_products_additions_removals_replacements.bought_product_id\\n    left join fct_contact_intent fci on bought_products.order_id = fci.order_id and bought_products.bought_product_id = fci.bought_product_id\\n    where 1=1\\n)\\n\\n,bought_products_enriched as (\\n    select\\n        *,\\n        (bought_product_id_is_pna_replacement or bought_product_id_is_pna_partial_removal or bought_product_id_is_pna_total_removal or bought_product_id_is_wm_feedback) as bought_product_id_is_pna\\n    from bought_products bp\\n    left join orders o on bp.order_id = o.orders_order_id\\n)\\n\\nselect\\n    p_creation_date,\\n    order_id,\\n    order_final_status,\\n    customer_id,\\n    store_address_id,\\n    order_vertical,\\n    order_city_code,\\n    order_country_code,\\n    product_external_id,\\n    product_id,\\n    bought_product_id,\\n    product_name,\\n    replaced_bought_product_id,\\n    replaced_by_bought_product_id,\\n    bought_product_id_is_pna_replacement,\\n    bought_product_id_is_pna_partial_removal,\\n    bought_product_id_is_pna_total_removal,\\n    bought_product_id_is_wm_feedback,\\n    bought_product_id_is_pna\\nfrom bought_products_enriched\\nwhere 1=1\\n\", 'is_odp': True, 'write_mode': 'FULL', 'partition_by': ['p_creation_date'], 'target_table': 'pna_products_info', 'data_classification': 'L1', 'field_documentation': {'order_id': 'It represents the order id', 'product_id': 'Product id (may change over time for a given external id)', 'customer_id': 'Customer id', 'product_name': 'Product name', 'order_vertical': 'Order vertical', 'order_city_code': 'Order city code', 'p_creation_date': 'Creation date of the order', 'store_address_id': 'Store address id', 'bought_product_id': 'Bought product id (PK of bought products)', 'order_country_code': 'Order country code', 'order_final_status': 'Order final status', 'product_external_id': 'Product External id', 'bought_product_id_is_pna': '(True/False) Bought product id has pna of any of the previous types', 'replaced_bought_product_id': 'Replaced bought product id', 'replaced_by_bought_product_id': 'Replaced by bought product id', 'bought_product_id_is_replacement': '(True/False) Bought product id is replaced', 'bought_product_id_is_wm_feedback': '(True/False) Bought product id has pna due to wm feedback', 'bought_product_id_is_pna_total_removal': '(True/False) Bought product id has pna due to total removal', 'bought_product_id_is_pna_partial_removal': '(True/False) Bought product id has pna due to partial removal'}, 'table_documentation': 'Official table Products PNA info.'}), OperatorTask(id='data_quality', dependencies=['query_to_table__pna_products_info'], operator_name='data_quality', operator_spec={'check_groups': [{'table': 'pna_orders_info', 'checks': [{'is_unique': {'column': 'order_id', 'is_critical': True}}, {'not_null': {'column': 'order_id', 'is_critical': True}}, {'not_null': {'column': 'order_is_pna', 'is_critical': True}}], 'is_odp': True}, {'query': \"\\n                    SELECT COUNT(*) AS freshness_check\\n                    FROM [schema].pna_orders_info\\n                    WHERE p_creation_date = DATE '{{ data_interval_start | ds }}'\\n        \", 'table': 'pna_orders_info', 'checks': [{'in_range': {'column': 'freshness_check', 'dimension': 'FRESHNESS', 'min_value': 1.0, 'is_critical': True}}], 'is_odp': True}, {'query': \"\\n                    SELECT\\n                        p_creation_date,\\n                        count_if(order_is_pna) as cnt\\n                    FROM [schema].pna_orders_info\\n                    where p_creation_date >= current_date - interval '5' day\\n                    group by 1\\n        \", 'table': 'pna_orders_info', 'checks': [{'in_range': {'column': 'cnt', 'dimension': 'CONSISTENCY', 'max_value': 300000.0, 'min_value': 10000.0, 'is_critical': True}}], 'is_odp': True}, {'table': 'pna_products_info', 'checks': [{'is_unique': {'column': 'bought_product_id', 'is_critical': True}}, {'not_null': {'column': 'bought_product_id', 'is_critical': True}}, {'not_null': {'column': 'bought_product_id_is_pna', 'is_critical': True}}], 'is_odp': True}, {'query': \"\\n                    SELECT COUNT(*) AS freshness_check\\n                    FROM [schema].pna_products_info\\n                    WHERE p_creation_date = DATE '{{ data_interval_start | ds }}'\\n        \", 'table': 'pna_products_info', 'checks': [{'in_range': {'column': 'freshness_check', 'dimension': 'FRESHNESS', 'min_value': 1.0, 'is_critical': True}}], 'is_odp': True}, {'query': \"\\n                    SELECT\\n                        p_creation_date,\\n                        count_if(bought_product_id_is_pna) as cnt\\n                    FROM [schema].pna_products_info\\n                    where p_creation_date >= current_date - interval '5' day\\n                    group by 1\\n        \", 'table': 'pna_products_info', 'checks': [{'in_range': {'column': 'cnt', 'dimension': 'CONSISTENCY', 'max_value': 500000.0, 'min_value': 10000.0, 'is_critical': True}}], 'is_odp': True}], 'dq_notifications_channel': 'mfc-ddp-execution', 'enable_detailed_dq_notifications': True})], schedule='30 7 * * *', options={'airflow_dag_options': {'default_args': {'retries': 3, 'retry_delay': 600.0, 'retry_exponential_backoff': True}}}, checksum='2302d7d5765b3e743471c9784bdfb7b99e11447d13613ea68195cb8b6da6e495')], id='64407faf-1bc7-46c1-bd4f-ea03656c7fd6'), created_at=datetime.datetime(2024, 10, 18, 15, 35, 54, tzinfo=TzInfo(UTC)), updated_at=datetime.datetime(2025, 1, 20, 15, 14, 23, tzinfo=TzInfo(UTC)), created_by='3fea7380-0c6c-013c-0fa8-46611f88edd937815', creation_reason='', superseded_by_revision_id=None, supersedes_revision_id='22355f0f-6e51-4aea-988d-fd70e40211de', status=<RevisionStatus.ACTIVE: 'ACTIVE'>, deployment=RevisionDeploymentDto(status=<RevisionDeploymentStatus.COMPLETED: 'COMPLETED'>, changed_at=datetime.datetime(2025, 1, 20, 15, 14, 23, 618885, tzinfo=TzInfo(UTC)), error=None, info={'kind': 'AIRFLOW_EKS', 'rules': '{\"DEFAULT\": {\"cluster_name\": \"declarative-dp-workflow.g8s-data-platform-prod.glovoint.com\", \"base_ui_url\": \"https://declarative-dp-workflow.g8s-data-platform-prod.glovoint.com\", \"dag_folder\": \"dags-eks\", \"namespace\": \"declarative-dp-workflow-manager\", \"notifiers\": [\"SLACK\", \"KAFKA\", \"DATADOG\", \"OTEL\"], \"region\": \"eu-west-1\"}, \"T0T1\": {\"cluster_name\": \"ddp-prio-workflow.g8s-data-platform-prod.glovoint.com\", \"base_ui_url\": \"https://ddp-prio-workflow.g8s-data-platform-prod.glovoint.com\", \"dag_folder\": \"dags-prio-eks\", \"namespace\": \"ddp-prio-workflow-manager\", \"notifiers\": [\"SLACK\", \"KAFKA\", \"DATADOG\", \"OTEL\"], \"region\": \"eu-west-1\"}, \"DESERT\": {\"cluster_name\": \"ddp-desert-workflow.g8s-data-platform-prod.glovoint.com\", \"base_ui_url\": \"https://ddp-desert-workflow.g8s-data-platform-prod.glovoint.com\", \"dag_folder\": \"dags-desert-eks\", \"namespace\": \"ddp-desert-workflow-manager\", \"notifiers\": [\"SLACK\", \"KAFKA\", \"DATADOG\", \"OTEL\"], \"region\": \"eu-west-1\"}}', 'namespace': 'ddp-prio-workflow-manager', 'airflow_ui': 'https://ddp-prio-workflow.g8s-data-platform-prod.glovoint.com', 'cluster_name': 'ddp-prio-workflow.g8s-data-platform-prod.glovoint.com', 'airflow_dag_ui': 'https://ddp-prio-workflow.g8s-data-platform-prod.glovoint.com/dags/mfc__pna__r__main/grid', 'cloud_provider': 'AWS', 'dags_base_path': 's3://declarative-products-airflow-prod-3ecc0abb/dags-prio-eks', 'dags_base_bucket': 's3://declarative-products-airflow-prod-3ecc0abb', 'pipelines_name_prefix': 'mfc__pna__r__'}, warnings=[], resources=RevisionResourcesDto(databases=DataProductDatabasesDto(internal='mfc__pna__internal', odp='mfc__pna__odp', sandbox='zzz__mfc__pna__2e91bb0161')), publisher=RevisionPublisherDto(client_info='glovo-data-platform-meshub-client==0.1.179', repository_url='https://github.com/Glovo/data-mesh-declarative-data-products', action_run_url='https://github.com/Glovo/data-mesh-declarative-data-products/actions/runs/11406674059', pull_request_url='https://github.com/Glovo/data-mesh-declarative-data-products/pull/', pull_request_author='daniela-montero')), decommission=None, tags={'name:mfc__pna'}), active_dataset_slo=DatasetSloCreateDto(partition_time_unit=<PartitionTimeUnit.DAILY: 'DAILY'>, partition='p_creation_date', timedelta=datetime.timedelta(days=1), timeliness=datetime.time(8, 0), id='97e02aff-63c7-48d1-8b6d-3c1815892adf', dataset_revision_id='415968be-b6b9-4e9f-821d-ab095ca2eee7'), generated_revision=True)"
      ]
     },
     "execution_count": 5,
     "metadata": {},
     "output_type": "execute_result"
    }
   ],
   "source": [
    "data_product_manager.deprecate_dataset(TABLE, \"ODP\")"
   ]
  },
  {
   "cell_type": "markdown",
   "metadata": {},
   "source": [
    "# Deprecate internal tables"
   ]
  },
  {
   "cell_type": "code",
   "execution_count": 5,
   "metadata": {},
   "outputs": [],
   "source": [
    "# TABLE = \"gfop_customers_info\""
   ]
  },
  {
   "cell_type": "code",
   "execution_count": null,
   "metadata": {},
   "outputs": [],
   "source": [
    "# data_product_manager.deprecate_dataset(TABLE, \"ODP\")"
   ]
  },
  {
   "cell_type": "markdown",
   "metadata": {},
   "source": [
    "# Deprecate the DP"
   ]
  },
  {
   "cell_type": "code",
   "execution_count": 7,
   "metadata": {},
   "outputs": [
    {
     "ename": "HTTPError",
     "evalue": "500 Server Error for URL https://meshub-backend.g8s-data-platform-prod.glovoint.com/api/v1/data-products/64407faf-1bc7-46c1-bd4f-ea03656c7fd6/deprecate: => DatasetDecomissionError:  - {}",
     "output_type": "error",
     "traceback": [
      "\u001b[0;31m---------------------------------------------------------------------------\u001b[0m",
      "\u001b[0;31mHTTPError\u001b[0m                                 Traceback (most recent call last)",
      "Cell \u001b[0;32mIn[7], line 1\u001b[0m\n\u001b[0;32m----> 1\u001b[0m \u001b[43mdata_product_manager\u001b[49m\u001b[38;5;241;43m.\u001b[39;49m\u001b[43mdeprecate_published_data_product\u001b[49m\u001b[43m(\u001b[49m\u001b[43m)\u001b[49m\n",
      "File \u001b[0;32m~/Documents/repos/central-node/venvs/venv_data_mesh_t1/.venv/lib/python3.13/site-packages/declarative_dp_sdk/manager.py:235\u001b[0m, in \u001b[0;36mDataProductManager.deprecate_published_data_product\u001b[0;34m(self, decommission)\u001b[0m\n\u001b[1;32m    230\u001b[0m effective_decommission \u001b[38;5;241m=\u001b[39m decommission \u001b[38;5;129;01mor\u001b[39;00m DecommissionInfoDto(\n\u001b[1;32m    231\u001b[0m     decommission_at\u001b[38;5;241m=\u001b[39mdatetime\u001b[38;5;241m.\u001b[39mnow(tz\u001b[38;5;241m=\u001b[39mtimezone\u001b[38;5;241m.\u001b[39mutc), strategy\u001b[38;5;241m=\u001b[39mDecommissionStrategy\u001b[38;5;241m.\u001b[39mARCHIVE\n\u001b[1;32m    232\u001b[0m )\n\u001b[1;32m    234\u001b[0m dp \u001b[38;5;241m=\u001b[39m \u001b[38;5;28mself\u001b[39m\u001b[38;5;241m.\u001b[39m_service_client\u001b[38;5;241m.\u001b[39mdomain_data_product(\u001b[38;5;28mself\u001b[39m\u001b[38;5;241m.\u001b[39m_domain, \u001b[38;5;28mself\u001b[39m\u001b[38;5;241m.\u001b[39m_name)\n\u001b[0;32m--> 235\u001b[0m \u001b[38;5;28;01mreturn\u001b[39;00m \u001b[38;5;28;43mself\u001b[39;49m\u001b[38;5;241;43m.\u001b[39;49m\u001b[43m_service_client\u001b[49m\u001b[38;5;241;43m.\u001b[39;49m\u001b[43mdata_product_deprecate\u001b[49m\u001b[43m(\u001b[49m\u001b[43mdp\u001b[49m\u001b[38;5;241;43m.\u001b[39;49m\u001b[43mdata_product_id\u001b[49m\u001b[43m,\u001b[49m\u001b[43m \u001b[49m\u001b[43meffective_decommission\u001b[49m\u001b[43m)\u001b[49m\n",
      "File \u001b[0;32m~/Documents/repos/central-node/venvs/venv_data_mesh_t1/.venv/lib/python3.13/site-packages/declarative_dp_meshub_client/meshub_client/client.py:188\u001b[0m, in \u001b[0;36mMeshubApiClient.data_product_deprecate\u001b[0;34m(self, data_product_id, decommission_dto)\u001b[0m\n\u001b[1;32m    186\u001b[0m method \u001b[38;5;241m=\u001b[39m \u001b[38;5;124m\"\u001b[39m\u001b[38;5;124mPOST\u001b[39m\u001b[38;5;124m\"\u001b[39m\n\u001b[1;32m    187\u001b[0m api_version \u001b[38;5;241m=\u001b[39m get_api_version(method, endpoint)\n\u001b[0;32m--> 188\u001b[0m json_resp \u001b[38;5;241m=\u001b[39m \u001b[38;5;28;43mself\u001b[39;49m\u001b[38;5;241;43m.\u001b[39;49m\u001b[43m_call_api\u001b[49m\u001b[43m(\u001b[49m\u001b[43mendpoint\u001b[49m\u001b[43m,\u001b[49m\u001b[43m \u001b[49m\u001b[43mmethod\u001b[49m\u001b[43m,\u001b[49m\u001b[43m \u001b[49m\u001b[43m_to_json\u001b[49m\u001b[43m(\u001b[49m\u001b[43mdecommission_dto\u001b[49m\u001b[43m)\u001b[49m\u001b[43m,\u001b[49m\u001b[43m \u001b[49m\u001b[43mapi_version\u001b[49m\u001b[38;5;241;43m=\u001b[39;49m\u001b[43mapi_version\u001b[49m\u001b[43m)\u001b[49m\n\u001b[1;32m    189\u001b[0m \u001b[38;5;28;01mreturn\u001b[39;00m DtoFactory\u001b[38;5;241m.\u001b[39mcreate(\u001b[38;5;124m\"\u001b[39m\u001b[38;5;124mDataProductRevisionDto\u001b[39m\u001b[38;5;124m\"\u001b[39m, data\u001b[38;5;241m=\u001b[39mjson_resp, api_version\u001b[38;5;241m=\u001b[39mapi_version)\n",
      "File \u001b[0;32m~/Documents/repos/central-node/venvs/venv_data_mesh_t1/.venv/lib/python3.13/site-packages/declarative_dp_meshub_client/meshub_client/client.py:77\u001b[0m, in \u001b[0;36mMeshubApiClient._call_api\u001b[0;34m(self, endpoint, method, json_body, params, headers, api_version)\u001b[0m\n\u001b[1;32m     75\u001b[0m r \u001b[38;5;241m=\u001b[39m \u001b[38;5;28mself\u001b[39m\u001b[38;5;241m.\u001b[39m_session\u001b[38;5;241m.\u001b[39mrequest(method\u001b[38;5;241m=\u001b[39mmethod, \u001b[38;5;241m*\u001b[39m\u001b[38;5;241m*\u001b[39mrequest_args)\n\u001b[1;32m     76\u001b[0m \u001b[38;5;66;03m# TODO check for 401 and retry the login flow.\u001b[39;00m\n\u001b[0;32m---> 77\u001b[0m \u001b[38;5;28;43mself\u001b[39;49m\u001b[38;5;241;43m.\u001b[39;49m\u001b[43m_raise_for_status\u001b[49m\u001b[43m(\u001b[49m\u001b[43mr\u001b[49m\u001b[43m)\u001b[49m\n\u001b[1;32m     78\u001b[0m \u001b[38;5;28;01mreturn\u001b[39;00m r\u001b[38;5;241m.\u001b[39mjson()\n",
      "File \u001b[0;32m~/Documents/repos/central-node/venvs/venv_data_mesh_t1/.venv/lib/python3.13/site-packages/declarative_dp_meshub_client/base_client/client.py:95\u001b[0m, in \u001b[0;36mBaseApiClient._raise_for_status\u001b[0;34m(self, response)\u001b[0m\n\u001b[1;32m     93\u001b[0m     http_error_msg \u001b[38;5;241m=\u001b[39m \u001b[38;5;124mf\u001b[39m\u001b[38;5;124m\"\u001b[39m\u001b[38;5;132;01m{\u001b[39;00mresponse\u001b[38;5;241m.\u001b[39mstatus_code\u001b[38;5;132;01m}\u001b[39;00m\u001b[38;5;124m Server Error for URL \u001b[39m\u001b[38;5;132;01m{\u001b[39;00mresponse\u001b[38;5;241m.\u001b[39murl\u001b[38;5;132;01m}\u001b[39;00m\u001b[38;5;124m: \u001b[39m\u001b[38;5;132;01m{\u001b[39;00mmessage\u001b[38;5;132;01m}\u001b[39;00m\u001b[38;5;124m - \u001b[39m\u001b[38;5;132;01m{\u001b[39;00mdetail\u001b[38;5;132;01m}\u001b[39;00m\u001b[38;5;124m\"\u001b[39m\n\u001b[1;32m     94\u001b[0m \u001b[38;5;28;01mif\u001b[39;00m http_error_msg:\n\u001b[0;32m---> 95\u001b[0m     \u001b[38;5;28;01mraise\u001b[39;00m HTTPError(http_error_msg, response\u001b[38;5;241m=\u001b[39m\u001b[38;5;28mself\u001b[39m)\n",
      "\u001b[0;31mHTTPError\u001b[0m: 500 Server Error for URL https://meshub-backend.g8s-data-platform-prod.glovoint.com/api/v1/data-products/64407faf-1bc7-46c1-bd4f-ea03656c7fd6/deprecate: => DatasetDecomissionError:  - {}"
     ]
    }
   ],
   "source": [
    "data_product_manager.deprecate_published_data_product()"
   ]
  }
 ],
 "metadata": {
  "kernelspec": {
   "display_name": "venv_data_mesh_t1",
   "language": "python",
   "name": "venv_data_mesh_t1"
  },
  "language_info": {
   "codemirror_mode": {
    "name": "ipython",
    "version": 3
   },
   "file_extension": ".py",
   "mimetype": "text/x-python",
   "name": "python",
   "nbconvert_exporter": "python",
   "pygments_lexer": "ipython3",
   "version": "3.13.0"
  }
 },
 "nbformat": 4,
 "nbformat_minor": 2
}
