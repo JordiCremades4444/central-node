{
 "cells": [
  {
   "cell_type": "markdown",
   "metadata": {},
   "source": [
    "# Deprecate data product"
   ]
  },
  {
   "cell_type": "markdown",
   "metadata": {},
   "source": [
    "https://fictional-winner-z4ql2vk.pages.github.io/how_to/declarative_dp_sdk/"
   ]
  },
  {
   "cell_type": "code",
   "execution_count": 1,
   "metadata": {},
   "outputs": [
    {
     "name": "stderr",
     "output_type": "stream",
     "text": [
      "/Users/jordicremades/Documents/repos/central-node/venvs/venv_data_mesh_t1/.venv/lib/python3.13/site-packages/pydantic/_internal/_fields.py:201: UserWarning: Field name \"schema\" in \"ExternalSourceSchema\" shadows an attribute in parent \"MeshubBaseModel\"\n",
      "  warnings.warn(\n"
     ]
    },
    {
     "name": "stdout",
     "output_type": "stream",
     "text": [
      "{\"taskName\": \"Task-3\", \"@timestamp\": \"2025-02-03T14:34:04.955937+00:00\", \"level\": \"WARNING\", \"trace_id\": \"3582e86354b0eeb05a4295aac04229d7\", \"span_id\": \"334028a355235690\", \"trace_flags\": 0, \"thread_name\": \"MainThread\", \"pid\": 16677, \"process_name\": \"MainProcess\", \"message\": \"Failed to load sink 'datadog'. Missing dependencies?\", \"version\": null, \"env\": null, \"service\": null, \"team\": null, \"time\": \"2025-02-03T14:34:04.955937+00:00\"}\n",
      "{\"taskName\": \"Task-3\", \"@timestamp\": \"2025-02-03T14:34:04.957274+00:00\", \"level\": \"WARNING\", \"trace_id\": \"841378e89dba4e1ae00c2a8ece809bc7\", \"span_id\": \"222e440afd555425\", \"trace_flags\": 0, \"thread_name\": \"MainThread\", \"pid\": 16677, \"process_name\": \"MainProcess\", \"message\": \"Failed to load sink 'datahub'. Missing dependencies?\", \"version\": null, \"env\": null, \"service\": null, \"team\": null, \"time\": \"2025-02-03T14:34:04.957274+00:00\"}\n",
      "{\"taskName\": \"Task-3\", \"@timestamp\": \"2025-02-03T14:34:04.958483+00:00\", \"level\": \"WARNING\", \"trace_id\": \"5cb19bbe12db9a37218ce8fe2a5bd41d\", \"span_id\": \"b0f45b5a375c41ce\", \"trace_flags\": 0, \"thread_name\": \"MainThread\", \"pid\": 16677, \"process_name\": \"MainProcess\", \"message\": \"Failed to load sink 'kafka'. Missing dependencies?\", \"version\": null, \"env\": null, \"service\": null, \"team\": null, \"time\": \"2025-02-03T14:34:04.958483+00:00\"}\n",
      "{\"taskName\": \"Task-3\", \"@timestamp\": \"2025-02-03T14:34:05.046574+00:00\", \"level\": \"WARNING\", \"trace_id\": \"808f6f131e5ee5b088852a20493123a0\", \"span_id\": \"0d887b3bd5f4bda1\", \"trace_flags\": 0, \"thread_name\": \"MainThread\", \"pid\": 16677, \"process_name\": \"MainProcess\", \"message\": \"Failed to load sink 'slack'. Missing dependencies?\", \"version\": null, \"env\": null, \"service\": null, \"team\": null, \"time\": \"2025-02-03T14:34:05.046574+00:00\"}\n"
     ]
    }
   ],
   "source": [
    "from declarative_dp_sdk.manager import DataProductManager\n",
    "from declarative_dp_sdk.utils import print_deployment_info"
   ]
  },
  {
   "cell_type": "code",
   "execution_count": 2,
   "metadata": {},
   "outputs": [],
   "source": [
    "# you can use the same DataProductManager used to create the DP.\n",
    "DOMAIN = \"central\"\n",
    "NAME = \"gfop_customers_dp\"\n",
    "OWNER = \"jordi.cremades@glovoapp.com\"\n",
    "TIER = \"T2\"\n",
    "\n",
    "\n",
    "data_product_manager = DataProductManager(\n",
    "        domain=DOMAIN,\n",
    "        name=NAME,\n",
    "        owner=OWNER,\n",
    "        tier=TIER\n",
    ")"
   ]
  },
  {
   "cell_type": "markdown",
   "metadata": {},
   "source": [
    "# Deprecate odp tables"
   ]
  },
  {
   "cell_type": "code",
   "execution_count": 3,
   "metadata": {},
   "outputs": [],
   "source": [
    "TABLE = \"gfop_customers_info\""
   ]
  },
  {
   "cell_type": "code",
   "execution_count": 4,
   "metadata": {},
   "outputs": [
    {
     "ename": "HTTPError",
     "evalue": "404 Client Error for URL https://meshub-backend.g8s-data-platform-prod.glovoint.com/api/v1/data-products/da58da28-964f-4d88-b61b-fc018976e7ea/datasets/gfop_customers_info?kind=ODP: dataset_reference not found - {'resource': {'type': 'dataset_reference', 'identifiers': {'revision_id': 'None', 'dataset_name': 'gfop_customers_info', 'dataset_id': 'None', 'dataset_revision_id': 'None', 'data_product_id': 'da58da28-964f-4d88-b61b-fc018976e7ea'}, 'properties': {'kinds': \"[<DatasetKind.ODP: 'ODP'>]\", 'statuses': \"[<DatasetStatus.ACTIVE: 'ACTIVE'>]\"}}, 'search_criteria': [\"id='None'\"]}",
     "output_type": "error",
     "traceback": [
      "\u001b[0;31m---------------------------------------------------------------------------\u001b[0m",
      "\u001b[0;31mHTTPError\u001b[0m                                 Traceback (most recent call last)",
      "Cell \u001b[0;32mIn[4], line 1\u001b[0m\n\u001b[0;32m----> 1\u001b[0m \u001b[43mdata_product_manager\u001b[49m\u001b[38;5;241;43m.\u001b[39;49m\u001b[43mdeprecate_dataset\u001b[49m\u001b[43m(\u001b[49m\u001b[43mTABLE\u001b[49m\u001b[43m,\u001b[49m\u001b[43m \u001b[49m\u001b[38;5;124;43m\"\u001b[39;49m\u001b[38;5;124;43mODP\u001b[39;49m\u001b[38;5;124;43m\"\u001b[39;49m\u001b[43m)\u001b[49m\n",
      "File \u001b[0;32m~/Documents/repos/central-node/venvs/venv_data_mesh_t1/.venv/lib/python3.13/site-packages/declarative_dp_sdk/manager.py:360\u001b[0m, in \u001b[0;36mDataProductManager.deprecate_dataset\u001b[0;34m(self, name, kind)\u001b[0m\n\u001b[1;32m    358\u001b[0m effective_kind \u001b[38;5;241m=\u001b[39m DatasetKind(kind\u001b[38;5;241m.\u001b[39mupper() \u001b[38;5;28;01mif\u001b[39;00m \u001b[38;5;28misinstance\u001b[39m(kind, \u001b[38;5;28mstr\u001b[39m) \u001b[38;5;28;01melse\u001b[39;00m kind)\n\u001b[1;32m    359\u001b[0m data_product \u001b[38;5;241m=\u001b[39m \u001b[38;5;28mself\u001b[39m\u001b[38;5;241m.\u001b[39m_service_client\u001b[38;5;241m.\u001b[39mdomain_data_product(domain_name\u001b[38;5;241m=\u001b[39m\u001b[38;5;28mself\u001b[39m\u001b[38;5;241m.\u001b[39m_domain, data_product_name\u001b[38;5;241m=\u001b[39m\u001b[38;5;28mself\u001b[39m\u001b[38;5;241m.\u001b[39m_name)\n\u001b[0;32m--> 360\u001b[0m dataset \u001b[38;5;241m=\u001b[39m \u001b[38;5;28;43mself\u001b[39;49m\u001b[38;5;241;43m.\u001b[39;49m\u001b[43m_service_client\u001b[49m\u001b[38;5;241;43m.\u001b[39;49m\u001b[43mdata_product_dataset\u001b[49m\u001b[43m(\u001b[49m\n\u001b[1;32m    361\u001b[0m \u001b[43m    \u001b[49m\u001b[43mdata_product_id\u001b[49m\u001b[38;5;241;43m=\u001b[39;49m\u001b[43mdata_product\u001b[49m\u001b[38;5;241;43m.\u001b[39;49m\u001b[43mdata_product_id\u001b[49m\u001b[43m,\u001b[49m\u001b[43m \u001b[49m\u001b[43mdataset_name\u001b[49m\u001b[38;5;241;43m=\u001b[39;49m\u001b[43mname\u001b[49m\u001b[43m,\u001b[49m\u001b[43m \u001b[49m\u001b[43mkind\u001b[49m\u001b[38;5;241;43m=\u001b[39;49m\u001b[43meffective_kind\u001b[49m\n\u001b[1;32m    362\u001b[0m \u001b[43m\u001b[49m\u001b[43m)\u001b[49m\n\u001b[1;32m    363\u001b[0m \u001b[38;5;66;03m# we will not expose the safe_delete option unless users ask for it,\u001b[39;00m\n\u001b[1;32m    364\u001b[0m \u001b[38;5;66;03m# since they could delete tables that are input of other DPs\u001b[39;00m\n\u001b[1;32m    365\u001b[0m \u001b[38;5;28;01mreturn\u001b[39;00m \u001b[38;5;28mself\u001b[39m\u001b[38;5;241m.\u001b[39m_service_client\u001b[38;5;241m.\u001b[39mdataset_deprecate(dataset\u001b[38;5;241m.\u001b[39mid, safe_delete\u001b[38;5;241m=\u001b[39m\u001b[38;5;28;01mTrue\u001b[39;00m)\n",
      "File \u001b[0;32m~/Documents/repos/central-node/venvs/venv_data_mesh_t1/.venv/lib/python3.13/site-packages/declarative_dp_meshub_client/meshub_client/client.py:196\u001b[0m, in \u001b[0;36mMeshubApiClient.data_product_dataset\u001b[0;34m(self, data_product_id, dataset_name, kind)\u001b[0m\n\u001b[1;32m    195\u001b[0m \u001b[38;5;28;01mdef\u001b[39;00m\u001b[38;5;250m \u001b[39m\u001b[38;5;21mdata_product_dataset\u001b[39m(\u001b[38;5;28mself\u001b[39m, data_product_id, dataset_name, kind: DatasetKind) \u001b[38;5;241m-\u001b[39m\u001b[38;5;241m>\u001b[39m DatasetDto:\n\u001b[0;32m--> 196\u001b[0m     json_resp \u001b[38;5;241m=\u001b[39m \u001b[38;5;28;43mself\u001b[39;49m\u001b[38;5;241;43m.\u001b[39;49m\u001b[43m_call_api\u001b[49m\u001b[43m(\u001b[49m\n\u001b[1;32m    197\u001b[0m \u001b[43m        \u001b[49m\u001b[38;5;124;43mf\u001b[39;49m\u001b[38;5;124;43m\"\u001b[39;49m\u001b[38;5;124;43mdata-products/\u001b[39;49m\u001b[38;5;132;43;01m{\u001b[39;49;00m\u001b[43mdata_product_id\u001b[49m\u001b[38;5;132;43;01m}\u001b[39;49;00m\u001b[38;5;124;43m/datasets/\u001b[39;49m\u001b[38;5;132;43;01m{\u001b[39;49;00m\u001b[43mdataset_name\u001b[49m\u001b[38;5;132;43;01m}\u001b[39;49;00m\u001b[38;5;124;43m?kind=\u001b[39;49m\u001b[38;5;132;43;01m{\u001b[39;49;00m\u001b[43mkind\u001b[49m\u001b[38;5;241;43m.\u001b[39;49m\u001b[43mvalue\u001b[49m\u001b[38;5;132;43;01m}\u001b[39;49;00m\u001b[38;5;124;43m\"\u001b[39;49m\u001b[43m,\u001b[49m\u001b[43m \u001b[49m\u001b[43mmethod\u001b[49m\u001b[38;5;241;43m=\u001b[39;49m\u001b[38;5;124;43m\"\u001b[39;49m\u001b[38;5;124;43mGET\u001b[39;49m\u001b[38;5;124;43m\"\u001b[39;49m\n\u001b[1;32m    198\u001b[0m \u001b[43m    \u001b[49m\u001b[43m)\u001b[49m\n\u001b[1;32m    199\u001b[0m     \u001b[38;5;28;01mreturn\u001b[39;00m DtoFactory\u001b[38;5;241m.\u001b[39mcreate(\u001b[38;5;124m\"\u001b[39m\u001b[38;5;124mDatasetDto\u001b[39m\u001b[38;5;124m\"\u001b[39m, data\u001b[38;5;241m=\u001b[39mjson_resp)\n",
      "File \u001b[0;32m~/Documents/repos/central-node/venvs/venv_data_mesh_t1/.venv/lib/python3.13/site-packages/declarative_dp_meshub_client/meshub_client/client.py:77\u001b[0m, in \u001b[0;36mMeshubApiClient._call_api\u001b[0;34m(self, endpoint, method, json_body, params, headers, api_version)\u001b[0m\n\u001b[1;32m     75\u001b[0m r \u001b[38;5;241m=\u001b[39m \u001b[38;5;28mself\u001b[39m\u001b[38;5;241m.\u001b[39m_session\u001b[38;5;241m.\u001b[39mrequest(method\u001b[38;5;241m=\u001b[39mmethod, \u001b[38;5;241m*\u001b[39m\u001b[38;5;241m*\u001b[39mrequest_args)\n\u001b[1;32m     76\u001b[0m \u001b[38;5;66;03m# TODO check for 401 and retry the login flow.\u001b[39;00m\n\u001b[0;32m---> 77\u001b[0m \u001b[38;5;28;43mself\u001b[39;49m\u001b[38;5;241;43m.\u001b[39;49m\u001b[43m_raise_for_status\u001b[49m\u001b[43m(\u001b[49m\u001b[43mr\u001b[49m\u001b[43m)\u001b[49m\n\u001b[1;32m     78\u001b[0m \u001b[38;5;28;01mreturn\u001b[39;00m r\u001b[38;5;241m.\u001b[39mjson()\n",
      "File \u001b[0;32m~/Documents/repos/central-node/venvs/venv_data_mesh_t1/.venv/lib/python3.13/site-packages/declarative_dp_meshub_client/base_client/client.py:95\u001b[0m, in \u001b[0;36mBaseApiClient._raise_for_status\u001b[0;34m(self, response)\u001b[0m\n\u001b[1;32m     93\u001b[0m     http_error_msg \u001b[38;5;241m=\u001b[39m \u001b[38;5;124mf\u001b[39m\u001b[38;5;124m\"\u001b[39m\u001b[38;5;132;01m{\u001b[39;00mresponse\u001b[38;5;241m.\u001b[39mstatus_code\u001b[38;5;132;01m}\u001b[39;00m\u001b[38;5;124m Server Error for URL \u001b[39m\u001b[38;5;132;01m{\u001b[39;00mresponse\u001b[38;5;241m.\u001b[39murl\u001b[38;5;132;01m}\u001b[39;00m\u001b[38;5;124m: \u001b[39m\u001b[38;5;132;01m{\u001b[39;00mmessage\u001b[38;5;132;01m}\u001b[39;00m\u001b[38;5;124m - \u001b[39m\u001b[38;5;132;01m{\u001b[39;00mdetail\u001b[38;5;132;01m}\u001b[39;00m\u001b[38;5;124m\"\u001b[39m\n\u001b[1;32m     94\u001b[0m \u001b[38;5;28;01mif\u001b[39;00m http_error_msg:\n\u001b[0;32m---> 95\u001b[0m     \u001b[38;5;28;01mraise\u001b[39;00m HTTPError(http_error_msg, response\u001b[38;5;241m=\u001b[39m\u001b[38;5;28mself\u001b[39m)\n",
      "\u001b[0;31mHTTPError\u001b[0m: 404 Client Error for URL https://meshub-backend.g8s-data-platform-prod.glovoint.com/api/v1/data-products/da58da28-964f-4d88-b61b-fc018976e7ea/datasets/gfop_customers_info?kind=ODP: dataset_reference not found - {'resource': {'type': 'dataset_reference', 'identifiers': {'revision_id': 'None', 'dataset_name': 'gfop_customers_info', 'dataset_id': 'None', 'dataset_revision_id': 'None', 'data_product_id': 'da58da28-964f-4d88-b61b-fc018976e7ea'}, 'properties': {'kinds': \"[<DatasetKind.ODP: 'ODP'>]\", 'statuses': \"[<DatasetStatus.ACTIVE: 'ACTIVE'>]\"}}, 'search_criteria': [\"id='None'\"]}"
     ]
    }
   ],
   "source": [
    "data_product_manager.deprecate_dataset(TABLE, \"ODP\")"
   ]
  },
  {
   "cell_type": "markdown",
   "metadata": {},
   "source": [
    "# Deprecate internal tables"
   ]
  },
  {
   "cell_type": "code",
   "execution_count": 5,
   "metadata": {},
   "outputs": [],
   "source": [
    "TABLE = \"gfop_customers_info\""
   ]
  },
  {
   "cell_type": "code",
   "execution_count": 6,
   "metadata": {},
   "outputs": [
    {
     "ename": "HTTPError",
     "evalue": "404 Client Error for URL https://meshub-backend.g8s-data-platform-prod.glovoint.com/api/v1/data-products/da58da28-964f-4d88-b61b-fc018976e7ea/datasets/gfop_customers_info?kind=ODP: dataset_reference not found - {'resource': {'type': 'dataset_reference', 'identifiers': {'revision_id': 'None', 'dataset_name': 'gfop_customers_info', 'dataset_id': 'None', 'dataset_revision_id': 'None', 'data_product_id': 'da58da28-964f-4d88-b61b-fc018976e7ea'}, 'properties': {'kinds': \"[<DatasetKind.ODP: 'ODP'>]\", 'statuses': \"[<DatasetStatus.ACTIVE: 'ACTIVE'>]\"}}, 'search_criteria': [\"id='None'\"]}",
     "output_type": "error",
     "traceback": [
      "\u001b[0;31m---------------------------------------------------------------------------\u001b[0m",
      "\u001b[0;31mHTTPError\u001b[0m                                 Traceback (most recent call last)",
      "Cell \u001b[0;32mIn[6], line 1\u001b[0m\n\u001b[0;32m----> 1\u001b[0m \u001b[43mdata_product_manager\u001b[49m\u001b[38;5;241;43m.\u001b[39;49m\u001b[43mdeprecate_dataset\u001b[49m\u001b[43m(\u001b[49m\u001b[43mTABLE\u001b[49m\u001b[43m,\u001b[49m\u001b[43m \u001b[49m\u001b[38;5;124;43m\"\u001b[39;49m\u001b[38;5;124;43mODP\u001b[39;49m\u001b[38;5;124;43m\"\u001b[39;49m\u001b[43m)\u001b[49m\n",
      "File \u001b[0;32m~/Documents/repos/central-node/venvs/venv_data_mesh_t1/.venv/lib/python3.13/site-packages/declarative_dp_sdk/manager.py:360\u001b[0m, in \u001b[0;36mDataProductManager.deprecate_dataset\u001b[0;34m(self, name, kind)\u001b[0m\n\u001b[1;32m    358\u001b[0m effective_kind \u001b[38;5;241m=\u001b[39m DatasetKind(kind\u001b[38;5;241m.\u001b[39mupper() \u001b[38;5;28;01mif\u001b[39;00m \u001b[38;5;28misinstance\u001b[39m(kind, \u001b[38;5;28mstr\u001b[39m) \u001b[38;5;28;01melse\u001b[39;00m kind)\n\u001b[1;32m    359\u001b[0m data_product \u001b[38;5;241m=\u001b[39m \u001b[38;5;28mself\u001b[39m\u001b[38;5;241m.\u001b[39m_service_client\u001b[38;5;241m.\u001b[39mdomain_data_product(domain_name\u001b[38;5;241m=\u001b[39m\u001b[38;5;28mself\u001b[39m\u001b[38;5;241m.\u001b[39m_domain, data_product_name\u001b[38;5;241m=\u001b[39m\u001b[38;5;28mself\u001b[39m\u001b[38;5;241m.\u001b[39m_name)\n\u001b[0;32m--> 360\u001b[0m dataset \u001b[38;5;241m=\u001b[39m \u001b[38;5;28;43mself\u001b[39;49m\u001b[38;5;241;43m.\u001b[39;49m\u001b[43m_service_client\u001b[49m\u001b[38;5;241;43m.\u001b[39;49m\u001b[43mdata_product_dataset\u001b[49m\u001b[43m(\u001b[49m\n\u001b[1;32m    361\u001b[0m \u001b[43m    \u001b[49m\u001b[43mdata_product_id\u001b[49m\u001b[38;5;241;43m=\u001b[39;49m\u001b[43mdata_product\u001b[49m\u001b[38;5;241;43m.\u001b[39;49m\u001b[43mdata_product_id\u001b[49m\u001b[43m,\u001b[49m\u001b[43m \u001b[49m\u001b[43mdataset_name\u001b[49m\u001b[38;5;241;43m=\u001b[39;49m\u001b[43mname\u001b[49m\u001b[43m,\u001b[49m\u001b[43m \u001b[49m\u001b[43mkind\u001b[49m\u001b[38;5;241;43m=\u001b[39;49m\u001b[43meffective_kind\u001b[49m\n\u001b[1;32m    362\u001b[0m \u001b[43m\u001b[49m\u001b[43m)\u001b[49m\n\u001b[1;32m    363\u001b[0m \u001b[38;5;66;03m# we will not expose the safe_delete option unless users ask for it,\u001b[39;00m\n\u001b[1;32m    364\u001b[0m \u001b[38;5;66;03m# since they could delete tables that are input of other DPs\u001b[39;00m\n\u001b[1;32m    365\u001b[0m \u001b[38;5;28;01mreturn\u001b[39;00m \u001b[38;5;28mself\u001b[39m\u001b[38;5;241m.\u001b[39m_service_client\u001b[38;5;241m.\u001b[39mdataset_deprecate(dataset\u001b[38;5;241m.\u001b[39mid, safe_delete\u001b[38;5;241m=\u001b[39m\u001b[38;5;28;01mTrue\u001b[39;00m)\n",
      "File \u001b[0;32m~/Documents/repos/central-node/venvs/venv_data_mesh_t1/.venv/lib/python3.13/site-packages/declarative_dp_meshub_client/meshub_client/client.py:196\u001b[0m, in \u001b[0;36mMeshubApiClient.data_product_dataset\u001b[0;34m(self, data_product_id, dataset_name, kind)\u001b[0m\n\u001b[1;32m    195\u001b[0m \u001b[38;5;28;01mdef\u001b[39;00m\u001b[38;5;250m \u001b[39m\u001b[38;5;21mdata_product_dataset\u001b[39m(\u001b[38;5;28mself\u001b[39m, data_product_id, dataset_name, kind: DatasetKind) \u001b[38;5;241m-\u001b[39m\u001b[38;5;241m>\u001b[39m DatasetDto:\n\u001b[0;32m--> 196\u001b[0m     json_resp \u001b[38;5;241m=\u001b[39m \u001b[38;5;28;43mself\u001b[39;49m\u001b[38;5;241;43m.\u001b[39;49m\u001b[43m_call_api\u001b[49m\u001b[43m(\u001b[49m\n\u001b[1;32m    197\u001b[0m \u001b[43m        \u001b[49m\u001b[38;5;124;43mf\u001b[39;49m\u001b[38;5;124;43m\"\u001b[39;49m\u001b[38;5;124;43mdata-products/\u001b[39;49m\u001b[38;5;132;43;01m{\u001b[39;49;00m\u001b[43mdata_product_id\u001b[49m\u001b[38;5;132;43;01m}\u001b[39;49;00m\u001b[38;5;124;43m/datasets/\u001b[39;49m\u001b[38;5;132;43;01m{\u001b[39;49;00m\u001b[43mdataset_name\u001b[49m\u001b[38;5;132;43;01m}\u001b[39;49;00m\u001b[38;5;124;43m?kind=\u001b[39;49m\u001b[38;5;132;43;01m{\u001b[39;49;00m\u001b[43mkind\u001b[49m\u001b[38;5;241;43m.\u001b[39;49m\u001b[43mvalue\u001b[49m\u001b[38;5;132;43;01m}\u001b[39;49;00m\u001b[38;5;124;43m\"\u001b[39;49m\u001b[43m,\u001b[49m\u001b[43m \u001b[49m\u001b[43mmethod\u001b[49m\u001b[38;5;241;43m=\u001b[39;49m\u001b[38;5;124;43m\"\u001b[39;49m\u001b[38;5;124;43mGET\u001b[39;49m\u001b[38;5;124;43m\"\u001b[39;49m\n\u001b[1;32m    198\u001b[0m \u001b[43m    \u001b[49m\u001b[43m)\u001b[49m\n\u001b[1;32m    199\u001b[0m     \u001b[38;5;28;01mreturn\u001b[39;00m DtoFactory\u001b[38;5;241m.\u001b[39mcreate(\u001b[38;5;124m\"\u001b[39m\u001b[38;5;124mDatasetDto\u001b[39m\u001b[38;5;124m\"\u001b[39m, data\u001b[38;5;241m=\u001b[39mjson_resp)\n",
      "File \u001b[0;32m~/Documents/repos/central-node/venvs/venv_data_mesh_t1/.venv/lib/python3.13/site-packages/declarative_dp_meshub_client/meshub_client/client.py:77\u001b[0m, in \u001b[0;36mMeshubApiClient._call_api\u001b[0;34m(self, endpoint, method, json_body, params, headers, api_version)\u001b[0m\n\u001b[1;32m     75\u001b[0m r \u001b[38;5;241m=\u001b[39m \u001b[38;5;28mself\u001b[39m\u001b[38;5;241m.\u001b[39m_session\u001b[38;5;241m.\u001b[39mrequest(method\u001b[38;5;241m=\u001b[39mmethod, \u001b[38;5;241m*\u001b[39m\u001b[38;5;241m*\u001b[39mrequest_args)\n\u001b[1;32m     76\u001b[0m \u001b[38;5;66;03m# TODO check for 401 and retry the login flow.\u001b[39;00m\n\u001b[0;32m---> 77\u001b[0m \u001b[38;5;28;43mself\u001b[39;49m\u001b[38;5;241;43m.\u001b[39;49m\u001b[43m_raise_for_status\u001b[49m\u001b[43m(\u001b[49m\u001b[43mr\u001b[49m\u001b[43m)\u001b[49m\n\u001b[1;32m     78\u001b[0m \u001b[38;5;28;01mreturn\u001b[39;00m r\u001b[38;5;241m.\u001b[39mjson()\n",
      "File \u001b[0;32m~/Documents/repos/central-node/venvs/venv_data_mesh_t1/.venv/lib/python3.13/site-packages/declarative_dp_meshub_client/base_client/client.py:95\u001b[0m, in \u001b[0;36mBaseApiClient._raise_for_status\u001b[0;34m(self, response)\u001b[0m\n\u001b[1;32m     93\u001b[0m     http_error_msg \u001b[38;5;241m=\u001b[39m \u001b[38;5;124mf\u001b[39m\u001b[38;5;124m\"\u001b[39m\u001b[38;5;132;01m{\u001b[39;00mresponse\u001b[38;5;241m.\u001b[39mstatus_code\u001b[38;5;132;01m}\u001b[39;00m\u001b[38;5;124m Server Error for URL \u001b[39m\u001b[38;5;132;01m{\u001b[39;00mresponse\u001b[38;5;241m.\u001b[39murl\u001b[38;5;132;01m}\u001b[39;00m\u001b[38;5;124m: \u001b[39m\u001b[38;5;132;01m{\u001b[39;00mmessage\u001b[38;5;132;01m}\u001b[39;00m\u001b[38;5;124m - \u001b[39m\u001b[38;5;132;01m{\u001b[39;00mdetail\u001b[38;5;132;01m}\u001b[39;00m\u001b[38;5;124m\"\u001b[39m\n\u001b[1;32m     94\u001b[0m \u001b[38;5;28;01mif\u001b[39;00m http_error_msg:\n\u001b[0;32m---> 95\u001b[0m     \u001b[38;5;28;01mraise\u001b[39;00m HTTPError(http_error_msg, response\u001b[38;5;241m=\u001b[39m\u001b[38;5;28mself\u001b[39m)\n",
      "\u001b[0;31mHTTPError\u001b[0m: 404 Client Error for URL https://meshub-backend.g8s-data-platform-prod.glovoint.com/api/v1/data-products/da58da28-964f-4d88-b61b-fc018976e7ea/datasets/gfop_customers_info?kind=ODP: dataset_reference not found - {'resource': {'type': 'dataset_reference', 'identifiers': {'revision_id': 'None', 'dataset_name': 'gfop_customers_info', 'dataset_id': 'None', 'dataset_revision_id': 'None', 'data_product_id': 'da58da28-964f-4d88-b61b-fc018976e7ea'}, 'properties': {'kinds': \"[<DatasetKind.ODP: 'ODP'>]\", 'statuses': \"[<DatasetStatus.ACTIVE: 'ACTIVE'>]\"}}, 'search_criteria': [\"id='None'\"]}"
     ]
    }
   ],
   "source": [
    "data_product_manager.deprecate_dataset(TABLE, \"ODP\")"
   ]
  },
  {
   "cell_type": "markdown",
   "metadata": {},
   "source": [
    "# Deprecate the DP"
   ]
  },
  {
   "cell_type": "code",
   "execution_count": 21,
   "metadata": {},
   "outputs": [
    {
     "ename": "HTTPError",
     "evalue": "422 Client Error for URL https://meshub-backend.g8s-data-platform-prod.glovoint.com/api/v1/data-products/da58da28-964f-4d88-b61b-fc018976e7ea/deprecate: cannot deprecate published revision: expecting status ACTIVE but found DECOMMISSIONED - {'resource': {'type': 'revision', 'identifiers': {'id': 'ad6bf760-e090-4e51-8d31-d386d8348def'}, 'properties': {'data_product_domain_id': '304e30dd-0166-4975-9566-617756164c22', 'data_product_name': 'gfop_customers_dp'}}}",
     "output_type": "error",
     "traceback": [
      "\u001b[0;31m---------------------------------------------------------------------------\u001b[0m",
      "\u001b[0;31mHTTPError\u001b[0m                                 Traceback (most recent call last)",
      "Cell \u001b[0;32mIn[21], line 1\u001b[0m\n\u001b[0;32m----> 1\u001b[0m \u001b[43mdata_product_manager\u001b[49m\u001b[38;5;241;43m.\u001b[39;49m\u001b[43mdeprecate_published_data_product\u001b[49m\u001b[43m(\u001b[49m\u001b[43m)\u001b[49m\n",
      "File \u001b[0;32m~/Documents/repos/central-node/venvs/venv_data_mesh_t1/.venv/lib/python3.13/site-packages/declarative_dp_sdk/manager.py:235\u001b[0m, in \u001b[0;36mDataProductManager.deprecate_published_data_product\u001b[0;34m(self, decommission)\u001b[0m\n\u001b[1;32m    230\u001b[0m effective_decommission \u001b[38;5;241m=\u001b[39m decommission \u001b[38;5;129;01mor\u001b[39;00m DecommissionInfoDto(\n\u001b[1;32m    231\u001b[0m     decommission_at\u001b[38;5;241m=\u001b[39mdatetime\u001b[38;5;241m.\u001b[39mnow(tz\u001b[38;5;241m=\u001b[39mtimezone\u001b[38;5;241m.\u001b[39mutc), strategy\u001b[38;5;241m=\u001b[39mDecommissionStrategy\u001b[38;5;241m.\u001b[39mARCHIVE\n\u001b[1;32m    232\u001b[0m )\n\u001b[1;32m    234\u001b[0m dp \u001b[38;5;241m=\u001b[39m \u001b[38;5;28mself\u001b[39m\u001b[38;5;241m.\u001b[39m_service_client\u001b[38;5;241m.\u001b[39mdomain_data_product(\u001b[38;5;28mself\u001b[39m\u001b[38;5;241m.\u001b[39m_domain, \u001b[38;5;28mself\u001b[39m\u001b[38;5;241m.\u001b[39m_name)\n\u001b[0;32m--> 235\u001b[0m \u001b[38;5;28;01mreturn\u001b[39;00m \u001b[38;5;28;43mself\u001b[39;49m\u001b[38;5;241;43m.\u001b[39;49m\u001b[43m_service_client\u001b[49m\u001b[38;5;241;43m.\u001b[39;49m\u001b[43mdata_product_deprecate\u001b[49m\u001b[43m(\u001b[49m\u001b[43mdp\u001b[49m\u001b[38;5;241;43m.\u001b[39;49m\u001b[43mdata_product_id\u001b[49m\u001b[43m,\u001b[49m\u001b[43m \u001b[49m\u001b[43meffective_decommission\u001b[49m\u001b[43m)\u001b[49m\n",
      "File \u001b[0;32m~/Documents/repos/central-node/venvs/venv_data_mesh_t1/.venv/lib/python3.13/site-packages/declarative_dp_meshub_client/meshub_client/client.py:188\u001b[0m, in \u001b[0;36mMeshubApiClient.data_product_deprecate\u001b[0;34m(self, data_product_id, decommission_dto)\u001b[0m\n\u001b[1;32m    186\u001b[0m method \u001b[38;5;241m=\u001b[39m \u001b[38;5;124m\"\u001b[39m\u001b[38;5;124mPOST\u001b[39m\u001b[38;5;124m\"\u001b[39m\n\u001b[1;32m    187\u001b[0m api_version \u001b[38;5;241m=\u001b[39m get_api_version(method, endpoint)\n\u001b[0;32m--> 188\u001b[0m json_resp \u001b[38;5;241m=\u001b[39m \u001b[38;5;28;43mself\u001b[39;49m\u001b[38;5;241;43m.\u001b[39;49m\u001b[43m_call_api\u001b[49m\u001b[43m(\u001b[49m\u001b[43mendpoint\u001b[49m\u001b[43m,\u001b[49m\u001b[43m \u001b[49m\u001b[43mmethod\u001b[49m\u001b[43m,\u001b[49m\u001b[43m \u001b[49m\u001b[43m_to_json\u001b[49m\u001b[43m(\u001b[49m\u001b[43mdecommission_dto\u001b[49m\u001b[43m)\u001b[49m\u001b[43m,\u001b[49m\u001b[43m \u001b[49m\u001b[43mapi_version\u001b[49m\u001b[38;5;241;43m=\u001b[39;49m\u001b[43mapi_version\u001b[49m\u001b[43m)\u001b[49m\n\u001b[1;32m    189\u001b[0m \u001b[38;5;28;01mreturn\u001b[39;00m DtoFactory\u001b[38;5;241m.\u001b[39mcreate(\u001b[38;5;124m\"\u001b[39m\u001b[38;5;124mDataProductRevisionDto\u001b[39m\u001b[38;5;124m\"\u001b[39m, data\u001b[38;5;241m=\u001b[39mjson_resp, api_version\u001b[38;5;241m=\u001b[39mapi_version)\n",
      "File \u001b[0;32m~/Documents/repos/central-node/venvs/venv_data_mesh_t1/.venv/lib/python3.13/site-packages/declarative_dp_meshub_client/meshub_client/client.py:77\u001b[0m, in \u001b[0;36mMeshubApiClient._call_api\u001b[0;34m(self, endpoint, method, json_body, params, headers, api_version)\u001b[0m\n\u001b[1;32m     75\u001b[0m r \u001b[38;5;241m=\u001b[39m \u001b[38;5;28mself\u001b[39m\u001b[38;5;241m.\u001b[39m_session\u001b[38;5;241m.\u001b[39mrequest(method\u001b[38;5;241m=\u001b[39mmethod, \u001b[38;5;241m*\u001b[39m\u001b[38;5;241m*\u001b[39mrequest_args)\n\u001b[1;32m     76\u001b[0m \u001b[38;5;66;03m# TODO check for 401 and retry the login flow.\u001b[39;00m\n\u001b[0;32m---> 77\u001b[0m \u001b[38;5;28;43mself\u001b[39;49m\u001b[38;5;241;43m.\u001b[39;49m\u001b[43m_raise_for_status\u001b[49m\u001b[43m(\u001b[49m\u001b[43mr\u001b[49m\u001b[43m)\u001b[49m\n\u001b[1;32m     78\u001b[0m \u001b[38;5;28;01mreturn\u001b[39;00m r\u001b[38;5;241m.\u001b[39mjson()\n",
      "File \u001b[0;32m~/Documents/repos/central-node/venvs/venv_data_mesh_t1/.venv/lib/python3.13/site-packages/declarative_dp_meshub_client/base_client/client.py:95\u001b[0m, in \u001b[0;36mBaseApiClient._raise_for_status\u001b[0;34m(self, response)\u001b[0m\n\u001b[1;32m     93\u001b[0m     http_error_msg \u001b[38;5;241m=\u001b[39m \u001b[38;5;124mf\u001b[39m\u001b[38;5;124m\"\u001b[39m\u001b[38;5;132;01m{\u001b[39;00mresponse\u001b[38;5;241m.\u001b[39mstatus_code\u001b[38;5;132;01m}\u001b[39;00m\u001b[38;5;124m Server Error for URL \u001b[39m\u001b[38;5;132;01m{\u001b[39;00mresponse\u001b[38;5;241m.\u001b[39murl\u001b[38;5;132;01m}\u001b[39;00m\u001b[38;5;124m: \u001b[39m\u001b[38;5;132;01m{\u001b[39;00mmessage\u001b[38;5;132;01m}\u001b[39;00m\u001b[38;5;124m - \u001b[39m\u001b[38;5;132;01m{\u001b[39;00mdetail\u001b[38;5;132;01m}\u001b[39;00m\u001b[38;5;124m\"\u001b[39m\n\u001b[1;32m     94\u001b[0m \u001b[38;5;28;01mif\u001b[39;00m http_error_msg:\n\u001b[0;32m---> 95\u001b[0m     \u001b[38;5;28;01mraise\u001b[39;00m HTTPError(http_error_msg, response\u001b[38;5;241m=\u001b[39m\u001b[38;5;28mself\u001b[39m)\n",
      "\u001b[0;31mHTTPError\u001b[0m: 422 Client Error for URL https://meshub-backend.g8s-data-platform-prod.glovoint.com/api/v1/data-products/da58da28-964f-4d88-b61b-fc018976e7ea/deprecate: cannot deprecate published revision: expecting status ACTIVE but found DECOMMISSIONED - {'resource': {'type': 'revision', 'identifiers': {'id': 'ad6bf760-e090-4e51-8d31-d386d8348def'}, 'properties': {'data_product_domain_id': '304e30dd-0166-4975-9566-617756164c22', 'data_product_name': 'gfop_customers_dp'}}}"
     ]
    }
   ],
   "source": [
    "data_product_manager.deprecate_published_data_product()"
   ]
  }
 ],
 "metadata": {
  "kernelspec": {
   "display_name": "venv_data_mesh_t1",
   "language": "python",
   "name": "venv_data_mesh_t1"
  },
  "language_info": {
   "codemirror_mode": {
    "name": "ipython",
    "version": 3
   },
   "file_extension": ".py",
   "mimetype": "text/x-python",
   "name": "python",
   "nbconvert_exporter": "python",
   "pygments_lexer": "ipython3",
   "version": "3.13.0"
  }
 },
 "nbformat": 4,
 "nbformat_minor": 2
}
