{
 "cells": [
  {
   "cell_type": "markdown",
   "metadata": {},
   "source": [
    "# Plot animation"
   ]
  },
  {
   "cell_type": "code",
   "execution_count": 1,
   "metadata": {},
   "outputs": [],
   "source": [
    "import matplotlib.pyplot as plt\n",
    "import os\n",
    "import pandas as pd\n",
    "import seaborn as sns\n",
    "import sys\n",
    "\n",
    "# Move two levels up (to the project root) and append the `src` folder\n",
    "src_path = os.path.abspath(os.path.join(os.getcwd(), '..', '..'))\n",
    "\n",
    "# Append src to sys.path\n",
    "sys.path.append(src_path)\n",
    "\n",
    "from src import query_engines, dataframe_visualizer, dataframe_movie\n",
    "\n",
    "q = query_engines.QueryEngines()"
   ]
  },
  {
   "cell_type": "markdown",
   "metadata": {},
   "source": [
    "# Query"
   ]
  },
  {
   "cell_type": "markdown",
   "metadata": {},
   "source": [
    "# Temporal evolution"
   ]
  },
  {
   "cell_type": "code",
   "execution_count": 2,
   "metadata": {},
   "outputs": [],
   "source": [
    "START_DATE = \"'2024-01-01'\"\n",
    "END_DATE = \"'2024-08-01'\"\n",
    "\n",
    "params = [\n",
    "    {'name':'start_date', 'value': str(START_DATE)},\n",
    "    {'name':'end_date', 'value': str(END_DATE)}\n",
    "]\n",
    "\n",
    "q.prepare_query(\n",
    "    'plot_animation.sql'\n",
    "    ,params=params\n",
    "    ,to_load_file='plot_animation'\n",
    "    ,load_from_to_load_file='plot_animation'\n",
    ")\n",
    "\n",
    "orders  = q.query_run_starburst()\n",
    "\n",
    "orders['p_creation_date'] = pd.to_datetime(orders['p_creation_date'])"
   ]
  },
  {
   "cell_type": "code",
   "execution_count": 3,
   "metadata": {},
   "outputs": [
    {
     "name": "stdout",
     "output_type": "stream",
     "text": [
      "Animation saved as movies/temporal evolution.gif\n"
     ]
    }
   ],
   "source": [
    "DURATION_PER_FRAME = 1000\n",
    "N_SPLITS = 10\n",
    "LENGTH = 20\n",
    "HEIGHT = 10\n",
    "\n",
    "m = dataframe_movie.DataFrameMovie(orders)\n",
    "orders = m.create_m_splits('p_creation_date', N_SPLITS)\n",
    "m = dataframe_movie.DataFrameMovie(orders)\n",
    "\n",
    "plot_params = {\n",
    "    'x_column': 'p_creation_date',\n",
    "    'y_columns': ['n_customers','n_orders'],\n",
    "    'styles': ['-','-'],\n",
    "}\n",
    "\n",
    "# Animate the movie using the plot type 'multiple_variable_lineplot'\n",
    "m.animate_movie(\n",
    "    plot_type='movie_multiple_variable_lineplot',\n",
    "    plot_params=plot_params,\n",
    "    duration_per_frame=DURATION_PER_FRAME,\n",
    "    output_filename='temporal evolution',\n",
    "    fig_length=LENGTH,\n",
    "    fig_height=HEIGHT,\n",
    "    y_min=0,\n",
    ")"
   ]
  },
  {
   "cell_type": "markdown",
   "metadata": {},
   "source": [
    "# Categories"
   ]
  },
  {
   "cell_type": "code",
   "execution_count": 5,
   "metadata": {},
   "outputs": [],
   "source": [
    "START_DATE = \"'2024-01-01'\"\n",
    "END_DATE = \"'2024-08-01'\"\n",
    "\n",
    "params = [\n",
    "    {'name':'start_date', 'value': str(START_DATE)},\n",
    "    {'name':'end_date', 'value': str(END_DATE)}\n",
    "]\n",
    "\n",
    "q.prepare_query(\n",
    "    'plot_animation_v2.sql'\n",
    "    ,params=params\n",
    "    ,to_load_file='plot_animation_v2'\n",
    "    ,load_from_to_load_file='plot_animation_v2'\n",
    ")\n",
    "\n",
    "countries  = q.query_run_starburst()"
   ]
  },
  {
   "cell_type": "code",
   "execution_count": 6,
   "metadata": {},
   "outputs": [
    {
     "name": "stdout",
     "output_type": "stream",
     "text": [
      "Animation saved as movies/country evolution.gif\n"
     ]
    }
   ],
   "source": [
    "DURATION_PER_FRAME = 1000\n",
    "LENGTH = 20\n",
    "HEIGHT = 10\n",
    "\n",
    "m = dataframe_movie.DataFrameMovie(countries)\n",
    "countries = m.create_m_splits_by_category('order_country_code')\n",
    "m = dataframe_movie.DataFrameMovie(countries)\n",
    "\n",
    "plot_params = {\n",
    "    'x_column': 'order_country_code',\n",
    "    'y_columns': ['n_customers','n_orders'],\n",
    "    'styles': ['-','-'],\n",
    "}\n",
    "\n",
    "# Animate the movie using the plot type 'multiple_variable_lineplot'\n",
    "m.animate_movie(\n",
    "    plot_type='movie_multiple_variable_lineplot',\n",
    "    plot_params=plot_params,\n",
    "    duration_per_frame=DURATION_PER_FRAME,\n",
    "    output_filename='country evolution',\n",
    "    fig_length=LENGTH,\n",
    "    fig_height=HEIGHT,\n",
    "    y_min=0,\n",
    ")"
   ]
  },
  {
   "cell_type": "markdown",
   "metadata": {},
   "source": [
    "# Temporal evolution with goal"
   ]
  },
  {
   "cell_type": "code",
   "execution_count": 4,
   "metadata": {},
   "outputs": [],
   "source": [
    "START_DATE = \"'2016-01-01'\"\n",
    "END_DATE = \"'2024-09-01'\"\n",
    "\n",
    "params = [\n",
    "    {'name':'start_date', 'value': str(START_DATE)},\n",
    "    {'name':'end_date', 'value': str(END_DATE)}\n",
    "]\n",
    "\n",
    "q.prepare_query(\n",
    "    'plot_animation_v3.sql'\n",
    "    ,params=params\n",
    "    ,to_load_file='plot_animation_v3'\n",
    "    ,load_from_to_load_file='plot_animation_v3'\n",
    ")\n",
    "\n",
    "goal  = q.query_run_starburst()\n",
    "\n",
    "goal['p_creation_date'] = pd.to_datetime(goal['p_creation_date'])"
   ]
  },
  {
   "cell_type": "code",
   "execution_count": 6,
   "metadata": {},
   "outputs": [
    {
     "name": "stdout",
     "output_type": "stream",
     "text": [
      "Animation saved as movies/temporal evolution goal.gif\n"
     ]
    }
   ],
   "source": [
    "goal['n_ordres_cum'] = goal['n_orders'].cumsum()\n",
    "goal['goal'] = 1000000000\n",
    "\n",
    "DURATION_PER_FRAME = 25\n",
    "N_SPLITS = 974\n",
    "LENGTH = 20\n",
    "HEIGHT = 10\n",
    "\n",
    "m = dataframe_movie.DataFrameMovie(goal)\n",
    "goal = m.create_m_splits('p_creation_date', N_SPLITS)\n",
    "m = dataframe_movie.DataFrameMovie(goal)\n",
    "\n",
    "plot_params = {\n",
    "    'x_column': 'p_creation_date',\n",
    "    'y_columns': ['n_ordres_cum','goal'],\n",
    "    'styles': ['-',':'],\n",
    "}\n",
    "\n",
    "# Animate the movie using the plot type 'multiple_variable_lineplot'\n",
    "m.animate_movie(\n",
    "    plot_type='movie_multiple_variable_lineplot',\n",
    "    plot_params=plot_params,\n",
    "    duration_per_frame=DURATION_PER_FRAME,\n",
    "    output_filename='temporal evolution goal',\n",
    "    fig_length=LENGTH,\n",
    "    fig_height=HEIGHT,\n",
    "    y_min=0,\n",
    "    y_max=1200000000,\n",
    "    icon_path='icons/rocket2.png'\n",
    "    icon_zoom=0.3\n",
    ")"
   ]
  }
 ],
 "metadata": {
  "kernelspec": {
   "display_name": "venv",
   "language": "python",
   "name": "python3"
  },
  "language_info": {
   "codemirror_mode": {
    "name": "ipython",
    "version": 3
   },
   "file_extension": ".py",
   "mimetype": "text/x-python",
   "name": "python",
   "nbconvert_exporter": "python",
   "pygments_lexer": "ipython3",
   "version": "3.12.6"
  }
 },
 "nbformat": 4,
 "nbformat_minor": 2
}
