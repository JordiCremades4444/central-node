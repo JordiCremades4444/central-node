{
 "cells": [
  {
   "cell_type": "markdown",
   "metadata": {},
   "source": [
    "# Debug Looker"
   ]
  },
  {
   "cell_type": "code",
   "execution_count": 2,
   "metadata": {},
   "outputs": [],
   "source": [
    "import os\n",
    "import pandas as pd\n",
    "import sys\n",
    "\n",
    "src_path = os.path.join(os.path.join(os.getcwd(), '..', '..'))\n",
    "sys.path.append(src_path)\n",
    "\n",
    "from src import query_engines, dataframe_visualizer\n",
    "\n",
    "q = query_engines.QueryEngines()"
   ]
  },
  {
   "cell_type": "markdown",
   "metadata": {},
   "source": [
    "# Check 1: Ordres appear both in OD and Instructions"
   ]
  },
  {
   "cell_type": "code",
   "execution_count": 6,
   "metadata": {},
   "outputs": [
    {
     "name": "stdout",
     "output_type": "stream",
     "text": [
      "Open the following URL in browser for the external authentication:\n",
      "https://starburst.g8s-data-platform-prod.glovoint.com/oauth2/token/initiate/271d09ccfd0b500409d8d8a5fbeb538471d79e498065ed413d28b106d3c05da6\n"
     ]
    }
   ],
   "source": [
    "QUERY_NAME = 'debug_check_1.sql' # With sql\n",
    "START_DATE = \"'2025-01-17'\"\n",
    "END_DATE = \"'2025-01-19'\"\n",
    "\n",
    "params = [\n",
    "    {'name':'start_date', 'value': str(START_DATE)},\n",
    "    {'name':'end_date', 'value': str(END_DATE)}\n",
    "]\n",
    "\n",
    "q.prepare_query(\n",
    "    QUERY_NAME\n",
    "    ,params=params\n",
    "    ,to_load_file=QUERY_NAME\n",
    "    ,load_from_to_load_file=None\n",
    "    \n",
    ")\n",
    "\n",
    "df  = q.query_run_starburst()"
   ]
  },
  {
   "cell_type": "code",
   "execution_count": 7,
   "metadata": {},
   "outputs": [
    {
     "data": {
      "text/html": [
       "<div>\n",
       "<style scoped>\n",
       "    .dataframe tbody tr th:only-of-type {\n",
       "        vertical-align: middle;\n",
       "    }\n",
       "\n",
       "    .dataframe tbody tr th {\n",
       "        vertical-align: top;\n",
       "    }\n",
       "\n",
       "    .dataframe thead th {\n",
       "        text-align: right;\n",
       "    }\n",
       "</style>\n",
       "<table border=\"1\" class=\"dataframe\">\n",
       "  <thead>\n",
       "    <tr style=\"text-align: right;\">\n",
       "      <th></th>\n",
       "      <th>order_id_od</th>\n",
       "      <th>order_id_pri</th>\n",
       "    </tr>\n",
       "  </thead>\n",
       "  <tbody>\n",
       "    <tr>\n",
       "      <th>0</th>\n",
       "      <td>101156441434</td>\n",
       "      <td>1.011564e+11</td>\n",
       "    </tr>\n",
       "    <tr>\n",
       "      <th>1</th>\n",
       "      <td>101156566427</td>\n",
       "      <td>NaN</td>\n",
       "    </tr>\n",
       "    <tr>\n",
       "      <th>2</th>\n",
       "      <td>101153570088</td>\n",
       "      <td>1.011536e+11</td>\n",
       "    </tr>\n",
       "    <tr>\n",
       "      <th>3</th>\n",
       "      <td>101151004261</td>\n",
       "      <td>1.011510e+11</td>\n",
       "    </tr>\n",
       "    <tr>\n",
       "      <th>4</th>\n",
       "      <td>101150985922</td>\n",
       "      <td>1.011510e+11</td>\n",
       "    </tr>\n",
       "    <tr>\n",
       "      <th>...</th>\n",
       "      <td>...</td>\n",
       "      <td>...</td>\n",
       "    </tr>\n",
       "    <tr>\n",
       "      <th>530</th>\n",
       "      <td>101155748437</td>\n",
       "      <td>1.011557e+11</td>\n",
       "    </tr>\n",
       "    <tr>\n",
       "      <th>531</th>\n",
       "      <td>101157015763</td>\n",
       "      <td>1.011570e+11</td>\n",
       "    </tr>\n",
       "    <tr>\n",
       "      <th>532</th>\n",
       "      <td>101153752203</td>\n",
       "      <td>1.011538e+11</td>\n",
       "    </tr>\n",
       "    <tr>\n",
       "      <th>533</th>\n",
       "      <td>101150858909</td>\n",
       "      <td>1.011509e+11</td>\n",
       "    </tr>\n",
       "    <tr>\n",
       "      <th>534</th>\n",
       "      <td>101150195566</td>\n",
       "      <td>1.011502e+11</td>\n",
       "    </tr>\n",
       "  </tbody>\n",
       "</table>\n",
       "<p>535 rows × 2 columns</p>\n",
       "</div>"
      ],
      "text/plain": [
       "      order_id_od  order_id_pri\n",
       "0    101156441434  1.011564e+11\n",
       "1    101156566427           NaN\n",
       "2    101153570088  1.011536e+11\n",
       "3    101151004261  1.011510e+11\n",
       "4    101150985922  1.011510e+11\n",
       "..            ...           ...\n",
       "530  101155748437  1.011557e+11\n",
       "531  101157015763  1.011570e+11\n",
       "532  101153752203  1.011538e+11\n",
       "533  101150858909  1.011509e+11\n",
       "534  101150195566  1.011502e+11\n",
       "\n",
       "[535 rows x 2 columns]"
      ]
     },
     "execution_count": 7,
     "metadata": {},
     "output_type": "execute_result"
    }
   ],
   "source": [
    "df"
   ]
  },
  {
   "cell_type": "code",
   "execution_count": 10,
   "metadata": {},
   "outputs": [
    {
     "data": {
      "text/html": [
       "<div>\n",
       "<style scoped>\n",
       "    .dataframe tbody tr th:only-of-type {\n",
       "        vertical-align: middle;\n",
       "    }\n",
       "\n",
       "    .dataframe tbody tr th {\n",
       "        vertical-align: top;\n",
       "    }\n",
       "\n",
       "    .dataframe thead th {\n",
       "        text-align: right;\n",
       "    }\n",
       "</style>\n",
       "<table border=\"1\" class=\"dataframe\">\n",
       "  <thead>\n",
       "    <tr style=\"text-align: right;\">\n",
       "      <th></th>\n",
       "      <th>order_id_od</th>\n",
       "      <th>order_id_pri</th>\n",
       "    </tr>\n",
       "  </thead>\n",
       "  <tbody>\n",
       "    <tr>\n",
       "      <th>1</th>\n",
       "      <td>101156566427</td>\n",
       "      <td>NaN</td>\n",
       "    </tr>\n",
       "    <tr>\n",
       "      <th>33</th>\n",
       "      <td>101156962054</td>\n",
       "      <td>NaN</td>\n",
       "    </tr>\n",
       "    <tr>\n",
       "      <th>48</th>\n",
       "      <td>101150694006</td>\n",
       "      <td>NaN</td>\n",
       "    </tr>\n",
       "    <tr>\n",
       "      <th>148</th>\n",
       "      <td>101150622549</td>\n",
       "      <td>NaN</td>\n",
       "    </tr>\n",
       "    <tr>\n",
       "      <th>192</th>\n",
       "      <td>101152801912</td>\n",
       "      <td>NaN</td>\n",
       "    </tr>\n",
       "    <tr>\n",
       "      <th>352</th>\n",
       "      <td>101156481410</td>\n",
       "      <td>NaN</td>\n",
       "    </tr>\n",
       "    <tr>\n",
       "      <th>481</th>\n",
       "      <td>101152862046</td>\n",
       "      <td>NaN</td>\n",
       "    </tr>\n",
       "  </tbody>\n",
       "</table>\n",
       "</div>"
      ],
      "text/plain": [
       "      order_id_od  order_id_pri\n",
       "1    101156566427           NaN\n",
       "33   101156962054           NaN\n",
       "48   101150694006           NaN\n",
       "148  101150622549           NaN\n",
       "192  101152801912           NaN\n",
       "352  101156481410           NaN\n",
       "481  101152862046           NaN"
      ]
     },
     "execution_count": 10,
     "metadata": {},
     "output_type": "execute_result"
    }
   ],
   "source": [
    "# Find the rows were thhe order_id_pri is null\n",
    "df[df['order_id_pri'].isnull()]"
   ]
  },
  {
   "cell_type": "code",
   "execution_count": null,
   "metadata": {},
   "outputs": [],
   "source": [
    "# The problem is clear with REMAKES. The customer places the order and an order_id is created. But then, when the order is remade, the order_id \n",
    "# does not appear in the instructions table, so we lose the reference to the original order.\n",
    "\n",
    "# We should understand the process of remakes and how the order_id is generated and stored in the database."
   ]
  }
 ],
 "metadata": {
  "kernelspec": {
   "display_name": "venv_scientist",
   "language": "python",
   "name": "venv_scientist"
  },
  "language_info": {
   "codemirror_mode": {
    "name": "ipython",
    "version": 3
   },
   "file_extension": ".py",
   "mimetype": "text/x-python",
   "name": "python",
   "nbconvert_exporter": "python",
   "pygments_lexer": "ipython3",
   "version": "3.13.0"
  }
 },
 "nbformat": 4,
 "nbformat_minor": 2
}
