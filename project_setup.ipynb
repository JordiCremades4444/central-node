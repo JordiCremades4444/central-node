{
 "cells": [
  {
   "cell_type": "markdown",
   "metadata": {},
   "source": [
    "# Project initiator"
   ]
  },
  {
   "cell_type": "code",
   "execution_count": 1,
   "metadata": {},
   "outputs": [],
   "source": [
    "from utils import project_setup"
   ]
  },
  {
   "cell_type": "code",
   "execution_count": 3,
   "metadata": {},
   "outputs": [
    {
     "name": "stdout",
     "output_type": "stream",
     "text": [
      "c:\\Users\\Jordi Cremades\\Documents\\Repos\\analysis\\analysis\\tmp\\test_2024\n",
      "It already exists!\n"
     ]
    }
   ],
   "source": [
    "MAIN_FOLDER = 'analysis\\\\tmp' # i.e: analysis\\\\spm_performance or playground\\\\test_queries\n",
    "SUB_FOLDER = 'test'\n",
    "VERSION = 'default_playground'\n",
    "\n",
    "params = {\n",
    "    'inputs': True,\n",
    "    'outputs': True,\n",
    "    'queries': True,\n",
    "    'version': VERSION\n",
    "}\n",
    "\n",
    "setup = project_setup.Setup(MAIN_FOLDER,SUB_FOLDER,params=params)\n",
    "setup.create()"
   ]
  }
 ],
 "metadata": {
  "kernelspec": {
   "display_name": ".venv",
   "language": "python",
   "name": "python3"
  },
  "language_info": {
   "codemirror_mode": {
    "name": "ipython",
    "version": 3
   },
   "file_extension": ".py",
   "mimetype": "text/x-python",
   "name": "python",
   "nbconvert_exporter": "python",
   "pygments_lexer": "ipython3",
   "version": "3.12.0"
  }
 },
 "nbformat": 4,
 "nbformat_minor": 2
}
